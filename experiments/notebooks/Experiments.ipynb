{
 "cells": [
  {
   "attachments": {},
   "cell_type": "markdown",
   "metadata": {},
   "source": [
    "# Experiments"
   ]
  },
  {
   "cell_type": "code",
   "execution_count": 1,
   "metadata": {},
   "outputs": [],
   "source": [
    "%load_ext autoreload\n",
    "%autoreload 2"
   ]
  },
  {
   "cell_type": "code",
   "execution_count": 8,
   "metadata": {},
   "outputs": [],
   "source": [
    "import sys\n",
    "\n",
    "sys.path.append('../../')\n",
    "sys.path.append('../../src/')\n",
    "\n",
    "from experiments import experiments as exp"
   ]
  },
  {
   "cell_type": "code",
   "execution_count": 16,
   "metadata": {},
   "outputs": [],
   "source": [
    "config = exp.load_yaml_file(\"../config.yml\")\n",
    "experiments = config[\"experiments\"]"
   ]
  },
  {
   "cell_type": "code",
   "execution_count": null,
   "metadata": {},
   "outputs": [],
   "source": []
  },
  {
   "cell_type": "code",
   "execution_count": 23,
   "metadata": {},
   "outputs": [],
   "source": [
    "experiment = exp.ExperimentManager(experiments[0])"
   ]
  },
  {
   "cell_type": "code",
   "execution_count": 25,
   "metadata": {},
   "outputs": [
    {
     "name": "stderr",
     "output_type": "stream",
     "text": [
      "12:26:43 - Loading model...\n",
      "12:26:43 - Loading dataset...\n",
      "12:26:43 - Evaluating original model...\n",
      "Test: 100%|██████████| 157/157 [00:25<00:00,  6.27it/s]\n"
     ]
    },
    {
     "name": "stdout",
     "output_type": "stream",
     "text": [
      "Test loss: 0.2796\n",
      "Test score: 91.4709\n"
     ]
    },
    {
     "name": "stderr",
     "output_type": "stream",
     "text": [
      "12:27:09 - Original Results:{'loss': 0.27963448099934374, 'score': 91.47093949044586, 'batch_duration': 159.55585127423524, 'data_duration': 9.972240704639702, 'model_size': 512.33, 'params': 134301514, 'macs': 15499459200}\n",
      "12:27:09 - Compressing model...\n",
      "12:27:09 - Compression Actions:['Magnitude Pruning', 'Logits Distillation']\n"
     ]
    },
    {
     "name": "stdout",
     "output_type": "stream",
     "text": [
      "================================ PRUNING STARTED ===============================\n"
     ]
    },
    {
     "name": "stderr",
     "output_type": "stream",
     "text": [
      "12:27:10 - Ignored layers: [Conv2d(3, 64, kernel_size=(3, 3), stride=(1, 1), padding=(1, 1)), Linear(in_features=4096, out_features=10, bias=True)]\n",
      "12:27:11 - Pruning Results:\n",
      "12:27:11 - Old Params: 134301514, New Params: 108594109, Reduction: 0.19\n",
      "12:27:11 - Old Size: 512.33, New Size: 414.26, Reduction: 0.19\n"
     ]
    },
    {
     "name": "stdout",
     "output_type": "stream",
     "text": [
      "============================== DISTILLATION STARTED ============================\n"
     ]
    },
    {
     "name": "stderr",
     "output_type": "stream",
     "text": [
      "Validate: 100%|██████████| 79/79 [00:12<00:00,  6.28it/s]\n",
      "12:27:24 - Score: 89.35917721518987\n"
     ]
    },
    {
     "name": "stdout",
     "output_type": "stream",
     "text": [
      "Test loss: 0.3714\n",
      "Test score: 89.3592\n"
     ]
    },
    {
     "name": "stderr",
     "output_type": "stream",
     "text": [
      "Distillation Training: 100%|██████████| 11250/11250 [07:01<00:00, 26.69it/s]\n",
      "Validate: 100%|██████████| 79/79 [00:12<00:00,  6.20it/s]\n",
      "12:34:38 - Score: 75.4746835443038\n"
     ]
    },
    {
     "name": "stdout",
     "output_type": "stream",
     "text": [
      "Test loss: 0.7303\n",
      "Test score: 75.4747\n"
     ]
    },
    {
     "name": "stderr",
     "output_type": "stream",
     "text": [
      "Distillation Training: 100%|██████████| 11250/11250 [07:02<00:00, 26.64it/s]\n",
      "Validate: 100%|██████████| 79/79 [00:14<00:00,  5.59it/s]\n",
      "12:41:55 - Score: 77.2745253164557\n"
     ]
    },
    {
     "name": "stdout",
     "output_type": "stream",
     "text": [
      "Test loss: 0.6950\n",
      "Test score: 77.2745\n"
     ]
    },
    {
     "name": "stderr",
     "output_type": "stream",
     "text": [
      "Distillation Training: 100%|██████████| 11250/11250 [07:02<00:00, 26.65it/s]\n",
      "Validate: 100%|██████████| 79/79 [00:13<00:00,  5.99it/s]\n",
      "12:49:10 - Score: 81.40822784810126\n"
     ]
    },
    {
     "name": "stdout",
     "output_type": "stream",
     "text": [
      "Test loss: 0.5428\n",
      "Test score: 81.4082\n"
     ]
    },
    {
     "name": "stderr",
     "output_type": "stream",
     "text": [
      "Distillation Training: 100%|██████████| 11250/11250 [07:01<00:00, 26.67it/s]\n",
      "Validate: 100%|██████████| 79/79 [00:12<00:00,  6.20it/s]\n",
      "12:56:25 - Score: 83.26740506329114\n"
     ]
    },
    {
     "name": "stdout",
     "output_type": "stream",
     "text": [
      "Test loss: 0.4954\n",
      "Test score: 83.2674\n"
     ]
    },
    {
     "name": "stderr",
     "output_type": "stream",
     "text": [
      "Distillation Training: 100%|██████████| 11250/11250 [07:01<00:00, 26.68it/s]\n",
      "Validate: 100%|██████████| 79/79 [00:12<00:00,  6.17it/s]\n",
      "13:03:39 - Score: 84.15743670886076\n"
     ]
    },
    {
     "name": "stdout",
     "output_type": "stream",
     "text": [
      "Test loss: 0.4696\n",
      "Test score: 84.1574\n"
     ]
    },
    {
     "name": "stderr",
     "output_type": "stream",
     "text": [
      "Distillation Training: 100%|██████████| 11250/11250 [07:01<00:00, 26.66it/s]\n",
      "Validate: 100%|██████████| 79/79 [00:12<00:00,  6.14it/s]\n",
      "13:10:54 - Score: 85.36392405063292\n"
     ]
    },
    {
     "name": "stdout",
     "output_type": "stream",
     "text": [
      "Test loss: 0.4403\n",
      "Test score: 85.3639\n"
     ]
    },
    {
     "name": "stderr",
     "output_type": "stream",
     "text": [
      "Distillation Training: 100%|██████████| 11250/11250 [07:01<00:00, 26.68it/s]\n",
      "Validate: 100%|██████████| 79/79 [00:12<00:00,  6.10it/s]\n",
      "13:18:09 - Score: 82.99050632911393\n"
     ]
    },
    {
     "name": "stdout",
     "output_type": "stream",
     "text": [
      "Test loss: 0.4918\n",
      "Test score: 82.9905\n"
     ]
    },
    {
     "name": "stderr",
     "output_type": "stream",
     "text": [
      "Distillation Training: 100%|██████████| 11250/11250 [07:01<00:00, 26.68it/s]\n",
      "Validate: 100%|██████████| 79/79 [00:13<00:00,  5.89it/s]\n",
      "13:25:24 - Score: 84.41455696202532\n"
     ]
    },
    {
     "name": "stdout",
     "output_type": "stream",
     "text": [
      "Test loss: 0.4734\n",
      "Test score: 84.4146\n"
     ]
    },
    {
     "name": "stderr",
     "output_type": "stream",
     "text": [
      "Distillation Training: 100%|██████████| 11250/11250 [07:01<00:00, 26.67it/s]\n",
      "Validate: 100%|██████████| 79/79 [00:13<00:00,  6.07it/s]\n",
      "13:32:38 - Score: 80.97310126582279\n",
      "13:32:38 - Stopped training because score did not improve for 3 epochs\n",
      "13:32:38 - Saving compressed model...\n"
     ]
    },
    {
     "name": "stdout",
     "output_type": "stream",
     "text": [
      "Test loss: 0.5818\n",
      "Test score: 80.9731\n",
      "================================================================================\n"
     ]
    },
    {
     "name": "stderr",
     "output_type": "stream",
     "text": [
      "13:32:39 - Evaluating compressed model...\n",
      "Test: 100%|██████████| 157/157 [00:25<00:00,  6.14it/s]\n"
     ]
    },
    {
     "name": "stdout",
     "output_type": "stream",
     "text": [
      "Test loss: 0.5754\n",
      "Test score: 80.8718\n"
     ]
    },
    {
     "name": "stderr",
     "output_type": "stream",
     "text": [
      "13:33:05 - Compressed Results:{'loss': 0.5754024430065398, 'score': 80.8718152866242, 'batch_duration': 162.78280118468462, 'data_duration': 10.173925074042788, 'model_size': 414.26, 'params': 108594109, 'macs': 12679356547}\n",
      "13:33:05 - Saving evaluation results...\n",
      "13:33:05 - Experiment completed successfully\n"
     ]
    }
   ],
   "source": [
    "experiment.run_experiment()"
   ]
  }
 ],
 "metadata": {
  "kernelspec": {
   "display_name": "Python 3",
   "language": "python",
   "name": "python3"
  },
  "language_info": {
   "codemirror_mode": {
    "name": "ipython",
    "version": 3
   },
   "file_extension": ".py",
   "mimetype": "text/x-python",
   "name": "python",
   "nbconvert_exporter": "python",
   "pygments_lexer": "ipython3",
   "version": "3.8.10"
  },
  "orig_nbformat": 4
 },
 "nbformat": 4,
 "nbformat_minor": 2
}
