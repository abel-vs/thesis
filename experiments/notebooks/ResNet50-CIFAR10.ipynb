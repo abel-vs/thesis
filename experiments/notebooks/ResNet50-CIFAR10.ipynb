{
 "cells": [
  {
   "attachments": {},
   "cell_type": "markdown",
   "metadata": {},
   "source": [
    "# ResNet on CIFAR-10\n",
    "This notebook is used to experiment with ResNet-50 on CIFAR-10 dataset."
   ]
  },
  {
   "attachments": {},
   "cell_type": "markdown",
   "metadata": {},
   "source": [
    "## Setup"
   ]
  },
  {
   "cell_type": "code",
   "execution_count": 1,
   "metadata": {},
   "outputs": [],
   "source": [
    "%load_ext autoreload\n",
    "%autoreload 2"
   ]
  },
  {
   "cell_type": "code",
   "execution_count": 9,
   "metadata": {},
   "outputs": [],
   "source": [
    "import torch\n",
    "import sys\n",
    "import torch.nn.functional as F\n",
    "\n",
    "sys.path.append('../../')\n",
    "sys.path.append('../../src/')\n",
    "\n",
    "import src.general as general\n",
    "import src.interfaces.dataset_models as data\n",
    "import src.metrics as metrics\n",
    "import src.evaluation as eval\n",
    "import src.plot as plot\n",
    "import src.compression.distillation as distill\n",
    "import src.compression.pruning as prune\n",
    "import src.compression.quantization as quant\n"
   ]
  },
  {
   "cell_type": "code",
   "execution_count": 1,
   "metadata": {},
   "outputs": [
    {
     "ename": "NameError",
     "evalue": "name 'data' is not defined",
     "output_type": "error",
     "traceback": [
      "\u001b[0;31m---------------------------------------------------------------------------\u001b[0m",
      "\u001b[0;31mNameError\u001b[0m                                 Traceback (most recent call last)",
      "Cell \u001b[0;32mIn[1], line 1\u001b[0m\n\u001b[0;32m----> 1\u001b[0m dataset \u001b[39m=\u001b[39m data\u001b[39m.\u001b[39msupported_datasets[\u001b[39m\"\u001b[39m\u001b[39mCIFAR-10\u001b[39m\u001b[39m\"\u001b[39m]\n",
      "\u001b[0;31mNameError\u001b[0m: name 'data' is not defined"
     ]
    }
   ],
   "source": [
    "dataset = data.supported_datasets[\"CIFAR-10\"]"
   ]
  },
  {
   "cell_type": "code",
   "execution_count": 4,
   "metadata": {},
   "outputs": [],
   "source": [
    "resnet = torch.load(\"/workspace/volume/models/resnet_cifar_finetuned.pth\")"
   ]
  },
  {
   "cell_type": "code",
   "execution_count": 7,
   "metadata": {},
   "outputs": [
    {
     "name": "stderr",
     "output_type": "stream",
     "text": [
      "Test: 100%|██████████| 157/157 [00:19<00:00,  7.97it/s]\n"
     ]
    },
    {
     "name": "stdout",
     "output_type": "stream",
     "text": [
      "Test loss: 0.1898\n",
      "Test score: 94.4367\n",
      "==================================== RESULTS ===================================\n",
      "Loss: 0.189813\n",
      "Score: 94.436704\n",
      "Time per data point: 7.8383 ms\n",
      "Model Size: 90.04 MB\n",
      "Number of parameters: 23528522\n",
      "Number of MACs: 4119896576\n",
      "================================================================================\n"
     ]
    }
   ],
   "source": [
    "before_results = eval.get_results(resnet, dataset)\n",
    "plot.print_results(**before_results)"
   ]
  },
  {
   "cell_type": "code",
   "execution_count": 8,
   "metadata": {},
   "outputs": [],
   "source": [
    "torch.save(resnet, \"/workspace/volume/models/resnet_cifar10.pt\")"
   ]
  },
  {
   "attachments": {},
   "cell_type": "markdown",
   "metadata": {},
   "source": [
    "## Pruning"
   ]
  },
  {
   "cell_type": "code",
   "execution_count": 7,
   "metadata": {},
   "outputs": [],
   "source": [
    "pruned_model = prune.channel_pruning(resnet, dataset, prune.PruningTechnique.L1, sparsity=0.8)"
   ]
  },
  {
   "cell_type": "code",
   "execution_count": 8,
   "metadata": {},
   "outputs": [
    {
     "name": "stderr",
     "output_type": "stream",
     "text": [
      "Test: 100%|██████████| 157/157 [00:12<00:00, 12.27it/s]\n"
     ]
    },
    {
     "name": "stdout",
     "output_type": "stream",
     "text": [
      "Test loss: 18.2151\n",
      "Test score: 9.9821\n"
     ]
    }
   ],
   "source": [
    "after_results = eval.get_results(pruned_model, dataset)"
   ]
  },
  {
   "cell_type": "code",
   "execution_count": 12,
   "metadata": {},
   "outputs": [
    {
     "name": "stdout",
     "output_type": "stream",
     "text": [
      "============================= RESULTS BEFORE & AFTER ===========================\n",
      "Loss: 0.191720 -> 18.218641 (9402.73%)\n",
      "Score: 94.207803 -> 9.982086 (-89.40%)\n",
      "Time per data point: 13.8665 ms -> 6.6640 ms (-51.94%)\n",
      "Model Size: 90.04 MB -> 3.78 MB (-95.80%)\n",
      "Number of parameters: 23528522 -> 956641 (-95.93%)\n",
      "Number of MACs: 4119896576 -> 291470594 (-92.93%)\n",
      "================================================================================\n"
     ]
    }
   ],
   "source": [
    "plot.print_before_after_results(before_results, after_results)"
   ]
  },
  {
   "cell_type": "code",
   "execution_count": null,
   "metadata": {},
   "outputs": [],
   "source": [
    "torch.save(pruned_model, \"/workspace/volume/models/resnet_cifar10_pruned_99.pth\")"
   ]
  },
  {
   "cell_type": "code",
   "execution_count": null,
   "metadata": {},
   "outputs": [],
   "source": [
    "quantized_model = quant.dynamic_quantization(pruned_model, dataset)"
   ]
  },
  {
   "attachments": {},
   "cell_type": "markdown",
   "metadata": {},
   "source": [
    "## Quantization"
   ]
  },
  {
   "cell_type": "code",
   "execution_count": null,
   "metadata": {},
   "outputs": [],
   "source": [
    "#Load basic model\n",
    "model = torch.load(\"/workspace/volume/models/resnet_cifar10_full.pt\")"
   ]
  },
  {
   "cell_type": "code",
   "execution_count": null,
   "metadata": {},
   "outputs": [],
   "source": [
    "before_results = eval.get_results(model, dataset)\n",
    "plot.print_results(**before_results)"
   ]
  },
  {
   "attachments": {},
   "cell_type": "markdown",
   "metadata": {},
   "source": [
    "Dynamic quantization"
   ]
  },
  {
   "cell_type": "code",
   "execution_count": null,
   "metadata": {},
   "outputs": [],
   "source": [
    "dynamic_quantized_model = quant.dynamic_quantization(model, dataset)"
   ]
  },
  {
   "cell_type": "code",
   "execution_count": null,
   "metadata": {},
   "outputs": [],
   "source": [
    "quant.fuse_modules(model)"
   ]
  },
  {
   "cell_type": "code",
   "execution_count": null,
   "metadata": {},
   "outputs": [],
   "source": [
    "quant.get_modules_to_fuse(model)"
   ]
  },
  {
   "cell_type": "code",
   "execution_count": null,
   "metadata": {},
   "outputs": [],
   "source": [
    "general.validate(model, dataset)"
   ]
  },
  {
   "attachments": {},
   "cell_type": "markdown",
   "metadata": {},
   "source": [
    "## Distillation"
   ]
  },
  {
   "cell_type": "code",
   "execution_count": 4,
   "metadata": {},
   "outputs": [],
   "source": [
    "teacher = torch.load(\"/workspace/volume/models/resnet_cifar_finetuned.pt\")\n",
    "student = torch.load(\"/workspace/volume/models/resnet_cifar_pruned_finetuned_v2.pt\")"
   ]
  },
  {
   "cell_type": "code",
   "execution_count": 7,
   "metadata": {},
   "outputs": [
    {
     "name": "stderr",
     "output_type": "stream",
     "text": [
      "Test: 100%|██████████| 157/157 [00:19<00:00,  8.09it/s]\n"
     ]
    },
    {
     "name": "stdout",
     "output_type": "stream",
     "text": [
      "Test loss: 0.1884\n",
      "Test score: 94.6955\n"
     ]
    },
    {
     "name": "stderr",
     "output_type": "stream",
     "text": [
      "Test: 100%|██████████| 157/157 [00:13<00:00, 11.80it/s]\n"
     ]
    },
    {
     "name": "stdout",
     "output_type": "stream",
     "text": [
      "Test loss: 0.7471\n",
      "Test score: 74.7711\n",
      "============================= RESULTS BEFORE & AFTER ===========================\n",
      "Loss: 0.188398 -> 0.747112 (296.56%)\n",
      "Score: 94.695462 -> 74.771099 (-21.04%)\n",
      "Time per data point: 7.7226 ms -> 5.2971 ms (-31.41%)\n",
      "Model Size: 90.04 MB -> 3.78 MB (-95.80%)\n",
      "Number of parameters: 23528522 -> 956641 (-95.93%)\n",
      "Number of MACs: 4119896576 -> 291470594 (-92.93%)\n",
      "================================================================================\n"
     ]
    }
   ],
   "source": [
    "teacher_results = eval.get_results(teacher, dataset)\n",
    "student_results = eval.get_results(student, dataset)\n",
    "plot.print_before_after_results(teacher_results, student_results)"
   ]
  },
  {
   "cell_type": "code",
   "execution_count": 16,
   "metadata": {},
   "outputs": [],
   "source": [
    "settings = {\n",
    "    \"temperature\": 3,\n",
    "    \"alpha\": 0.5,\n",
    "    \"epochs\": 10,\n",
    "    \"performance_target\": 90,\n",
    "    \"distil_technique\": distill.combined_loss_distillation,\n",
    "    \"distil_criterion\": F.kl_div,\n",
    "    \"optimizer\": torch.optim.Adam(student.parameters(), lr=0.001)\n",
    "}"
   ]
  },
  {
   "cell_type": "code",
   "execution_count": 17,
   "metadata": {},
   "outputs": [
    {
     "name": "stderr",
     "output_type": "stream",
     "text": [
      "Validate: 100%|██████████| 79/79 [00:06<00:00, 11.90it/s]\n"
     ]
    },
    {
     "name": "stdout",
     "output_type": "stream",
     "text": [
      "Test loss: 0.7350\n",
      "Test score: 75.4153\n"
     ]
    },
    {
     "name": "stderr",
     "output_type": "stream",
     "text": [
      "Distillation Training:   0%|          | 0/11250 [00:00<?, ?it/s]/usr/local/lib/python3.8/dist-packages/torch/nn/functional.py:2916: UserWarning: reduction: 'mean' divides the total loss by both the batch size and the support size.'batchmean' divides only by the batch size, and aligns with the KL div math definition.'mean' will be changed to behave the same as 'batchmean' in the next major release.\n",
      "  warnings.warn(\n",
      "Distillation Training: 100%|██████████| 11250/11250 [08:01<00:00, 23.35it/s]\n",
      "Validate: 100%|██████████| 79/79 [00:06<00:00, 12.01it/s]\n"
     ]
    },
    {
     "name": "stdout",
     "output_type": "stream",
     "text": [
      "Test loss: 0.8549\n",
      "Test score: 71.7761\n"
     ]
    },
    {
     "name": "stderr",
     "output_type": "stream",
     "text": [
      "Distillation Training: 100%|██████████| 11250/11250 [08:07<00:00, 23.05it/s]\n",
      "Validate: 100%|██████████| 79/79 [00:06<00:00, 12.67it/s]\n"
     ]
    },
    {
     "name": "stdout",
     "output_type": "stream",
     "text": [
      "Test loss: 0.7612\n",
      "Test score: 74.5253\n"
     ]
    },
    {
     "name": "stderr",
     "output_type": "stream",
     "text": [
      "Distillation Training: 100%|██████████| 11250/11250 [08:03<00:00, 23.27it/s]\n",
      "Validate: 100%|██████████| 79/79 [00:06<00:00, 12.47it/s]\n"
     ]
    },
    {
     "name": "stdout",
     "output_type": "stream",
     "text": [
      "Test loss: 0.6546\n",
      "Test score: 78.8172\n"
     ]
    },
    {
     "name": "stderr",
     "output_type": "stream",
     "text": [
      "Distillation Training: 100%|██████████| 11250/11250 [08:03<00:00, 23.27it/s]\n",
      "Validate: 100%|██████████| 79/79 [00:06<00:00, 12.72it/s]\n"
     ]
    },
    {
     "name": "stdout",
     "output_type": "stream",
     "text": [
      "Test loss: 0.6978\n",
      "Test score: 78.9359\n"
     ]
    },
    {
     "name": "stderr",
     "output_type": "stream",
     "text": [
      "Distillation Training: 100%|██████████| 11250/11250 [08:01<00:00, 23.38it/s]\n",
      "Validate: 100%|██████████| 79/79 [00:06<00:00, 12.76it/s]\n"
     ]
    },
    {
     "name": "stdout",
     "output_type": "stream",
     "text": [
      "Test loss: 0.5791\n",
      "Test score: 81.1907\n"
     ]
    },
    {
     "name": "stderr",
     "output_type": "stream",
     "text": [
      "Distillation Training: 100%|██████████| 11250/11250 [08:08<00:00, 23.01it/s]\n",
      "Validate: 100%|██████████| 79/79 [00:06<00:00, 12.34it/s]\n"
     ]
    },
    {
     "name": "stdout",
     "output_type": "stream",
     "text": [
      "Test loss: 0.5523\n",
      "Test score: 81.3884\n"
     ]
    },
    {
     "name": "stderr",
     "output_type": "stream",
     "text": [
      "Distillation Training: 100%|██████████| 11250/11250 [08:05<00:00, 23.16it/s]\n",
      "Validate: 100%|██████████| 79/79 [00:06<00:00, 12.67it/s]\n"
     ]
    },
    {
     "name": "stdout",
     "output_type": "stream",
     "text": [
      "Test loss: 0.5114\n",
      "Test score: 82.8718\n"
     ]
    },
    {
     "name": "stderr",
     "output_type": "stream",
     "text": [
      "Distillation Training: 100%|██████████| 11250/11250 [08:21<00:00, 22.45it/s]\n",
      "Validate: 100%|██████████| 79/79 [00:06<00:00, 11.98it/s]\n"
     ]
    },
    {
     "name": "stdout",
     "output_type": "stream",
     "text": [
      "Test loss: 0.5315\n",
      "Test score: 82.2983\n"
     ]
    },
    {
     "name": "stderr",
     "output_type": "stream",
     "text": [
      "Distillation Training: 100%|██████████| 11250/11250 [13:21<00:00, 14.03it/s] \n",
      "Validate: 100%|██████████| 79/79 [00:06<00:00, 12.37it/s]\n"
     ]
    },
    {
     "name": "stdout",
     "output_type": "stream",
     "text": [
      "Test loss: 0.4707\n",
      "Test score: 84.4937\n"
     ]
    },
    {
     "name": "stderr",
     "output_type": "stream",
     "text": [
      "Distillation Training: 100%|██████████| 11250/11250 [08:37<00:00, 21.75it/s]  \n",
      "Validate: 100%|██████████| 79/79 [00:06<00:00, 12.45it/s]\n"
     ]
    },
    {
     "name": "stdout",
     "output_type": "stream",
     "text": [
      "Test loss: 0.4760\n",
      "Test score: 84.3552\n"
     ]
    },
    {
     "name": "stderr",
     "output_type": "stream",
     "text": [
      "Distillation Training: 100%|██████████| 11250/11250 [12:46<00:00, 14.67it/s]  \n",
      "Validate: 100%|██████████| 79/79 [00:06<00:00, 12.19it/s]\n"
     ]
    },
    {
     "name": "stdout",
     "output_type": "stream",
     "text": [
      "Test loss: 0.5317\n",
      "Test score: 84.5926\n"
     ]
    },
    {
     "name": "stderr",
     "output_type": "stream",
     "text": [
      "Distillation Training: 100%|██████████| 11250/11250 [08:10<00:00, 22.93it/s]\n",
      "Validate: 100%|██████████| 79/79 [00:06<00:00, 12.53it/s]\n"
     ]
    },
    {
     "name": "stdout",
     "output_type": "stream",
     "text": [
      "Test loss: 0.5044\n",
      "Test score: 84.0981\n"
     ]
    },
    {
     "name": "stderr",
     "output_type": "stream",
     "text": [
      "Distillation Training: 100%|██████████| 11250/11250 [08:09<00:00, 22.98it/s]\n",
      "Validate: 100%|██████████| 79/79 [00:06<00:00, 12.44it/s]\n"
     ]
    },
    {
     "name": "stdout",
     "output_type": "stream",
     "text": [
      "Test loss: 0.4698\n",
      "Test score: 85.1859\n"
     ]
    },
    {
     "name": "stderr",
     "output_type": "stream",
     "text": [
      "Distillation Training: 100%|██████████| 11250/11250 [08:05<00:00, 23.19it/s]\n",
      "Validate: 100%|██████████| 79/79 [00:06<00:00, 12.68it/s]\n"
     ]
    },
    {
     "name": "stdout",
     "output_type": "stream",
     "text": [
      "Test loss: 0.4717\n",
      "Test score: 84.8497\n"
     ]
    },
    {
     "name": "stderr",
     "output_type": "stream",
     "text": [
      "Distillation Training: 100%|██████████| 11250/11250 [07:56<00:00, 23.61it/s]\n",
      "Validate: 100%|██████████| 79/79 [00:06<00:00, 13.04it/s]\n"
     ]
    },
    {
     "name": "stdout",
     "output_type": "stream",
     "text": [
      "Test loss: 0.4618\n",
      "Test score: 85.0870\n"
     ]
    },
    {
     "name": "stderr",
     "output_type": "stream",
     "text": [
      "Distillation Training: 100%|██████████| 11250/11250 [08:06<00:00, 23.14it/s]\n",
      "Validate: 100%|██████████| 79/79 [00:06<00:00, 12.37it/s]\n"
     ]
    },
    {
     "name": "stdout",
     "output_type": "stream",
     "text": [
      "Test loss: 0.4274\n",
      "Test score: 86.2342\n"
     ]
    },
    {
     "name": "stderr",
     "output_type": "stream",
     "text": [
      "Distillation Training: 100%|██████████| 11250/11250 [08:06<00:00, 23.12it/s]\n",
      "Validate: 100%|██████████| 79/79 [00:06<00:00, 12.53it/s]\n"
     ]
    },
    {
     "name": "stdout",
     "output_type": "stream",
     "text": [
      "Test loss: 0.3914\n",
      "Test score: 86.9462\n"
     ]
    },
    {
     "name": "stderr",
     "output_type": "stream",
     "text": [
      "Distillation Training: 100%|██████████| 11250/11250 [08:05<00:00, 23.18it/s]\n",
      "Validate: 100%|██████████| 79/79 [00:06<00:00, 12.59it/s]\n"
     ]
    },
    {
     "name": "stdout",
     "output_type": "stream",
     "text": [
      "Test loss: 0.4378\n",
      "Test score: 85.6013\n"
     ]
    },
    {
     "name": "stderr",
     "output_type": "stream",
     "text": [
      "Distillation Training: 100%|██████████| 11250/11250 [08:13<00:00, 22.81it/s]\n",
      "Validate: 100%|██████████| 79/79 [00:06<00:00, 12.35it/s]\n"
     ]
    },
    {
     "name": "stdout",
     "output_type": "stream",
     "text": [
      "Test loss: 0.3990\n",
      "Test score: 86.9066\n"
     ]
    },
    {
     "name": "stderr",
     "output_type": "stream",
     "text": [
      "Distillation Training: 100%|██████████| 11250/11250 [08:04<00:00, 23.23it/s]\n",
      "Validate: 100%|██████████| 79/79 [00:06<00:00, 12.49it/s]"
     ]
    },
    {
     "name": "stdout",
     "output_type": "stream",
     "text": [
      "Test loss: 0.4220\n",
      "Test score: 86.6495\n",
      "================================================================================\n"
     ]
    },
    {
     "name": "stderr",
     "output_type": "stream",
     "text": [
      "\n"
     ]
    }
   ],
   "source": [
    "distilled_model = distill.perform_distillation(teacher, dataset, student, settings)"
   ]
  },
  {
   "cell_type": "code",
   "execution_count": 18,
   "metadata": {},
   "outputs": [
    {
     "name": "stderr",
     "output_type": "stream",
     "text": [
      "Test: 100%|██████████| 157/157 [00:12<00:00, 12.53it/s]\n"
     ]
    },
    {
     "name": "stdout",
     "output_type": "stream",
     "text": [
      "Test loss: 0.4179\n",
      "Test score: 86.5744\n",
      "============================= RESULTS BEFORE & AFTER ===========================\n",
      "Loss: 0.747112 -> 0.417887 (-44.07%)\n",
      "Score: 74.771099 -> 86.574443 (15.79%)\n",
      "Time per data point: 5.2971 ms -> 4.9891 ms (-5.81%)\n",
      "Model Size: 3.78 MB -> 3.78 MB (-0.00%)\n",
      "Number of parameters: 956641 -> 956641 (-0.00%)\n",
      "Number of MACs: 291470594 -> 291470594 (-0.00%)\n",
      "================================================================================\n"
     ]
    }
   ],
   "source": [
    "distilled_results = eval.get_results(distilled_model, dataset)\n",
    "plot.print_before_after_results(student_results, distilled_results)"
   ]
  },
  {
   "cell_type": "code",
   "execution_count": 19,
   "metadata": {},
   "outputs": [
    {
     "name": "stdout",
     "output_type": "stream",
     "text": [
      "============================= RESULTS BEFORE & AFTER ===========================\n",
      "Loss: 0.188398 -> 0.417887 (121.81%)\n",
      "Score: 94.695462 -> 86.574443 (-8.58%)\n",
      "Time per data point: 7.7226 ms -> 4.9891 ms (-35.40%)\n",
      "Model Size: 90.04 MB -> 3.78 MB (-95.80%)\n",
      "Number of parameters: 23528522 -> 956641 (-95.93%)\n",
      "Number of MACs: 4119896576 -> 291470594 (-92.93%)\n",
      "================================================================================\n"
     ]
    }
   ],
   "source": [
    "plot.print_before_after_results(teacher_results, distilled_results)"
   ]
  },
  {
   "cell_type": "code",
   "execution_count": null,
   "metadata": {},
   "outputs": [],
   "source": [
    "torch.save(distilled_model, \"/workspace/volume/models/resnet_cifar_distilled.pt\")"
   ]
  }
 ],
 "metadata": {
  "kernelspec": {
   "display_name": "Python 3",
   "language": "python",
   "name": "python3"
  },
  "language_info": {
   "codemirror_mode": {
    "name": "ipython",
    "version": 3
   },
   "file_extension": ".py",
   "mimetype": "text/x-python",
   "name": "python",
   "nbconvert_exporter": "python",
   "pygments_lexer": "ipython3",
   "version": "3.8.10"
  },
  "orig_nbformat": 4
 },
 "nbformat": 4,
 "nbformat_minor": 2
}
