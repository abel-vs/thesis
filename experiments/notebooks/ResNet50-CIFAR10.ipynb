{
 "cells": [
  {
   "attachments": {},
   "cell_type": "markdown",
   "metadata": {},
   "source": [
    "# ResNet on CIFAR-10\n",
    "This notebook is used to experiment with ResNet-50 on CIFAR-10 dataset."
   ]
  },
  {
   "attachments": {},
   "cell_type": "markdown",
   "metadata": {},
   "source": [
    "## Setup"
   ]
  },
  {
   "cell_type": "code",
   "execution_count": 1,
   "metadata": {},
   "outputs": [],
   "source": [
    "%load_ext autoreload\n",
    "%autoreload 2"
   ]
  },
  {
   "cell_type": "code",
   "execution_count": 2,
   "metadata": {},
   "outputs": [
    {
     "name": "stdout",
     "output_type": "stream",
     "text": [
      "Files already downloaded and verified\n",
      "Files already downloaded and verified\n",
      "Files already downloaded and verified\n",
      "Files already downloaded and verified\n"
     ]
    }
   ],
   "source": [
    "import torch\n",
    "import torchvision as tv\n",
    "import torchvision.transforms as transforms\n",
    "import torch.optim as optim\n",
    "import torch.nn as nn\n",
    "import torch.nn.functional as F\n",
    "from tqdm import tqdm\n",
    "import sys\n",
    "\n",
    "sys.path.append('../../')\n",
    "sys.path.append('../../src/')\n",
    "\n",
    "import src.general as general\n",
    "import src.dataset_models as data\n",
    "import src.metrics as metrics\n",
    "import src.evaluation as eval\n",
    "import src.plot as plot\n",
    "import src.compression.distillation as distill\n",
    "import src.compression.pruning as prune\n",
    "import src.compression.quantization as quant\n"
   ]
  },
  {
   "cell_type": "code",
   "execution_count": 3,
   "metadata": {},
   "outputs": [],
   "source": [
    "# Get dataset\n",
    "dataset = data.supported_datasets[\"CIFAR-10\"]\n",
    "\n",
    "# Get transforms\n",
    "resnet_cifar10_transform = transforms.Compose([\n",
    "    transforms.Resize(256),\n",
    "    transforms.CenterCrop(224),\n",
    "    transforms.ToTensor(),\n",
    "    transforms.Normalize(mean=[0.485, 0.456, 0.406], std=[0.229, 0.224, 0.225])\n",
    "])\n",
    "\n",
    "# Set transforms\n",
    "dataset.set_transforms(resnet_cifar10_transform)"
   ]
  },
  {
   "cell_type": "code",
   "execution_count": 49,
   "metadata": {},
   "outputs": [],
   "source": [
    "# Get model\n",
    "resnet_weights = tv.models.ResNet50_Weights.DEFAULT\n",
    "resnet = tv.models.resnet50(weights=resnet_weights)\n",
    "\n",
    "# Modify the last layer to have 10 output classes (CIFAR-10 has 10 classes)\n",
    "resnet.fc = torch.nn.Linear(resnet.fc.in_features, 10)"
   ]
  },
  {
   "cell_type": "code",
   "execution_count": 10,
   "metadata": {},
   "outputs": [],
   "source": [
    "MODELS_DIR = \"/workspace/volume/models\""
   ]
  },
  {
   "cell_type": "code",
   "execution_count": 5,
   "metadata": {},
   "outputs": [],
   "source": [
    "resnet = torch.load(\"/workspace/volume/models/resnet_cifar_finetuned.pth\")"
   ]
  },
  {
   "cell_type": "code",
   "execution_count": 11,
   "metadata": {},
   "outputs": [],
   "source": [
    "torch.save(resnet, MODELS_DIR + \"/resnet_cifar_finetuned.pth\")"
   ]
  },
  {
   "cell_type": "code",
   "execution_count": 6,
   "metadata": {},
   "outputs": [
    {
     "name": "stderr",
     "output_type": "stream",
     "text": [
      "Train: 100%|██████████| 5625/5625 [04:59<00:00, 18.79it/s]\n"
     ]
    },
    {
     "name": "stdout",
     "output_type": "stream",
     "text": [
      "Train loss: 0.0778\n",
      "Train score: 97.4333\n"
     ]
    },
    {
     "name": "stderr",
     "output_type": "stream",
     "text": [
      "Validate: 100%|██████████| 79/79 [00:11<00:00,  6.88it/s]\n"
     ]
    },
    {
     "name": "stdout",
     "output_type": "stream",
     "text": [
      "Test loss: 0.1508\n",
      "Test score: 95.0356\n"
     ]
    },
    {
     "name": "stderr",
     "output_type": "stream",
     "text": [
      "Train: 100%|██████████| 5625/5625 [04:50<00:00, 19.35it/s]\n"
     ]
    },
    {
     "name": "stdout",
     "output_type": "stream",
     "text": [
      "Train loss: 0.0532\n",
      "Train score: 98.2378\n"
     ]
    },
    {
     "name": "stderr",
     "output_type": "stream",
     "text": [
      "Validate: 100%|██████████| 79/79 [00:12<00:00,  6.44it/s]\n"
     ]
    },
    {
     "name": "stdout",
     "output_type": "stream",
     "text": [
      "Test loss: 0.1445\n",
      "Test score: 95.3718\n"
     ]
    },
    {
     "name": "stderr",
     "output_type": "stream",
     "text": [
      "Train: 100%|██████████| 5625/5625 [04:47<00:00, 19.57it/s]\n"
     ]
    },
    {
     "name": "stdout",
     "output_type": "stream",
     "text": [
      "Train loss: 0.0407\n",
      "Train score: 98.6489\n"
     ]
    },
    {
     "name": "stderr",
     "output_type": "stream",
     "text": [
      "Validate: 100%|██████████| 79/79 [00:11<00:00,  6.81it/s]\n"
     ]
    },
    {
     "name": "stdout",
     "output_type": "stream",
     "text": [
      "Test loss: 0.1467\n",
      "Test score: 95.5696\n"
     ]
    },
    {
     "name": "stderr",
     "output_type": "stream",
     "text": [
      "Train: 100%|██████████| 5625/5625 [04:47<00:00, 19.54it/s]\n"
     ]
    },
    {
     "name": "stdout",
     "output_type": "stream",
     "text": [
      "Train loss: 0.0288\n",
      "Train score: 99.0644\n"
     ]
    },
    {
     "name": "stderr",
     "output_type": "stream",
     "text": [
      "Validate: 100%|██████████| 79/79 [00:12<00:00,  6.36it/s]\n"
     ]
    },
    {
     "name": "stdout",
     "output_type": "stream",
     "text": [
      "Test loss: 0.1466\n",
      "Test score: 95.5894\n"
     ]
    },
    {
     "name": "stderr",
     "output_type": "stream",
     "text": [
      "Train: 100%|██████████| 5625/5625 [04:43<00:00, 19.87it/s]\n"
     ]
    },
    {
     "name": "stdout",
     "output_type": "stream",
     "text": [
      "Train loss: 0.0223\n",
      "Train score: 99.3111\n"
     ]
    },
    {
     "name": "stderr",
     "output_type": "stream",
     "text": [
      "Validate: 100%|██████████| 79/79 [00:11<00:00,  6.86it/s]\n"
     ]
    },
    {
     "name": "stdout",
     "output_type": "stream",
     "text": [
      "Test loss: 0.1404\n",
      "Test score: 95.9652\n"
     ]
    },
    {
     "name": "stderr",
     "output_type": "stream",
     "text": [
      "Train:   5%|▌         | 301/5625 [00:15<04:26, 19.96it/s]\n"
     ]
    },
    {
     "ename": "KeyboardInterrupt",
     "evalue": "",
     "output_type": "error",
     "traceback": [
      "\u001b[0;31m---------------------------------------------------------------------------\u001b[0m",
      "\u001b[0;31mKeyboardInterrupt\u001b[0m                         Traceback (most recent call last)",
      "Cell \u001b[0;32mIn[6], line 1\u001b[0m\n\u001b[0;32m----> 1\u001b[0m general\u001b[39m.\u001b[39;49mfinetune(model\u001b[39m=\u001b[39;49mresnet, dataset\u001b[39m=\u001b[39;49mdataset, target\u001b[39m=\u001b[39;49m\u001b[39m99\u001b[39;49m, max_it\u001b[39m=\u001b[39;49m\u001b[39m20\u001b[39;49m)\n\u001b[1;32m      2\u001b[0m torch\u001b[39m.\u001b[39msave(resnet, MODELS_DIR \u001b[39m+\u001b[39m \u001b[39m\"\u001b[39m\u001b[39m/resnet_cifar_finetuned.pth\u001b[39m\u001b[39m\"\u001b[39m)\n",
      "File \u001b[0;32m/workspace/experiments/notebooks/../../src/general.py:116\u001b[0m, in \u001b[0;36mfinetune\u001b[0;34m(model, dataset, target, max_it, patience)\u001b[0m\n\u001b[1;32m    113\u001b[0m epochs_without_improvement \u001b[39m=\u001b[39m \u001b[39m0\u001b[39m\n\u001b[1;32m    115\u001b[0m \u001b[39mwhile\u001b[39;00m score \u001b[39m<\u001b[39m target \u001b[39mand\u001b[39;00m epochs_without_improvement \u001b[39m<\u001b[39m patience:\n\u001b[0;32m--> 116\u001b[0m     train(model, dataset)\n\u001b[1;32m    117\u001b[0m     metrics \u001b[39m=\u001b[39m validate(model, dataset)\n\u001b[1;32m    118\u001b[0m     score \u001b[39m=\u001b[39m metrics[\u001b[39m1\u001b[39m]\n",
      "File \u001b[0;32m/workspace/experiments/notebooks/../../src/general.py:44\u001b[0m, in \u001b[0;36mtrain\u001b[0;34m(model, dataset, optimizer)\u001b[0m\n\u001b[1;32m     41\u001b[0m     optimizer\u001b[39m.\u001b[39mstep()\n\u001b[1;32m     43\u001b[0m     \u001b[39mif\u001b[39;00m metric \u001b[39mis\u001b[39;00m \u001b[39mnot\u001b[39;00m \u001b[39mNone\u001b[39;00m:\n\u001b[0;32m---> 44\u001b[0m         score \u001b[39m=\u001b[39m metric(output, target)\n\u001b[1;32m     45\u001b[0m         train_score \u001b[39m+\u001b[39m\u001b[39m=\u001b[39m score\n\u001b[1;32m     47\u001b[0m et \u001b[39m=\u001b[39m time\u001b[39m.\u001b[39mtime()\n",
      "File \u001b[0;32m/workspace/experiments/notebooks/../../src/metrics.py:27\u001b[0m, in \u001b[0;36maccuracy\u001b[0;34m(output, target, topk)\u001b[0m\n\u001b[1;32m     25\u001b[0m     correct_k \u001b[39m=\u001b[39m correct[:k]\u001b[39m.\u001b[39mreshape(\u001b[39m-\u001b[39m\u001b[39m1\u001b[39m)\u001b[39m.\u001b[39mfloat()\u001b[39m.\u001b[39msum(\u001b[39m0\u001b[39m, keepdim\u001b[39m=\u001b[39m\u001b[39mTrue\u001b[39;00m)\n\u001b[1;32m     26\u001b[0m     res\u001b[39m.\u001b[39mappend(correct_k\u001b[39m.\u001b[39mmul_(\u001b[39m100.0\u001b[39m \u001b[39m/\u001b[39m batch_size))\n\u001b[0;32m---> 27\u001b[0m \u001b[39mreturn\u001b[39;00m res[\u001b[39m0\u001b[39;49m]\u001b[39m.\u001b[39;49mitem()\n",
      "\u001b[0;31mKeyboardInterrupt\u001b[0m: "
     ]
    }
   ],
   "source": [
    "general.finetune(model=resnet, dataset=dataset, target=99, max_it=20)\n",
    "torch.save(resnet, MODELS_DIR + \"/resnet_cifar_finetuned.pth\")"
   ]
  },
  {
   "cell_type": "code",
   "execution_count": 34,
   "metadata": {},
   "outputs": [],
   "source": [
    "model = torch.load(MODELS_DIR + \"/resnet_cifar10_full.pt\")"
   ]
  },
  {
   "cell_type": "code",
   "execution_count": 8,
   "metadata": {},
   "outputs": [
    {
     "name": "stderr",
     "output_type": "stream",
     "text": [
      "Test: 100%|██████████| 157/157 [00:23<00:00,  6.64it/s]\n"
     ]
    },
    {
     "name": "stdout",
     "output_type": "stream",
     "text": [
      "Test loss: 0.1749\n",
      "Test score: 94.8248\n",
      "Could not calculate FLOPS\n",
      "==================================== RESULTS ===================================\n",
      "Loss: 0.174857\n",
      "Score: 94.824841\n",
      "Time per data point: 9.4163 ms\n",
      "Model Size: 90.04 MB\n",
      "Number of parameters: 23528522\n",
      "Number of MACs: 4119896576\n",
      "================================================================================\n"
     ]
    }
   ],
   "source": [
    "before_results = eval.get_results(resnet, dataset)\n",
    "plot.print_results(**before_results)"
   ]
  },
  {
   "attachments": {},
   "cell_type": "markdown",
   "metadata": {},
   "source": [
    "## Pruning"
   ]
  },
  {
   "cell_type": "code",
   "execution_count": null,
   "metadata": {},
   "outputs": [],
   "source": [
    "pruned_model = prune.magnitude_pruning_structured(resnet, dataset, sparsity=0.5, fineTune=True, iterative_steps=5)"
   ]
  },
  {
   "cell_type": "code",
   "execution_count": null,
   "metadata": {},
   "outputs": [],
   "source": [
    "general.finetune(pruned_model, dataset, target=98, max_it=10)"
   ]
  },
  {
   "cell_type": "code",
   "execution_count": null,
   "metadata": {},
   "outputs": [],
   "source": [
    "torch.save(resnet.state_dict(), \"/workspace/volume/models/resnet_cifar10.pt\")"
   ]
  },
  {
   "cell_type": "code",
   "execution_count": null,
   "metadata": {},
   "outputs": [],
   "source": [
    "torch.save(pruned_model, \"/workspace/volume/models/resnet_cifar_pruned.pt\")"
   ]
  },
  {
   "cell_type": "code",
   "execution_count": null,
   "metadata": {},
   "outputs": [],
   "source": [
    "after_results = eval.get_results(pruned_model, dataset)"
   ]
  },
  {
   "cell_type": "code",
   "execution_count": null,
   "metadata": {},
   "outputs": [],
   "source": [
    "plot.print_before_after_results(before_results, after_results)"
   ]
  },
  {
   "attachments": {},
   "cell_type": "markdown",
   "metadata": {},
   "source": [
    "## Quantization"
   ]
  },
  {
   "cell_type": "code",
   "execution_count": 36,
   "metadata": {},
   "outputs": [],
   "source": [
    "#Load basic model\n",
    "model = torch.load(\"/workspace/volume/models/resnet_cifar10_full.pt\")"
   ]
  },
  {
   "cell_type": "code",
   "execution_count": 38,
   "metadata": {},
   "outputs": [
    {
     "name": "stderr",
     "output_type": "stream",
     "text": [
      "Test: 100%|██████████| 157/157 [00:17<00:00,  8.77it/s]\n"
     ]
    },
    {
     "name": "stdout",
     "output_type": "stream",
     "text": [
      "Test loss: 0.1841\n",
      "Test score: 94.8348\n",
      "Could not calculate FLOPS\n",
      "==================================== RESULTS ===================================\n",
      "Loss: 0.184128\n",
      "Score: 94.834793\n",
      "Time per data point: 7.1300 ms\n",
      "Model Size: 90.04 MB\n",
      "Number of parameters: 23528522\n",
      "Number of MACs: 4119896576\n",
      "================================================================================\n"
     ]
    }
   ],
   "source": [
    "before_results = eval.get_results(model, dataset)\n",
    "plot.print_results(**before_results)"
   ]
  },
  {
   "cell_type": "code",
   "execution_count": 41,
   "metadata": {},
   "outputs": [
    {
     "name": "stderr",
     "output_type": "stream",
     "text": [
      "/usr/local/lib/python3.8/dist-packages/torch/ao/quantization/observer.py:214: UserWarning: Please use quant_min and quant_max to specify the range for observers.                     reduce_range will be deprecated in a future release of PyTorch.\n",
      "  warnings.warn(\n"
     ]
    },
    {
     "ename": "RuntimeError",
     "evalue": "Unsupported qscheme: per_channel_affine",
     "output_type": "error",
     "traceback": [
      "\u001b[0;31m---------------------------------------------------------------------------\u001b[0m",
      "\u001b[0;31mRuntimeError\u001b[0m                              Traceback (most recent call last)",
      "Cell \u001b[0;32mIn[41], line 1\u001b[0m\n\u001b[0;32m----> 1\u001b[0m quant\u001b[39m.\u001b[39;49mstatic_quantization(model, dataset, calibrate\u001b[39m=\u001b[39;49m\u001b[39mFalse\u001b[39;49;00m)\n",
      "File \u001b[0;32m/workspace/experiments/notebooks/../../src/compression/quantization.py:47\u001b[0m, in \u001b[0;36mstatic_quantization\u001b[0;34m(model, dataset, backend, fuse, calibrate)\u001b[0m\n\u001b[1;32m     44\u001b[0m     calibrate(quantized_model, dataset\u001b[39m.\u001b[39mtrain_loader)\n\u001b[1;32m     46\u001b[0m \u001b[39m# Convert the model to a quantized model\u001b[39;00m\n\u001b[0;32m---> 47\u001b[0m torch\u001b[39m.\u001b[39;49mquantization\u001b[39m.\u001b[39;49mconvert(quantized_model, inplace\u001b[39m=\u001b[39;49m\u001b[39mTrue\u001b[39;49;00m)\n\u001b[1;32m     49\u001b[0m \u001b[39mreturn\u001b[39;00m quantized_model\n",
      "File \u001b[0;32m/usr/local/lib/python3.8/dist-packages/torch/ao/quantization/quantize.py:535\u001b[0m, in \u001b[0;36mconvert\u001b[0;34m(module, mapping, inplace, remove_qconfig, is_reference, convert_custom_config_dict)\u001b[0m\n\u001b[1;32m    533\u001b[0m \u001b[39mif\u001b[39;00m \u001b[39mnot\u001b[39;00m inplace:\n\u001b[1;32m    534\u001b[0m     module \u001b[39m=\u001b[39m copy\u001b[39m.\u001b[39mdeepcopy(module)\n\u001b[0;32m--> 535\u001b[0m _convert(\n\u001b[1;32m    536\u001b[0m     module, mapping, inplace\u001b[39m=\u001b[39;49m\u001b[39mTrue\u001b[39;49;00m, is_reference\u001b[39m=\u001b[39;49mis_reference,\n\u001b[1;32m    537\u001b[0m     convert_custom_config_dict\u001b[39m=\u001b[39;49mconvert_custom_config_dict)\n\u001b[1;32m    538\u001b[0m \u001b[39mif\u001b[39;00m remove_qconfig:\n\u001b[1;32m    539\u001b[0m     _remove_qconfig(module)\n",
      "File \u001b[0;32m/usr/local/lib/python3.8/dist-packages/torch/ao/quantization/quantize.py:573\u001b[0m, in \u001b[0;36m_convert\u001b[0;34m(module, mapping, inplace, is_reference, convert_custom_config_dict)\u001b[0m\n\u001b[1;32m    568\u001b[0m \u001b[39mfor\u001b[39;00m name, mod \u001b[39min\u001b[39;00m module\u001b[39m.\u001b[39mnamed_children():\n\u001b[1;32m    569\u001b[0m     \u001b[39m# both fused modules and observed custom modules are\u001b[39;00m\n\u001b[1;32m    570\u001b[0m     \u001b[39m# swapped as one unit\u001b[39;00m\n\u001b[1;32m    571\u001b[0m     \u001b[39mif\u001b[39;00m \u001b[39mnot\u001b[39;00m \u001b[39misinstance\u001b[39m(mod, _FusedModule) \u001b[39mand\u001b[39;00m \\\n\u001b[1;32m    572\u001b[0m        type_before_parametrizations(mod) \u001b[39mnot\u001b[39;00m \u001b[39min\u001b[39;00m custom_module_class_mapping:\n\u001b[0;32m--> 573\u001b[0m         _convert(mod, mapping, \u001b[39mTrue\u001b[39;49;00m,  \u001b[39m# inplace\u001b[39;49;00m\n\u001b[1;32m    574\u001b[0m                  is_reference, convert_custom_config_dict)\n\u001b[1;32m    575\u001b[0m     reassign[name] \u001b[39m=\u001b[39m swap_module(mod, mapping, custom_module_class_mapping)\n\u001b[1;32m    577\u001b[0m \u001b[39mfor\u001b[39;00m key, value \u001b[39min\u001b[39;00m reassign\u001b[39m.\u001b[39mitems():\n",
      "File \u001b[0;32m/usr/local/lib/python3.8/dist-packages/torch/ao/quantization/quantize.py:575\u001b[0m, in \u001b[0;36m_convert\u001b[0;34m(module, mapping, inplace, is_reference, convert_custom_config_dict)\u001b[0m\n\u001b[1;32m    571\u001b[0m     \u001b[39mif\u001b[39;00m \u001b[39mnot\u001b[39;00m \u001b[39misinstance\u001b[39m(mod, _FusedModule) \u001b[39mand\u001b[39;00m \\\n\u001b[1;32m    572\u001b[0m        type_before_parametrizations(mod) \u001b[39mnot\u001b[39;00m \u001b[39min\u001b[39;00m custom_module_class_mapping:\n\u001b[1;32m    573\u001b[0m         _convert(mod, mapping, \u001b[39mTrue\u001b[39;00m,  \u001b[39m# inplace\u001b[39;00m\n\u001b[1;32m    574\u001b[0m                  is_reference, convert_custom_config_dict)\n\u001b[0;32m--> 575\u001b[0m     reassign[name] \u001b[39m=\u001b[39m swap_module(mod, mapping, custom_module_class_mapping)\n\u001b[1;32m    577\u001b[0m \u001b[39mfor\u001b[39;00m key, value \u001b[39min\u001b[39;00m reassign\u001b[39m.\u001b[39mitems():\n\u001b[1;32m    578\u001b[0m     module\u001b[39m.\u001b[39m_modules[key] \u001b[39m=\u001b[39m value\n",
      "File \u001b[0;32m/usr/local/lib/python3.8/dist-packages/torch/ao/quantization/quantize.py:608\u001b[0m, in \u001b[0;36mswap_module\u001b[0;34m(mod, mapping, custom_module_class_mapping)\u001b[0m\n\u001b[1;32m    606\u001b[0m         new_mod \u001b[39m=\u001b[39m qmod\u001b[39m.\u001b[39mfrom_float(mod, weight_qparams)\n\u001b[1;32m    607\u001b[0m     \u001b[39melse\u001b[39;00m:\n\u001b[0;32m--> 608\u001b[0m         new_mod \u001b[39m=\u001b[39m qmod\u001b[39m.\u001b[39;49mfrom_float(mod)\n\u001b[1;32m    609\u001b[0m     swapped \u001b[39m=\u001b[39m \u001b[39mTrue\u001b[39;00m\n\u001b[1;32m    611\u001b[0m \u001b[39mif\u001b[39;00m swapped:\n\u001b[1;32m    612\u001b[0m     \u001b[39m# Preserve module's pre forward hooks. They'll be called on quantized input\u001b[39;00m\n",
      "File \u001b[0;32m/usr/local/lib/python3.8/dist-packages/torch/ao/nn/quantized/modules/conv.py:474\u001b[0m, in \u001b[0;36mConv2d.from_float\u001b[0;34m(cls, mod)\u001b[0m\n\u001b[1;32m    466\u001b[0m \u001b[39m@classmethod\u001b[39m\n\u001b[1;32m    467\u001b[0m \u001b[39mdef\u001b[39;00m \u001b[39mfrom_float\u001b[39m(\u001b[39mcls\u001b[39m, mod):\n\u001b[1;32m    468\u001b[0m \u001b[39m    \u001b[39m\u001b[39mr\u001b[39m\u001b[39m\"\"\"Creates a quantized module from a float module or qparams_dict.\u001b[39;00m\n\u001b[1;32m    469\u001b[0m \n\u001b[1;32m    470\u001b[0m \u001b[39m    Args:\u001b[39;00m\n\u001b[1;32m    471\u001b[0m \u001b[39m        mod (Module): a float module, either produced by torch.ao.quantization\u001b[39;00m\n\u001b[1;32m    472\u001b[0m \u001b[39m          utilities or provided by the user\u001b[39;00m\n\u001b[1;32m    473\u001b[0m \u001b[39m    \"\"\"\u001b[39;00m\n\u001b[0;32m--> 474\u001b[0m     \u001b[39mreturn\u001b[39;00m _ConvNd\u001b[39m.\u001b[39;49mfrom_float(\u001b[39mcls\u001b[39;49m, mod)\n",
      "File \u001b[0;32m/usr/local/lib/python3.8/dist-packages/torch/ao/nn/quantized/modules/conv.py:242\u001b[0m, in \u001b[0;36m_ConvNd.from_float\u001b[0;34m(cls, mod)\u001b[0m\n\u001b[1;32m    240\u001b[0m         mod \u001b[39m=\u001b[39m mod[\u001b[39m0\u001b[39m]\n\u001b[1;32m    241\u001b[0m     weight_post_process \u001b[39m=\u001b[39m mod\u001b[39m.\u001b[39mqconfig\u001b[39m.\u001b[39mweight()\n\u001b[0;32m--> 242\u001b[0m \u001b[39mreturn\u001b[39;00m \u001b[39mcls\u001b[39;49m\u001b[39m.\u001b[39;49mget_qconv(mod, activation_post_process, weight_post_process)\n",
      "File \u001b[0;32m/usr/local/lib/python3.8/dist-packages/torch/ao/nn/quantized/modules/conv.py:209\u001b[0m, in \u001b[0;36m_ConvNd.get_qconv\u001b[0;34m(cls, mod, activation_post_process, weight_post_process)\u001b[0m\n\u001b[1;32m    205\u001b[0m \u001b[39m# the __init__ call used is the one from derived classes and not the one from _ConvNd\u001b[39;00m\n\u001b[1;32m    206\u001b[0m qconv \u001b[39m=\u001b[39m \u001b[39mcls\u001b[39m(mod\u001b[39m.\u001b[39min_channels, mod\u001b[39m.\u001b[39mout_channels, mod\u001b[39m.\u001b[39mkernel_size,\n\u001b[1;32m    207\u001b[0m             mod\u001b[39m.\u001b[39mstride, mod\u001b[39m.\u001b[39mpadding, mod\u001b[39m.\u001b[39mdilation, mod\u001b[39m.\u001b[39mgroups,\n\u001b[1;32m    208\u001b[0m             mod\u001b[39m.\u001b[39mbias \u001b[39mis\u001b[39;00m \u001b[39mnot\u001b[39;00m \u001b[39mNone\u001b[39;00m, mod\u001b[39m.\u001b[39mpadding_mode)\n\u001b[0;32m--> 209\u001b[0m qconv\u001b[39m.\u001b[39;49mset_weight_bias(qweight, mod\u001b[39m.\u001b[39;49mbias)\n\u001b[1;32m    210\u001b[0m \u001b[39mif\u001b[39;00m activation_post_process \u001b[39mis\u001b[39;00m \u001b[39mNone\u001b[39;00m \u001b[39mor\u001b[39;00m activation_post_process\u001b[39m.\u001b[39mdtype \u001b[39m==\u001b[39m torch\u001b[39m.\u001b[39mfloat:\n\u001b[1;32m    211\u001b[0m     \u001b[39mreturn\u001b[39;00m qconv  \u001b[39m# dynamic quantization doesn't need scale/zero_point\u001b[39;00m\n",
      "File \u001b[0;32m/usr/local/lib/python3.8/dist-packages/torch/ao/nn/quantized/modules/conv.py:439\u001b[0m, in \u001b[0;36mConv2d.set_weight_bias\u001b[0;34m(self, w, b)\u001b[0m\n\u001b[1;32m    437\u001b[0m \u001b[39mdef\u001b[39;00m \u001b[39mset_weight_bias\u001b[39m(\u001b[39mself\u001b[39m, w: torch\u001b[39m.\u001b[39mTensor, b: Optional[torch\u001b[39m.\u001b[39mTensor]) \u001b[39m-\u001b[39m\u001b[39m>\u001b[39m \u001b[39mNone\u001b[39;00m:\n\u001b[1;32m    438\u001b[0m     \u001b[39mif\u001b[39;00m \u001b[39mself\u001b[39m\u001b[39m.\u001b[39mpadding_mode \u001b[39m==\u001b[39m \u001b[39m'\u001b[39m\u001b[39mzeros\u001b[39m\u001b[39m'\u001b[39m:\n\u001b[0;32m--> 439\u001b[0m         \u001b[39mself\u001b[39m\u001b[39m.\u001b[39m_packed_params \u001b[39m=\u001b[39m torch\u001b[39m.\u001b[39;49mops\u001b[39m.\u001b[39;49mquantized\u001b[39m.\u001b[39;49mconv2d_prepack(\n\u001b[1;32m    440\u001b[0m             w, b, \u001b[39mself\u001b[39;49m\u001b[39m.\u001b[39;49mstride, \u001b[39mself\u001b[39;49m\u001b[39m.\u001b[39;49mpadding, \u001b[39mself\u001b[39;49m\u001b[39m.\u001b[39;49mdilation, \u001b[39mself\u001b[39;49m\u001b[39m.\u001b[39;49mgroups)\n\u001b[1;32m    441\u001b[0m     \u001b[39melse\u001b[39;00m:\n\u001b[1;32m    442\u001b[0m         \u001b[39mself\u001b[39m\u001b[39m.\u001b[39m_packed_params \u001b[39m=\u001b[39m torch\u001b[39m.\u001b[39mops\u001b[39m.\u001b[39mquantized\u001b[39m.\u001b[39mconv2d_prepack(\n\u001b[1;32m    443\u001b[0m             w, b, \u001b[39mself\u001b[39m\u001b[39m.\u001b[39mstride, _pair(\u001b[39m0\u001b[39m), \u001b[39mself\u001b[39m\u001b[39m.\u001b[39mdilation, \u001b[39mself\u001b[39m\u001b[39m.\u001b[39mgroups)\n",
      "File \u001b[0;32m/usr/local/lib/python3.8/dist-packages/torch/_ops.py:442\u001b[0m, in \u001b[0;36mOpOverloadPacket.__call__\u001b[0;34m(self, *args, **kwargs)\u001b[0m\n\u001b[1;32m    437\u001b[0m \u001b[39mdef\u001b[39;00m \u001b[39m__call__\u001b[39m(\u001b[39mself\u001b[39m, \u001b[39m*\u001b[39margs, \u001b[39m*\u001b[39m\u001b[39m*\u001b[39mkwargs):\n\u001b[1;32m    438\u001b[0m     \u001b[39m# overloading __call__ to ensure torch.ops.foo.bar()\u001b[39;00m\n\u001b[1;32m    439\u001b[0m     \u001b[39m# is still callable from JIT\u001b[39;00m\n\u001b[1;32m    440\u001b[0m     \u001b[39m# We save the function ptr as the `op` attribute on\u001b[39;00m\n\u001b[1;32m    441\u001b[0m     \u001b[39m# OpOverloadPacket to access it here.\u001b[39;00m\n\u001b[0;32m--> 442\u001b[0m     \u001b[39mreturn\u001b[39;00m \u001b[39mself\u001b[39;49m\u001b[39m.\u001b[39;49m_op(\u001b[39m*\u001b[39;49margs, \u001b[39m*\u001b[39;49m\u001b[39m*\u001b[39;49mkwargs \u001b[39mor\u001b[39;49;00m {})\n",
      "\u001b[0;31mRuntimeError\u001b[0m: Unsupported qscheme: per_channel_affine"
     ]
    }
   ],
   "source": [
    "quant.static_quantization(model, dataset, calibrate=False)"
   ]
  },
  {
   "cell_type": "code",
   "execution_count": 47,
   "metadata": {},
   "outputs": [
    {
     "ename": "AttributeError",
     "evalue": "'Conv2d' object has no attribute 'split'",
     "output_type": "error",
     "traceback": [
      "\u001b[0;31m---------------------------------------------------------------------------\u001b[0m",
      "\u001b[0;31mAttributeError\u001b[0m                            Traceback (most recent call last)",
      "Cell \u001b[0;32mIn[47], line 1\u001b[0m\n\u001b[0;32m----> 1\u001b[0m quant\u001b[39m.\u001b[39;49mfuse_modules(model)\n",
      "File \u001b[0;32m/workspace/experiments/notebooks/../../src/compression/quantization.py:66\u001b[0m, in \u001b[0;36mfuse_modules\u001b[0;34m(model)\u001b[0m\n\u001b[1;32m     64\u001b[0m \u001b[39mdef\u001b[39;00m \u001b[39mfuse_modules\u001b[39m(model):\n\u001b[1;32m     65\u001b[0m     modules_to_fuse \u001b[39m=\u001b[39m get_modules_to_fuse(model)\n\u001b[0;32m---> 66\u001b[0m     torch\u001b[39m.\u001b[39;49mquantization\u001b[39m.\u001b[39;49mfuse_modules(model, modules_to_fuse, inplace\u001b[39m=\u001b[39;49m\u001b[39mTrue\u001b[39;49;00m)\n",
      "File \u001b[0;32m/usr/local/lib/python3.8/dist-packages/torch/ao/quantization/fuse_modules.py:152\u001b[0m, in \u001b[0;36mfuse_modules\u001b[0;34m(model, modules_to_fuse, inplace, fuser_func, fuse_custom_config_dict)\u001b[0m\n\u001b[1;32m     97\u001b[0m \u001b[39mdef\u001b[39;00m \u001b[39mfuse_modules\u001b[39m(model, modules_to_fuse, inplace\u001b[39m=\u001b[39m\u001b[39mFalse\u001b[39;00m, fuser_func\u001b[39m=\u001b[39mfuse_known_modules, fuse_custom_config_dict\u001b[39m=\u001b[39m\u001b[39mNone\u001b[39;00m):\n\u001b[1;32m     98\u001b[0m \u001b[39m    \u001b[39m\u001b[39mr\u001b[39m\u001b[39m\"\"\"Fuses a list of modules into a single module\u001b[39;00m\n\u001b[1;32m     99\u001b[0m \n\u001b[1;32m    100\u001b[0m \u001b[39m    Fuses only the following sequence of modules:\u001b[39;00m\n\u001b[0;32m   (...)\u001b[0m\n\u001b[1;32m    150\u001b[0m \n\u001b[1;32m    151\u001b[0m \u001b[39m    \"\"\"\u001b[39;00m\n\u001b[0;32m--> 152\u001b[0m     \u001b[39mreturn\u001b[39;00m _fuse_modules(\n\u001b[1;32m    153\u001b[0m         model,\n\u001b[1;32m    154\u001b[0m         modules_to_fuse,\n\u001b[1;32m    155\u001b[0m         is_qat\u001b[39m=\u001b[39;49m\u001b[39mFalse\u001b[39;49;00m,\n\u001b[1;32m    156\u001b[0m         inplace\u001b[39m=\u001b[39;49minplace,\n\u001b[1;32m    157\u001b[0m         fuser_func\u001b[39m=\u001b[39;49mfuse_known_modules,\n\u001b[1;32m    158\u001b[0m         fuse_custom_config_dict\u001b[39m=\u001b[39;49m\u001b[39mNone\u001b[39;49;00m)\n",
      "File \u001b[0;32m/usr/local/lib/python3.8/dist-packages/torch/ao/quantization/fuse_modules.py:94\u001b[0m, in \u001b[0;36m_fuse_modules\u001b[0;34m(model, modules_to_fuse, is_qat, inplace, fuser_func, fuse_custom_config_dict)\u001b[0m\n\u001b[1;32m     91\u001b[0m \u001b[39melse\u001b[39;00m:\n\u001b[1;32m     92\u001b[0m     \u001b[39m# Handle case of modules_to_fuse being a list of lists\u001b[39;00m\n\u001b[1;32m     93\u001b[0m     \u001b[39mfor\u001b[39;00m module_list \u001b[39min\u001b[39;00m modules_to_fuse:\n\u001b[0;32m---> 94\u001b[0m         _fuse_modules_helper(model, module_list, is_qat, fuser_func, fuse_custom_config_dict)\n\u001b[1;32m     95\u001b[0m \u001b[39mreturn\u001b[39;00m model\n",
      "File \u001b[0;32m/usr/local/lib/python3.8/dist-packages/torch/ao/quantization/fuse_modules.py:75\u001b[0m, in \u001b[0;36m_fuse_modules_helper\u001b[0;34m(model, modules_to_fuse, is_qat, fuser_func, fuse_custom_config_dict)\u001b[0m\n\u001b[1;32m     73\u001b[0m mod_list \u001b[39m=\u001b[39m []\n\u001b[1;32m     74\u001b[0m \u001b[39mfor\u001b[39;00m item \u001b[39min\u001b[39;00m modules_to_fuse:\n\u001b[0;32m---> 75\u001b[0m     mod_list\u001b[39m.\u001b[39mappend(_get_module(model, item))\n\u001b[1;32m     77\u001b[0m \u001b[39m# Fuse list of modules\u001b[39;00m\n\u001b[1;32m     78\u001b[0m new_mod_list \u001b[39m=\u001b[39m fuser_func(mod_list, is_qat, additional_fuser_method_mapping)\n",
      "File \u001b[0;32m/usr/local/lib/python3.8/dist-packages/torch/ao/quantization/fuse_modules.py:16\u001b[0m, in \u001b[0;36m_get_module\u001b[0;34m(model, submodule_key)\u001b[0m\n\u001b[1;32m     15\u001b[0m \u001b[39mdef\u001b[39;00m \u001b[39m_get_module\u001b[39m(model, submodule_key):\n\u001b[0;32m---> 16\u001b[0m     tokens \u001b[39m=\u001b[39m submodule_key\u001b[39m.\u001b[39;49msplit(\u001b[39m'\u001b[39m\u001b[39m.\u001b[39m\u001b[39m'\u001b[39m)\n\u001b[1;32m     17\u001b[0m     cur_mod \u001b[39m=\u001b[39m model\n\u001b[1;32m     18\u001b[0m     \u001b[39mfor\u001b[39;00m s \u001b[39min\u001b[39;00m tokens:\n",
      "File \u001b[0;32m/usr/local/lib/python3.8/dist-packages/torch/nn/modules/module.py:1269\u001b[0m, in \u001b[0;36mModule.__getattr__\u001b[0;34m(self, name)\u001b[0m\n\u001b[1;32m   1267\u001b[0m     \u001b[39mif\u001b[39;00m name \u001b[39min\u001b[39;00m modules:\n\u001b[1;32m   1268\u001b[0m         \u001b[39mreturn\u001b[39;00m modules[name]\n\u001b[0;32m-> 1269\u001b[0m \u001b[39mraise\u001b[39;00m \u001b[39mAttributeError\u001b[39;00m(\u001b[39m\"\u001b[39m\u001b[39m'\u001b[39m\u001b[39m{}\u001b[39;00m\u001b[39m'\u001b[39m\u001b[39m object has no attribute \u001b[39m\u001b[39m'\u001b[39m\u001b[39m{}\u001b[39;00m\u001b[39m'\u001b[39m\u001b[39m\"\u001b[39m\u001b[39m.\u001b[39mformat(\n\u001b[1;32m   1270\u001b[0m     \u001b[39mtype\u001b[39m(\u001b[39mself\u001b[39m)\u001b[39m.\u001b[39m\u001b[39m__name__\u001b[39m, name))\n",
      "\u001b[0;31mAttributeError\u001b[0m: 'Conv2d' object has no attribute 'split'"
     ]
    }
   ],
   "source": [
    "quant.fuse_modules(model)"
   ]
  },
  {
   "cell_type": "code",
   "execution_count": 43,
   "metadata": {},
   "outputs": [
    {
     "name": "stdout",
     "output_type": "stream",
     "text": [
      "Files already downloaded and verified\n",
      "Files already downloaded and verified\n",
      "Files already downloaded and verified\n",
      "Files already downloaded and verified\n"
     ]
    },
    {
     "data": {
      "text/plain": [
       "[[Conv2d(3, 64, kernel_size=(7, 7), stride=(2, 2), padding=(3, 3), bias=False),\n",
       "  BatchNorm2d(64, eps=1e-05, momentum=0.1, affine=True, track_running_stats=True),\n",
       "  ReLU(inplace=True)],\n",
       " [Conv2d(64, 64, kernel_size=(1, 1), stride=(1, 1), bias=False),\n",
       "  BatchNorm2d(64, eps=1e-05, momentum=0.1, affine=True, track_running_stats=True)],\n",
       " [Conv2d(64, 64, kernel_size=(3, 3), stride=(1, 1), padding=(1, 1), bias=False),\n",
       "  BatchNorm2d(64, eps=1e-05, momentum=0.1, affine=True, track_running_stats=True)],\n",
       " [Conv2d(64, 256, kernel_size=(1, 1), stride=(1, 1), bias=False),\n",
       "  BatchNorm2d(256, eps=1e-05, momentum=0.1, affine=True, track_running_stats=True),\n",
       "  ReLU(inplace=True)],\n",
       " [Conv2d(64, 256, kernel_size=(1, 1), stride=(1, 1), bias=False),\n",
       "  BatchNorm2d(256, eps=1e-05, momentum=0.1, affine=True, track_running_stats=True)],\n",
       " [Conv2d(256, 64, kernel_size=(1, 1), stride=(1, 1), bias=False),\n",
       "  BatchNorm2d(64, eps=1e-05, momentum=0.1, affine=True, track_running_stats=True)],\n",
       " [Conv2d(64, 64, kernel_size=(3, 3), stride=(1, 1), padding=(1, 1), bias=False),\n",
       "  BatchNorm2d(64, eps=1e-05, momentum=0.1, affine=True, track_running_stats=True)],\n",
       " [Conv2d(64, 256, kernel_size=(1, 1), stride=(1, 1), bias=False),\n",
       "  BatchNorm2d(256, eps=1e-05, momentum=0.1, affine=True, track_running_stats=True),\n",
       "  ReLU(inplace=True)],\n",
       " [Conv2d(256, 64, kernel_size=(1, 1), stride=(1, 1), bias=False),\n",
       "  BatchNorm2d(64, eps=1e-05, momentum=0.1, affine=True, track_running_stats=True)],\n",
       " [Conv2d(64, 64, kernel_size=(3, 3), stride=(1, 1), padding=(1, 1), bias=False),\n",
       "  BatchNorm2d(64, eps=1e-05, momentum=0.1, affine=True, track_running_stats=True)],\n",
       " [Conv2d(64, 256, kernel_size=(1, 1), stride=(1, 1), bias=False),\n",
       "  BatchNorm2d(256, eps=1e-05, momentum=0.1, affine=True, track_running_stats=True),\n",
       "  ReLU(inplace=True)],\n",
       " [Conv2d(256, 128, kernel_size=(1, 1), stride=(1, 1), bias=False),\n",
       "  BatchNorm2d(128, eps=1e-05, momentum=0.1, affine=True, track_running_stats=True)],\n",
       " [Conv2d(128, 128, kernel_size=(3, 3), stride=(2, 2), padding=(1, 1), bias=False),\n",
       "  BatchNorm2d(128, eps=1e-05, momentum=0.1, affine=True, track_running_stats=True)],\n",
       " [Conv2d(128, 512, kernel_size=(1, 1), stride=(1, 1), bias=False),\n",
       "  BatchNorm2d(512, eps=1e-05, momentum=0.1, affine=True, track_running_stats=True),\n",
       "  ReLU(inplace=True)],\n",
       " [Conv2d(256, 512, kernel_size=(1, 1), stride=(2, 2), bias=False),\n",
       "  BatchNorm2d(512, eps=1e-05, momentum=0.1, affine=True, track_running_stats=True)],\n",
       " [Conv2d(512, 128, kernel_size=(1, 1), stride=(1, 1), bias=False),\n",
       "  BatchNorm2d(128, eps=1e-05, momentum=0.1, affine=True, track_running_stats=True)],\n",
       " [Conv2d(128, 128, kernel_size=(3, 3), stride=(1, 1), padding=(1, 1), bias=False),\n",
       "  BatchNorm2d(128, eps=1e-05, momentum=0.1, affine=True, track_running_stats=True)],\n",
       " [Conv2d(128, 512, kernel_size=(1, 1), stride=(1, 1), bias=False),\n",
       "  BatchNorm2d(512, eps=1e-05, momentum=0.1, affine=True, track_running_stats=True),\n",
       "  ReLU(inplace=True)],\n",
       " [Conv2d(512, 128, kernel_size=(1, 1), stride=(1, 1), bias=False),\n",
       "  BatchNorm2d(128, eps=1e-05, momentum=0.1, affine=True, track_running_stats=True)],\n",
       " [Conv2d(128, 128, kernel_size=(3, 3), stride=(1, 1), padding=(1, 1), bias=False),\n",
       "  BatchNorm2d(128, eps=1e-05, momentum=0.1, affine=True, track_running_stats=True)],\n",
       " [Conv2d(128, 512, kernel_size=(1, 1), stride=(1, 1), bias=False),\n",
       "  BatchNorm2d(512, eps=1e-05, momentum=0.1, affine=True, track_running_stats=True),\n",
       "  ReLU(inplace=True)],\n",
       " [Conv2d(512, 128, kernel_size=(1, 1), stride=(1, 1), bias=False),\n",
       "  BatchNorm2d(128, eps=1e-05, momentum=0.1, affine=True, track_running_stats=True)],\n",
       " [Conv2d(128, 128, kernel_size=(3, 3), stride=(1, 1), padding=(1, 1), bias=False),\n",
       "  BatchNorm2d(128, eps=1e-05, momentum=0.1, affine=True, track_running_stats=True)],\n",
       " [Conv2d(128, 512, kernel_size=(1, 1), stride=(1, 1), bias=False),\n",
       "  BatchNorm2d(512, eps=1e-05, momentum=0.1, affine=True, track_running_stats=True),\n",
       "  ReLU(inplace=True)],\n",
       " [Conv2d(512, 256, kernel_size=(1, 1), stride=(1, 1), bias=False),\n",
       "  BatchNorm2d(256, eps=1e-05, momentum=0.1, affine=True, track_running_stats=True)],\n",
       " [Conv2d(256, 256, kernel_size=(3, 3), stride=(2, 2), padding=(1, 1), bias=False),\n",
       "  BatchNorm2d(256, eps=1e-05, momentum=0.1, affine=True, track_running_stats=True)],\n",
       " [Conv2d(256, 1024, kernel_size=(1, 1), stride=(1, 1), bias=False),\n",
       "  BatchNorm2d(1024, eps=1e-05, momentum=0.1, affine=True, track_running_stats=True),\n",
       "  ReLU(inplace=True)],\n",
       " [Conv2d(512, 1024, kernel_size=(1, 1), stride=(2, 2), bias=False),\n",
       "  BatchNorm2d(1024, eps=1e-05, momentum=0.1, affine=True, track_running_stats=True)],\n",
       " [Conv2d(1024, 256, kernel_size=(1, 1), stride=(1, 1), bias=False),\n",
       "  BatchNorm2d(256, eps=1e-05, momentum=0.1, affine=True, track_running_stats=True)],\n",
       " [Conv2d(256, 256, kernel_size=(3, 3), stride=(1, 1), padding=(1, 1), bias=False),\n",
       "  BatchNorm2d(256, eps=1e-05, momentum=0.1, affine=True, track_running_stats=True)],\n",
       " [Conv2d(256, 1024, kernel_size=(1, 1), stride=(1, 1), bias=False),\n",
       "  BatchNorm2d(1024, eps=1e-05, momentum=0.1, affine=True, track_running_stats=True),\n",
       "  ReLU(inplace=True)],\n",
       " [Conv2d(1024, 256, kernel_size=(1, 1), stride=(1, 1), bias=False),\n",
       "  BatchNorm2d(256, eps=1e-05, momentum=0.1, affine=True, track_running_stats=True)],\n",
       " [Conv2d(256, 256, kernel_size=(3, 3), stride=(1, 1), padding=(1, 1), bias=False),\n",
       "  BatchNorm2d(256, eps=1e-05, momentum=0.1, affine=True, track_running_stats=True)],\n",
       " [Conv2d(256, 1024, kernel_size=(1, 1), stride=(1, 1), bias=False),\n",
       "  BatchNorm2d(1024, eps=1e-05, momentum=0.1, affine=True, track_running_stats=True),\n",
       "  ReLU(inplace=True)],\n",
       " [Conv2d(1024, 256, kernel_size=(1, 1), stride=(1, 1), bias=False),\n",
       "  BatchNorm2d(256, eps=1e-05, momentum=0.1, affine=True, track_running_stats=True)],\n",
       " [Conv2d(256, 256, kernel_size=(3, 3), stride=(1, 1), padding=(1, 1), bias=False),\n",
       "  BatchNorm2d(256, eps=1e-05, momentum=0.1, affine=True, track_running_stats=True)],\n",
       " [Conv2d(256, 1024, kernel_size=(1, 1), stride=(1, 1), bias=False),\n",
       "  BatchNorm2d(1024, eps=1e-05, momentum=0.1, affine=True, track_running_stats=True),\n",
       "  ReLU(inplace=True)],\n",
       " [Conv2d(1024, 256, kernel_size=(1, 1), stride=(1, 1), bias=False),\n",
       "  BatchNorm2d(256, eps=1e-05, momentum=0.1, affine=True, track_running_stats=True)],\n",
       " [Conv2d(256, 256, kernel_size=(3, 3), stride=(1, 1), padding=(1, 1), bias=False),\n",
       "  BatchNorm2d(256, eps=1e-05, momentum=0.1, affine=True, track_running_stats=True)],\n",
       " [Conv2d(256, 1024, kernel_size=(1, 1), stride=(1, 1), bias=False),\n",
       "  BatchNorm2d(1024, eps=1e-05, momentum=0.1, affine=True, track_running_stats=True),\n",
       "  ReLU(inplace=True)],\n",
       " [Conv2d(1024, 256, kernel_size=(1, 1), stride=(1, 1), bias=False),\n",
       "  BatchNorm2d(256, eps=1e-05, momentum=0.1, affine=True, track_running_stats=True)],\n",
       " [Conv2d(256, 256, kernel_size=(3, 3), stride=(1, 1), padding=(1, 1), bias=False),\n",
       "  BatchNorm2d(256, eps=1e-05, momentum=0.1, affine=True, track_running_stats=True)],\n",
       " [Conv2d(256, 1024, kernel_size=(1, 1), stride=(1, 1), bias=False),\n",
       "  BatchNorm2d(1024, eps=1e-05, momentum=0.1, affine=True, track_running_stats=True),\n",
       "  ReLU(inplace=True)],\n",
       " [Conv2d(1024, 512, kernel_size=(1, 1), stride=(1, 1), bias=False),\n",
       "  BatchNorm2d(512, eps=1e-05, momentum=0.1, affine=True, track_running_stats=True)],\n",
       " [Conv2d(512, 512, kernel_size=(3, 3), stride=(2, 2), padding=(1, 1), bias=False),\n",
       "  BatchNorm2d(512, eps=1e-05, momentum=0.1, affine=True, track_running_stats=True)],\n",
       " [Conv2d(512, 2048, kernel_size=(1, 1), stride=(1, 1), bias=False),\n",
       "  BatchNorm2d(2048, eps=1e-05, momentum=0.1, affine=True, track_running_stats=True),\n",
       "  ReLU(inplace=True)],\n",
       " [Conv2d(1024, 2048, kernel_size=(1, 1), stride=(2, 2), bias=False),\n",
       "  BatchNorm2d(2048, eps=1e-05, momentum=0.1, affine=True, track_running_stats=True)],\n",
       " [Conv2d(2048, 512, kernel_size=(1, 1), stride=(1, 1), bias=False),\n",
       "  BatchNorm2d(512, eps=1e-05, momentum=0.1, affine=True, track_running_stats=True)],\n",
       " [Conv2d(512, 512, kernel_size=(3, 3), stride=(1, 1), padding=(1, 1), bias=False),\n",
       "  BatchNorm2d(512, eps=1e-05, momentum=0.1, affine=True, track_running_stats=True)],\n",
       " [Conv2d(512, 2048, kernel_size=(1, 1), stride=(1, 1), bias=False),\n",
       "  BatchNorm2d(2048, eps=1e-05, momentum=0.1, affine=True, track_running_stats=True),\n",
       "  ReLU(inplace=True)],\n",
       " [Conv2d(2048, 512, kernel_size=(1, 1), stride=(1, 1), bias=False),\n",
       "  BatchNorm2d(512, eps=1e-05, momentum=0.1, affine=True, track_running_stats=True)],\n",
       " [Conv2d(512, 512, kernel_size=(3, 3), stride=(1, 1), padding=(1, 1), bias=False),\n",
       "  BatchNorm2d(512, eps=1e-05, momentum=0.1, affine=True, track_running_stats=True)],\n",
       " [Conv2d(512, 2048, kernel_size=(1, 1), stride=(1, 1), bias=False),\n",
       "  BatchNorm2d(2048, eps=1e-05, momentum=0.1, affine=True, track_running_stats=True),\n",
       "  ReLU(inplace=True)]]"
      ]
     },
     "execution_count": 43,
     "metadata": {},
     "output_type": "execute_result"
    }
   ],
   "source": [
    "quant.get_modules_to_fuse(model)"
   ]
  },
  {
   "cell_type": "code",
   "execution_count": 27,
   "metadata": {},
   "outputs": [
    {
     "name": "stderr",
     "output_type": "stream",
     "text": [
      "Validate: 100%|██████████| 79/79 [00:08<00:00,  8.86it/s]"
     ]
    },
    {
     "name": "stdout",
     "output_type": "stream",
     "text": [
      "Test loss: 0.0126\n",
      "Test score: 99.6638\n"
     ]
    },
    {
     "name": "stderr",
     "output_type": "stream",
     "text": [
      "\n"
     ]
    },
    {
     "data": {
      "text/plain": [
       "(0.012633227394146644,\n",
       " 99.66376582278481,\n",
       " 8919.443130493164,\n",
       " 112.90434342396411,\n",
       " 14.113042927995513)"
      ]
     },
     "execution_count": 27,
     "metadata": {},
     "output_type": "execute_result"
    }
   ],
   "source": [
    "general.validate(model, dataset)"
   ]
  }
 ],
 "metadata": {
  "kernelspec": {
   "display_name": "Python 3",
   "language": "python",
   "name": "python3"
  },
  "language_info": {
   "codemirror_mode": {
    "name": "ipython",
    "version": 3
   },
   "file_extension": ".py",
   "mimetype": "text/x-python",
   "name": "python",
   "nbconvert_exporter": "python",
   "pygments_lexer": "ipython3",
   "version": "3.8.10"
  },
  "orig_nbformat": 4
 },
 "nbformat": 4,
 "nbformat_minor": 2
}
