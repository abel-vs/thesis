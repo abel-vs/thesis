{
 "cells": [
  {
   "attachments": {},
   "cell_type": "markdown",
   "metadata": {},
   "source": [
    "# ImageNet Experiments"
   ]
  },
  {
   "cell_type": "code",
   "execution_count": 1,
   "metadata": {},
   "outputs": [],
   "source": [
    "%load_ext autoreload\n",
    "%autoreload 2"
   ]
  },
  {
   "cell_type": "code",
   "execution_count": 2,
   "metadata": {},
   "outputs": [
    {
     "name": "stdout",
     "output_type": "stream",
     "text": [
      "Files already downloaded and verified\n",
      "Files already downloaded and verified\n"
     ]
    },
    {
     "name": "stderr",
     "output_type": "stream",
     "text": [
      "Found cached dataset imagenet-1k (/workspace/volume/cache/imagenet-1k/default-212aff79ee65f848/1.0.0/a1e9bfc56c3a7350165007d1176b15e9128fcaf9ab972147840529aed3ae52bc)\n"
     ]
    },
    {
     "data": {
      "application/vnd.jupyter.widget-view+json": {
       "model_id": "3ece16c09f7249ef97fd2bb0e412be67",
       "version_major": 2,
       "version_minor": 0
      },
      "text/plain": [
       "  0%|          | 0/3 [00:00<?, ?it/s]"
      ]
     },
     "metadata": {},
     "output_type": "display_data"
    }
   ],
   "source": [
    "import torch\n",
    "import torchvision as tv\n",
    "import sys\n",
    "import torch.nn as nn\n",
    "import torch.nn.functional as F\n",
    "\n",
    "sys.path.append('../../')\n",
    "sys.path.append('../../src/')\n",
    "\n",
    "import src.general as general\n",
    "import src.interfaces.dataset_models as data\n",
    "import src.metrics as metrics\n",
    "import src.evaluation as eval\n",
    "import src.plot as plot\n",
    "import src.compression.distillation as distill\n",
    "import src.compression.pruning as prune\n",
    "import src.compression.quantization as quant\n"
   ]
  },
  {
   "cell_type": "code",
   "execution_count": 3,
   "metadata": {},
   "outputs": [],
   "source": [
    "dataset = data.supported_datasets[\"ImageNet\"]"
   ]
  },
  {
   "attachments": {},
   "cell_type": "markdown",
   "metadata": {},
   "source": [
    "## ResNet"
   ]
  },
  {
   "cell_type": "code",
   "execution_count": 4,
   "metadata": {},
   "outputs": [],
   "source": [
    "resnet = torch.load(\"/workspace/volume/models/resnet50-imagenet.pt\")"
   ]
  },
  {
   "cell_type": "code",
   "execution_count": 5,
   "metadata": {},
   "outputs": [
    {
     "ename": "OSError",
     "evalue": "[Errno 28] No space left on device",
     "output_type": "error",
     "traceback": [
      "\u001b[0;31m---------------------------------------------------------------------------\u001b[0m",
      "\u001b[0;31mOSError\u001b[0m                                   Traceback (most recent call last)",
      "Cell \u001b[0;32mIn[5], line 1\u001b[0m\n\u001b[0;32m----> 1\u001b[0m results \u001b[39m=\u001b[39m \u001b[39meval\u001b[39;49m\u001b[39m.\u001b[39;49mget_results(resnet, dataset)\n\u001b[1;32m      2\u001b[0m plot\u001b[39m.\u001b[39mprint_results(\u001b[39m*\u001b[39m\u001b[39m*\u001b[39mresults)\n",
      "File \u001b[0;32m/workspace/experiments/notebooks/../../src/evaluation.py:71\u001b[0m, in \u001b[0;36mget_results\u001b[0;34m(model, dataset, device)\u001b[0m\n\u001b[1;32m     70\u001b[0m \u001b[39mdef\u001b[39;00m \u001b[39mget_results\u001b[39m(model, dataset: DataSet, device\u001b[39m=\u001b[39m\u001b[39mNone\u001b[39;00m):\n\u001b[0;32m---> 71\u001b[0m     metrics \u001b[39m=\u001b[39m get_metrics(model, dataset, device\u001b[39m=\u001b[39;49mdevice)\n\u001b[1;32m     73\u001b[0m     macs, params \u001b[39m=\u001b[39m count_ops_and_params(model, metrics[\u001b[39m\"\u001b[39m\u001b[39mexample_input\u001b[39m\u001b[39m\"\u001b[39m])\n\u001b[1;32m     74\u001b[0m     results \u001b[39m=\u001b[39m {\n\u001b[1;32m     75\u001b[0m         \u001b[39m\"\u001b[39m\u001b[39mloss\u001b[39m\u001b[39m\"\u001b[39m: metrics[\u001b[39m\"\u001b[39m\u001b[39mloss\u001b[39m\u001b[39m\"\u001b[39m],\n\u001b[1;32m     76\u001b[0m         \u001b[39m\"\u001b[39m\u001b[39mscore\u001b[39m\u001b[39m\"\u001b[39m: metrics[\u001b[39m\"\u001b[39m\u001b[39mscore\u001b[39m\u001b[39m\"\u001b[39m],\n\u001b[0;32m   (...)\u001b[0m\n\u001b[1;32m     81\u001b[0m         \u001b[39m\"\u001b[39m\u001b[39mmacs\u001b[39m\u001b[39m\"\u001b[39m: \u001b[39mround\u001b[39m(macs),\n\u001b[1;32m     82\u001b[0m     }\n",
      "File \u001b[0;32m/workspace/experiments/notebooks/../../src/evaluation.py:48\u001b[0m, in \u001b[0;36mget_metrics\u001b[0;34m(model, dataset, device)\u001b[0m\n\u001b[1;32m     47\u001b[0m \u001b[39mdef\u001b[39;00m \u001b[39mget_metrics\u001b[39m(model, dataset: DataSet, device\u001b[39m=\u001b[39m\u001b[39mNone\u001b[39;00m):\n\u001b[0;32m---> 48\u001b[0m     example_input \u001b[39m=\u001b[39m general\u001b[39m.\u001b[39;49mget_example_inputs(dataset\u001b[39m.\u001b[39;49mtest_loader, device\u001b[39m=\u001b[39;49mdevice)\n\u001b[1;32m     49\u001b[0m     batch_size \u001b[39m=\u001b[39m example_input\u001b[39m.\u001b[39mshape[\u001b[39m0\u001b[39m]\n\u001b[1;32m     51\u001b[0m     loss, score, duration, batch_duration, data_duration \u001b[39m=\u001b[39m general\u001b[39m.\u001b[39mtest(\n\u001b[1;32m     52\u001b[0m         model, dataset, device\u001b[39m=\u001b[39mdevice)\n",
      "File \u001b[0;32m/workspace/experiments/notebooks/../../src/general.py:188\u001b[0m, in \u001b[0;36mget_example_inputs\u001b[0;34m(data_loader, device)\u001b[0m\n\u001b[1;32m    186\u001b[0m \u001b[39mif\u001b[39;00m device \u001b[39mis\u001b[39;00m \u001b[39mNone\u001b[39;00m:\n\u001b[1;32m    187\u001b[0m     device \u001b[39m=\u001b[39m get_device()\n\u001b[0;32m--> 188\u001b[0m input_batch \u001b[39m=\u001b[39m get_example_input_batch(data_loader)\n\u001b[1;32m    189\u001b[0m \u001b[39mreturn\u001b[39;00m input_batch[\u001b[39m0\u001b[39m]\u001b[39m.\u001b[39mto(device)\n",
      "File \u001b[0;32m/workspace/experiments/notebooks/../../src/general.py:182\u001b[0m, in \u001b[0;36mget_example_input_batch\u001b[0;34m(data_loader)\u001b[0m\n\u001b[1;32m    181\u001b[0m \u001b[39mdef\u001b[39;00m \u001b[39mget_example_input_batch\u001b[39m(data_loader):\n\u001b[0;32m--> 182\u001b[0m     \u001b[39mreturn\u001b[39;00m \u001b[39mnext\u001b[39m(\u001b[39miter\u001b[39;49m(data_loader))\n",
      "File \u001b[0;32m/usr/local/lib/python3.8/dist-packages/torch/utils/data/dataloader.py:435\u001b[0m, in \u001b[0;36mDataLoader.__iter__\u001b[0;34m(self)\u001b[0m\n\u001b[1;32m    433\u001b[0m     \u001b[39mreturn\u001b[39;00m \u001b[39mself\u001b[39m\u001b[39m.\u001b[39m_iterator\n\u001b[1;32m    434\u001b[0m \u001b[39melse\u001b[39;00m:\n\u001b[0;32m--> 435\u001b[0m     \u001b[39mreturn\u001b[39;00m \u001b[39mself\u001b[39;49m\u001b[39m.\u001b[39;49m_get_iterator()\n",
      "File \u001b[0;32m/usr/local/lib/python3.8/dist-packages/torch/utils/data/dataloader.py:381\u001b[0m, in \u001b[0;36mDataLoader._get_iterator\u001b[0;34m(self)\u001b[0m\n\u001b[1;32m    379\u001b[0m \u001b[39melse\u001b[39;00m:\n\u001b[1;32m    380\u001b[0m     \u001b[39mself\u001b[39m\u001b[39m.\u001b[39mcheck_worker_number_rationality()\n\u001b[0;32m--> 381\u001b[0m     \u001b[39mreturn\u001b[39;00m _MultiProcessingDataLoaderIter(\u001b[39mself\u001b[39;49m)\n",
      "File \u001b[0;32m/usr/local/lib/python3.8/dist-packages/torch/utils/data/dataloader.py:1007\u001b[0m, in \u001b[0;36m_MultiProcessingDataLoaderIter.__init__\u001b[0;34m(self, loader)\u001b[0m\n\u001b[1;32m   1003\u001b[0m     \u001b[39mself\u001b[39m\u001b[39m.\u001b[39m_worker_init_fn \u001b[39m=\u001b[39m functools\u001b[39m.\u001b[39mpartial(\n\u001b[1;32m   1004\u001b[0m         _sharding_worker_init_fn, \u001b[39mself\u001b[39m\u001b[39m.\u001b[39m_worker_init_fn, \u001b[39mself\u001b[39m\u001b[39m.\u001b[39m_world_size, \u001b[39mself\u001b[39m\u001b[39m.\u001b[39m_rank)\n\u001b[1;32m   1006\u001b[0m \u001b[39m# No certainty which module multiprocessing_context is\u001b[39;00m\n\u001b[0;32m-> 1007\u001b[0m \u001b[39mself\u001b[39m\u001b[39m.\u001b[39m_worker_result_queue \u001b[39m=\u001b[39m multiprocessing_context\u001b[39m.\u001b[39;49mQueue()  \u001b[39m# type: ignore[var-annotated]\u001b[39;00m\n\u001b[1;32m   1008\u001b[0m \u001b[39mself\u001b[39m\u001b[39m.\u001b[39m_worker_pids_set \u001b[39m=\u001b[39m \u001b[39mFalse\u001b[39;00m\n\u001b[1;32m   1009\u001b[0m \u001b[39mself\u001b[39m\u001b[39m.\u001b[39m_shutdown \u001b[39m=\u001b[39m \u001b[39mFalse\u001b[39;00m\n",
      "File \u001b[0;32m/usr/lib/python3.8/multiprocessing/context.py:103\u001b[0m, in \u001b[0;36mBaseContext.Queue\u001b[0;34m(self, maxsize)\u001b[0m\n\u001b[1;32m    101\u001b[0m \u001b[39m\u001b[39m\u001b[39m'''Returns a queue object'''\u001b[39;00m\n\u001b[1;32m    102\u001b[0m \u001b[39mfrom\u001b[39;00m \u001b[39m.\u001b[39;00m\u001b[39mqueues\u001b[39;00m \u001b[39mimport\u001b[39;00m Queue\n\u001b[0;32m--> 103\u001b[0m \u001b[39mreturn\u001b[39;00m Queue(maxsize, ctx\u001b[39m=\u001b[39;49m\u001b[39mself\u001b[39;49m\u001b[39m.\u001b[39;49mget_context())\n",
      "File \u001b[0;32m/usr/lib/python3.8/multiprocessing/queues.py:42\u001b[0m, in \u001b[0;36mQueue.__init__\u001b[0;34m(self, maxsize, ctx)\u001b[0m\n\u001b[1;32m     40\u001b[0m \u001b[39mself\u001b[39m\u001b[39m.\u001b[39m_maxsize \u001b[39m=\u001b[39m maxsize\n\u001b[1;32m     41\u001b[0m \u001b[39mself\u001b[39m\u001b[39m.\u001b[39m_reader, \u001b[39mself\u001b[39m\u001b[39m.\u001b[39m_writer \u001b[39m=\u001b[39m connection\u001b[39m.\u001b[39mPipe(duplex\u001b[39m=\u001b[39m\u001b[39mFalse\u001b[39;00m)\n\u001b[0;32m---> 42\u001b[0m \u001b[39mself\u001b[39m\u001b[39m.\u001b[39m_rlock \u001b[39m=\u001b[39m ctx\u001b[39m.\u001b[39;49mLock()\n\u001b[1;32m     43\u001b[0m \u001b[39mself\u001b[39m\u001b[39m.\u001b[39m_opid \u001b[39m=\u001b[39m os\u001b[39m.\u001b[39mgetpid()\n\u001b[1;32m     44\u001b[0m \u001b[39mif\u001b[39;00m sys\u001b[39m.\u001b[39mplatform \u001b[39m==\u001b[39m \u001b[39m'\u001b[39m\u001b[39mwin32\u001b[39m\u001b[39m'\u001b[39m:\n",
      "File \u001b[0;32m/usr/lib/python3.8/multiprocessing/context.py:68\u001b[0m, in \u001b[0;36mBaseContext.Lock\u001b[0;34m(self)\u001b[0m\n\u001b[1;32m     66\u001b[0m \u001b[39m\u001b[39m\u001b[39m'''Returns a non-recursive lock object'''\u001b[39;00m\n\u001b[1;32m     67\u001b[0m \u001b[39mfrom\u001b[39;00m \u001b[39m.\u001b[39;00m\u001b[39msynchronize\u001b[39;00m \u001b[39mimport\u001b[39;00m Lock\n\u001b[0;32m---> 68\u001b[0m \u001b[39mreturn\u001b[39;00m Lock(ctx\u001b[39m=\u001b[39;49m\u001b[39mself\u001b[39;49m\u001b[39m.\u001b[39;49mget_context())\n",
      "File \u001b[0;32m/usr/lib/python3.8/multiprocessing/synchronize.py:162\u001b[0m, in \u001b[0;36mLock.__init__\u001b[0;34m(self, ctx)\u001b[0m\n\u001b[1;32m    161\u001b[0m \u001b[39mdef\u001b[39;00m \u001b[39m__init__\u001b[39m(\u001b[39mself\u001b[39m, \u001b[39m*\u001b[39m, ctx):\n\u001b[0;32m--> 162\u001b[0m     SemLock\u001b[39m.\u001b[39;49m\u001b[39m__init__\u001b[39;49m(\u001b[39mself\u001b[39;49m, SEMAPHORE, \u001b[39m1\u001b[39;49m, \u001b[39m1\u001b[39;49m, ctx\u001b[39m=\u001b[39;49mctx)\n",
      "File \u001b[0;32m/usr/lib/python3.8/multiprocessing/synchronize.py:57\u001b[0m, in \u001b[0;36mSemLock.__init__\u001b[0;34m(self, kind, value, maxvalue, ctx)\u001b[0m\n\u001b[1;32m     55\u001b[0m \u001b[39mfor\u001b[39;00m i \u001b[39min\u001b[39;00m \u001b[39mrange\u001b[39m(\u001b[39m100\u001b[39m):\n\u001b[1;32m     56\u001b[0m     \u001b[39mtry\u001b[39;00m:\n\u001b[0;32m---> 57\u001b[0m         sl \u001b[39m=\u001b[39m \u001b[39mself\u001b[39m\u001b[39m.\u001b[39m_semlock \u001b[39m=\u001b[39m _multiprocessing\u001b[39m.\u001b[39;49mSemLock(\n\u001b[1;32m     58\u001b[0m             kind, value, maxvalue, \u001b[39mself\u001b[39;49m\u001b[39m.\u001b[39;49m_make_name(),\n\u001b[1;32m     59\u001b[0m             unlink_now)\n\u001b[1;32m     60\u001b[0m     \u001b[39mexcept\u001b[39;00m \u001b[39mFileExistsError\u001b[39;00m:\n\u001b[1;32m     61\u001b[0m         \u001b[39mpass\u001b[39;00m\n",
      "\u001b[0;31mOSError\u001b[0m: [Errno 28] No space left on device"
     ]
    }
   ],
   "source": [
    "results = eval.get_results(resnet, dataset)\n",
    "plot.print_results(**results)"
   ]
  },
  {
   "cell_type": "code",
   "execution_count": null,
   "metadata": {},
   "outputs": [],
   "source": [
    "general.finetune(resnet, dataset, 99, save_path=\"/workspace/volume/models/resnet_cifar.pt\", patience=1)"
   ]
  },
  {
   "attachments": {},
   "cell_type": "markdown",
   "metadata": {},
   "source": [
    "## VGG"
   ]
  },
  {
   "cell_type": "code",
   "execution_count": null,
   "metadata": {},
   "outputs": [],
   "source": [
    "vgg = torch.load(\"/workspace/volume/models/vgg16_cifar10.pt\")"
   ]
  },
  {
   "cell_type": "code",
   "execution_count": null,
   "metadata": {},
   "outputs": [],
   "source": [
    "results = eval.get_results(vgg, dataset)\n",
    "plot.print_results(**results)"
   ]
  },
  {
   "cell_type": "code",
   "execution_count": null,
   "metadata": {},
   "outputs": [],
   "source": [
    "general.finetune(vgg, dataset, 99, save_path=\"/workspace/volume/models/cifar10/vgg16_cifar10.pt\", patience=1)"
   ]
  },
  {
   "attachments": {},
   "cell_type": "markdown",
   "metadata": {},
   "source": [
    "## EfficientNet"
   ]
  },
  {
   "cell_type": "code",
   "execution_count": null,
   "metadata": {},
   "outputs": [],
   "source": [
    "efficientnet = torch.load(\"/workspace/volume/models/efficientnet_cifar10.pt\")"
   ]
  },
  {
   "cell_type": "code",
   "execution_count": null,
   "metadata": {},
   "outputs": [],
   "source": [
    "results = eval.get_results(efficientnet, dataset)\n",
    "plot.print_results(**results)"
   ]
  },
  {
   "cell_type": "code",
   "execution_count": null,
   "metadata": {},
   "outputs": [],
   "source": [
    "general.finetune(efficientnet, dataset, 99, save_path=\"/workspace/volume/models/cifar10/efficientnet_cifar10.pt\", patience=1)"
   ]
  }
 ],
 "metadata": {
  "kernelspec": {
   "display_name": "Python 3",
   "language": "python",
   "name": "python3"
  },
  "language_info": {
   "codemirror_mode": {
    "name": "ipython",
    "version": 3
   },
   "file_extension": ".py",
   "mimetype": "text/x-python",
   "name": "python",
   "nbconvert_exporter": "python",
   "pygments_lexer": "ipython3",
   "version": "3.8.10"
  },
  "orig_nbformat": 4
 },
 "nbformat": 4,
 "nbformat_minor": 2
}
