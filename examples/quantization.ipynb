{
 "cells": [
  {
   "attachments": {},
   "cell_type": "markdown",
   "metadata": {},
   "source": [
    "# Quantization\n",
    "This notebook acts as an example of how to use the quantization techniques."
   ]
  },
  {
   "attachments": {},
   "cell_type": "markdown",
   "metadata": {},
   "source": [
    "## Setup\n",
    "* Import the necessary packages.\n",
    "* Load a model.\n",
    "* Load a dataset.\n",
    "* Analyze performance of the model prior to quantization."
   ]
  },
  {
   "cell_type": "code",
   "execution_count": 3,
   "metadata": {},
   "outputs": [],
   "source": [
    "import torch\n",
    "import importlib\n",
    "import inspect\n",
    "import sys\n",
    "\n",
    "if '../' not in sys.path:\n",
    "    sys.path.append('../')\n"
   ]
  },
  {
   "cell_type": "code",
   "execution_count": 4,
   "metadata": {},
   "outputs": [
    {
     "name": "stdout",
     "output_type": "stream",
     "text": [
      "conv1.weight\n",
      "conv1.bias\n",
      "conv2.weight\n",
      "conv2.bias\n",
      "fc1.weight\n",
      "fc1.bias\n",
      "fc2.weight\n",
      "fc2.bias\n"
     ]
    }
   ],
   "source": [
    "model_state = \"../models/mnist.pt\"\n",
    "model_class = \"models.mnist\"\n",
    "\n",
    "\n",
    "# Import the module class\n",
    "module = importlib.import_module(model_class)\n",
    "\n",
    "# Get all classes in the module\n",
    "classes = [\n",
    "    obj[1] for obj in inspect.getmembers(module, inspect.isclass)\n",
    "]\n",
    "\n",
    "# Import the classes that are Modules\n",
    "for cls in classes:\n",
    "    if issubclass(cls, torch.nn.Module):\n",
    "        # Add the class to this package's variables\n",
    "        globals()[cls.__name__] = cls\n",
    "\n",
    "model = torch.load(model_state, map_location=torch.device('cpu'))\n",
    "\n",
    "# Print the model's parameters to confirm the model is loaded correctly\n",
    "for i in model.named_parameters():\n",
    "    print(i[0])"
   ]
  },
  {
   "cell_type": "code",
   "execution_count": null,
   "metadata": {},
   "outputs": [],
   "source": []
  }
 ],
 "metadata": {
  "kernelspec": {
   "display_name": "pytorch",
   "language": "python",
   "name": "python3"
  },
  "language_info": {
   "codemirror_mode": {
    "name": "ipython",
    "version": 3
   },
   "file_extension": ".py",
   "mimetype": "text/x-python",
   "name": "python",
   "nbconvert_exporter": "python",
   "pygments_lexer": "ipython3",
   "version": "3.7.15"
  },
  "orig_nbformat": 4,
  "vscode": {
   "interpreter": {
    "hash": "2ddbabd33cf547a84c11eb408eb3c9b7be4eb2afd7a6d10ca77341cb1226f34b"
   }
  }
 },
 "nbformat": 4,
 "nbformat_minor": 2
}
