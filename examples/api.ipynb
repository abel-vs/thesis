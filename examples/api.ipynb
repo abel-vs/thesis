{
 "cells": [
  {
   "attachments": {},
   "cell_type": "markdown",
   "metadata": {},
   "source": [
    "# API\n",
    "This notebook shows how the API for this project can be used."
   ]
  },
  {
   "cell_type": "code",
   "execution_count": 2,
   "metadata": {},
   "outputs": [],
   "source": [
    "import requests\n"
   ]
  },
  {
   "attachments": {},
   "cell_type": "markdown",
   "metadata": {},
   "source": [
    "### Uploading a file"
   ]
  },
  {
   "cell_type": "code",
   "execution_count": 3,
   "metadata": {},
   "outputs": [],
   "source": [
    "url = 'http://127.0.0.1:8000'\n",
    "model_state_path = '../models/mnist.pt'\n",
    "model_architecture_path = '../models/mnist.py'"
   ]
  },
  {
   "cell_type": "code",
   "execution_count": 15,
   "metadata": {},
   "outputs": [
    {
     "name": "stdout",
     "output_type": "stream",
     "text": [
      "{'message': \"Successfuly uploaded ['mnist.pt', 'mnist.py']\"}\n"
     ]
    }
   ],
   "source": [
    "files = [('files', open(model_state_path, 'rb')), ('files', open(model_architecture_path, 'rb'))]\n",
    "\n",
    "resp = requests.post(url=url + '/upload', files=files) \n",
    "print(resp.json())"
   ]
  },
  {
   "cell_type": "code",
   "execution_count": null,
   "metadata": {},
   "outputs": [],
   "source": []
  },
  {
   "cell_type": "code",
   "execution_count": 17,
   "metadata": {},
   "outputs": [
    {
     "name": "stdout",
     "output_type": "stream",
     "text": [
      "{'message': \"Successfuly uploaded ['mnist.pt', 'mnist.py']\"}\n"
     ]
    }
   ],
   "source": [
    "\n",
    "\n",
    "files = [('files', open(model_state_path, 'rb')), ('files', open(model_architecture_path, 'rb'))]\n",
    "\n",
    "model_state_file =  open(model_state_path, 'rb')          # File containing the model state. \n",
    "model_architecture_file = open(model_architecture_path, 'rb')    # File containing the model class.\n",
    "compression_goal: str = \"model_size\"    # Goal of the compression (model_size, inference_time, energy_usage).\n",
    "compression_target: float = 0.5         # Target value that the model should achieve after compression, as percentage of the original value.\n",
    "performance_metric: str = \"accuracy\"    # Metric used to measure the performance of the model.\n",
    "performance_target: float = 0.9         # Target value that the model should achieve after compression.\n",
    "\n",
    "\n",
    "data = {\n",
    "    'compression_goal': compression_goal, \n",
    "    'compression_target': compression_target, \n",
    "    'performance_metric': performance_metric, \n",
    "    'performance_target': performance_target,\n",
    "    }\n",
    "\n",
    "# print(body_data)\n",
    "resp = requests.get(url=url + '/analyze', files=files)\n",
    "\n",
    "print(resp.json())"
   ]
  }
 ],
 "metadata": {
  "kernelspec": {
   "display_name": "torch-gpu",
   "language": "python",
   "name": "python3"
  },
  "language_info": {
   "codemirror_mode": {
    "name": "ipython",
    "version": 3
   },
   "file_extension": ".py",
   "mimetype": "text/x-python",
   "name": "python",
   "nbconvert_exporter": "python",
   "pygments_lexer": "ipython3",
   "version": "3.8.13 | packaged by conda-forge | (default, Mar 25 2022, 06:04:14) \n[Clang 12.0.1 ]"
  },
  "orig_nbformat": 4,
  "vscode": {
   "interpreter": {
    "hash": "ff67d639abb31abb6a46275810293efc60456a6edbd614d8502142bf104bd3fd"
   }
  }
 },
 "nbformat": 4,
 "nbformat_minor": 2
}
