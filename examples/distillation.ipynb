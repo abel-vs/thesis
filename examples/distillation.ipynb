{
 "cells": [
  {
   "attachments": {},
   "cell_type": "markdown",
   "metadata": {},
   "source": [
    "# Distillation\n",
    "This notebook shows how the tool can be used to perform knowledge distillation."
   ]
  },
  {
   "attachments": {},
   "cell_type": "markdown",
   "metadata": {},
   "source": [
    "## Set Up"
   ]
  },
  {
   "cell_type": "code",
   "execution_count": 1,
   "metadata": {},
   "outputs": [],
   "source": [
    "import sys\n",
    "import torch\n",
    "import importlib\n",
    "import inspect\n",
    "import torchvision.datasets as datasets\n",
    "import torchvision.transforms as transforms\n",
    "import torch.optim as optim\n",
    "import torch.nn.functional as F\n",
    "\n",
    "# Add thesis package to path\n",
    "sys.path.append(\"../\")\n",
    "\n",
    "import src.general as general\n",
    "import src.compression.distillation as distil"
   ]
  },
  {
   "attachments": {},
   "cell_type": "markdown",
   "metadata": {},
   "source": [
    "Import datasets"
   ]
  },
  {
   "cell_type": "code",
   "execution_count": 2,
   "metadata": {},
   "outputs": [],
   "source": [
    "# Load MNIST dataset\n",
    "batch_size = 8\n",
    "test_batch_size = 1000\n",
    "use_cuda = False\n",
    "\n",
    "kwargs = {'num_workers': 1, 'pin_memory': True} if use_cuda else {}\n",
    "mnist_transform = transforms.ToTensor()\n",
    "train_loader = torch.utils.data.DataLoader(\n",
    "    datasets.MNIST('../data', train=True, download=True, transform=mnist_transform,),\n",
    "    batch_size=batch_size, shuffle=True, **kwargs)\n",
    "test_loader = torch.utils.data.DataLoader(\n",
    "    datasets.MNIST('../data', train=True, download=True, transform=mnist_transform,),\n",
    "    batch_size=test_batch_size, shuffle=True, **kwargs)"
   ]
  },
  {
   "attachments": {},
   "cell_type": "markdown",
   "metadata": {},
   "source": [
    "Import a trained model given by user."
   ]
  },
  {
   "cell_type": "code",
   "execution_count": 3,
   "metadata": {},
   "outputs": [
    {
     "name": "stdout",
     "output_type": "stream",
     "text": [
      "Using cuda: False\n"
     ]
    }
   ],
   "source": [
    "model_state = \"../models/mnist.pt\"\n",
    "model_class = \"models.mnist\"\n",
    "\n",
    "# Import the module classes\n",
    "module = importlib.import_module(model_class)\n",
    "classes = general.get_module_classes(module)\n",
    "for cls in classes:\n",
    "    globals()[cls.__name__] = cls\n",
    "\n",
    "# Get device\n",
    "device = general.get_device()\n",
    "\n",
    "# Load the model\n",
    "model = torch.load(model_state, map_location=torch.device(device))"
   ]
  },
  {
   "attachments": {},
   "cell_type": "markdown",
   "metadata": {},
   "source": [
    "## Creating Student Model\n",
    "The original model acts as the teacher model. \n",
    "\n",
    "For the student model the user can either give a model architecture of their own, presented in a `.py` file, or use the the tool to intelligently design a student model. "
   ]
  },
  {
   "cell_type": "code",
   "execution_count": 4,
   "metadata": {},
   "outputs": [],
   "source": [
    "from models.mnist_student import MnistStudent\n",
    "\n",
    "student_model = MnistStudent()"
   ]
  },
  {
   "cell_type": "code",
   "execution_count": 5,
   "metadata": {},
   "outputs": [
    {
     "name": "stdout",
     "output_type": "stream",
     "text": [
      "Train Epoch: 0 [0/60000 (0%)]\tLoss: 154.686844\n",
      "Train Epoch: 0 [8000/60000 (13%)]\tLoss: 57.269245\n",
      "Train Epoch: 0 [16000/60000 (27%)]\tLoss: 60.061218\n",
      "Train Epoch: 0 [24000/60000 (40%)]\tLoss: 57.722485\n",
      "Train Epoch: 0 [32000/60000 (53%)]\tLoss: 46.803661\n",
      "Train Epoch: 0 [40000/60000 (67%)]\tLoss: 55.485939\n",
      "Train Epoch: 0 [48000/60000 (80%)]\tLoss: 41.985649\n",
      "Train Epoch: 0 [56000/60000 (93%)]\tLoss: 48.945896\n",
      "Epoch: 0, Test loss: 11.095250765482584, Test accuracy: 0.09035\n",
      "Train Epoch: 1 [0/60000 (0%)]\tLoss: 87.166977\n",
      "Train Epoch: 1 [8000/60000 (13%)]\tLoss: 61.210735\n",
      "Train Epoch: 1 [16000/60000 (27%)]\tLoss: 33.682495\n",
      "Train Epoch: 1 [24000/60000 (40%)]\tLoss: 35.977493\n",
      "Train Epoch: 1 [32000/60000 (53%)]\tLoss: 66.737663\n",
      "Train Epoch: 1 [40000/60000 (67%)]\tLoss: 51.734020\n",
      "Train Epoch: 1 [48000/60000 (80%)]\tLoss: 64.744728\n",
      "Train Epoch: 1 [56000/60000 (93%)]\tLoss: 54.138500\n",
      "Epoch: 1, Test loss: 11.095250622431438, Test accuracy: 0.09035\n",
      "Train Epoch: 2 [0/60000 (0%)]\tLoss: 62.698036\n",
      "Train Epoch: 2 [8000/60000 (13%)]\tLoss: 61.013466\n",
      "Train Epoch: 2 [16000/60000 (27%)]\tLoss: 47.535347\n",
      "Train Epoch: 2 [24000/60000 (40%)]\tLoss: 42.486034\n",
      "Train Epoch: 2 [32000/60000 (53%)]\tLoss: 53.592751\n",
      "Train Epoch: 2 [40000/60000 (67%)]\tLoss: 72.942337\n",
      "Train Epoch: 2 [48000/60000 (80%)]\tLoss: 53.411858\n",
      "Train Epoch: 2 [56000/60000 (93%)]\tLoss: 64.939468\n",
      "Epoch: 2, Test loss: 11.09525071779887, Test accuracy: 0.09035\n"
     ]
    }
   ],
   "source": [
    "epochs = 3\n",
    "lr = 0.01\n",
    "momentum = 0.5\n",
    "log_interval = 100\n",
    "import src.compression.distillation as distil\n",
    "\n",
    "optimizer = optimizer = optim.Adam(student_model.parameters(), lr=lr) # Important: use the student model parameters\n",
    "distil_criterion = F.mse_loss\n",
    "test_criterion = F.nll_loss\n",
    "scheduler = optim.lr_scheduler.StepLR(optimizer, step_size=1, gamma=0.7)\n",
    "\n",
    "distil.distillation_train_loop(model, student_model, train_loader, test_loader, distil_criterion, test_criterion, optimizer, scheduler, epochs)"
   ]
  },
  {
   "cell_type": "code",
   "execution_count": 6,
   "metadata": {},
   "outputs": [],
   "source": [
    "# Define the teacher and student models\n",
    "teacher = torch.nn.Linear(10, 5)\n",
    "student = torch.nn.Linear(10, 5)\n",
    "\n",
    "# Define the loss function\n",
    "loss_fn = torch.nn.KLDivLoss(reduction='batchmean')\n",
    "\n",
    "# Define the optimizer and learning rate schedule\n",
    "optimizer = torch.optim.SGD(student.parameters(), lr=0.001, momentum=0.9)\n",
    "scheduler = torch.optim.lr_scheduler.StepLR(optimizer, step_size=10, gamma=0.1)\n"
   ]
  }
 ],
 "metadata": {
  "kernelspec": {
   "display_name": "torch-gpu",
   "language": "python",
   "name": "python3"
  },
  "language_info": {
   "codemirror_mode": {
    "name": "ipython",
    "version": 3
   },
   "file_extension": ".py",
   "mimetype": "text/x-python",
   "name": "python",
   "nbconvert_exporter": "python",
   "pygments_lexer": "ipython3",
   "version": "3.8.13"
  },
  "orig_nbformat": 4,
  "vscode": {
   "interpreter": {
    "hash": "ff67d639abb31abb6a46275810293efc60456a6edbd614d8502142bf104bd3fd"
   }
  }
 },
 "nbformat": 4,
 "nbformat_minor": 2
}
