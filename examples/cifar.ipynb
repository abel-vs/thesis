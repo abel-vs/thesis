{
 "cells": [
  {
   "attachments": {},
   "cell_type": "markdown",
   "metadata": {},
   "source": [
    "# CIFAR-10\n",
    "This notebook shows some examples of compressions of models trained on the CIFAR-10 dataset."
   ]
  },
  {
   "attachments": {},
   "cell_type": "markdown",
   "metadata": {},
   "source": [
    "# Setup"
   ]
  },
  {
   "attachments": {},
   "cell_type": "markdown",
   "metadata": {},
   "source": [
    "### Imports"
   ]
  },
  {
   "cell_type": "code",
   "execution_count": 1,
   "metadata": {},
   "outputs": [],
   "source": [
    "%load_ext autoreload\n",
    "%autoreload 2"
   ]
  },
  {
   "cell_type": "code",
   "execution_count": 2,
   "metadata": {},
   "outputs": [
    {
     "name": "stdout",
     "output_type": "stream",
     "text": [
      "Files already downloaded and verified\n",
      "Files already downloaded and verified\n",
      "Files already downloaded and verified\n",
      "Files already downloaded and verified\n"
     ]
    }
   ],
   "source": [
    "import torch\n",
    "import torchvision\n",
    "import torchvision.transforms as transforms\n",
    "import torch.optim as optim\n",
    "import torch.nn as nn\n",
    "import torch.nn.functional as F\n",
    "from tqdm import tqdm\n",
    "import sys\n",
    "\n",
    "sys.path.append('../')\n",
    "sys.path.append('../src/')\n",
    "\n",
    "import src.general as general\n",
    "import src.dataset_models as data\n",
    "import src.metrics as metrics\n",
    "import src.evaluation as eval\n",
    "import src.plot as plot\n",
    "import src.compression.distillation as distill\n",
    "import src.compression.pruning as prune\n"
   ]
  },
  {
   "attachments": {},
   "cell_type": "markdown",
   "metadata": {},
   "source": [
    "### Dataset & Model"
   ]
  },
  {
   "cell_type": "code",
   "execution_count": 3,
   "metadata": {},
   "outputs": [],
   "source": [
    "dataset = data.supported_datasets[\"CIFAR-10\"]\n",
    "dataset.cap = 100"
   ]
  },
  {
   "cell_type": "code",
   "execution_count": 4,
   "metadata": {},
   "outputs": [
    {
     "data": {
      "text/plain": [
       "<All keys matched successfully>"
      ]
     },
     "execution_count": 4,
     "metadata": {},
     "output_type": "execute_result"
    }
   ],
   "source": [
    "import models.trained_models_cifar10.models.resnet_models as rs\n",
    "\n",
    "\n",
    "resnet = rs.ResNet50()\n",
    "device = general.get_device()\n",
    "state_dict = torch.load('../models/trained_models_cifar10/resnet50_cifar10_lr01.pth', map_location=device)\n",
    "resnet.load_state_dict(state_dict[\"net\"])"
   ]
  },
  {
   "cell_type": "code",
   "execution_count": 5,
   "metadata": {},
   "outputs": [
    {
     "data": {
      "text/plain": [
       "ResNet(\n",
       "  (conv1): Conv2d(3, 64, kernel_size=(3, 3), stride=(1, 1), padding=(1, 1), bias=False)\n",
       "  (bn1): BatchNorm2d(64, eps=1e-05, momentum=0.1, affine=True, track_running_stats=True)\n",
       "  (layer1): Sequential(\n",
       "    (0): Bottleneck(\n",
       "      (conv1): Conv2d(64, 64, kernel_size=(1, 1), stride=(1, 1), bias=False)\n",
       "      (bn1): BatchNorm2d(64, eps=1e-05, momentum=0.1, affine=True, track_running_stats=True)\n",
       "      (conv2): Conv2d(64, 64, kernel_size=(3, 3), stride=(1, 1), padding=(1, 1), bias=False)\n",
       "      (bn2): BatchNorm2d(64, eps=1e-05, momentum=0.1, affine=True, track_running_stats=True)\n",
       "      (conv3): Conv2d(64, 256, kernel_size=(1, 1), stride=(1, 1), bias=False)\n",
       "      (bn3): BatchNorm2d(256, eps=1e-05, momentum=0.1, affine=True, track_running_stats=True)\n",
       "      (shortcut): Sequential(\n",
       "        (0): Conv2d(64, 256, kernel_size=(1, 1), stride=(1, 1), bias=False)\n",
       "        (1): BatchNorm2d(256, eps=1e-05, momentum=0.1, affine=True, track_running_stats=True)\n",
       "      )\n",
       "    )\n",
       "    (1): Bottleneck(\n",
       "      (conv1): Conv2d(256, 64, kernel_size=(1, 1), stride=(1, 1), bias=False)\n",
       "      (bn1): BatchNorm2d(64, eps=1e-05, momentum=0.1, affine=True, track_running_stats=True)\n",
       "      (conv2): Conv2d(64, 64, kernel_size=(3, 3), stride=(1, 1), padding=(1, 1), bias=False)\n",
       "      (bn2): BatchNorm2d(64, eps=1e-05, momentum=0.1, affine=True, track_running_stats=True)\n",
       "      (conv3): Conv2d(64, 256, kernel_size=(1, 1), stride=(1, 1), bias=False)\n",
       "      (bn3): BatchNorm2d(256, eps=1e-05, momentum=0.1, affine=True, track_running_stats=True)\n",
       "      (shortcut): Sequential()\n",
       "    )\n",
       "    (2): Bottleneck(\n",
       "      (conv1): Conv2d(256, 64, kernel_size=(1, 1), stride=(1, 1), bias=False)\n",
       "      (bn1): BatchNorm2d(64, eps=1e-05, momentum=0.1, affine=True, track_running_stats=True)\n",
       "      (conv2): Conv2d(64, 64, kernel_size=(3, 3), stride=(1, 1), padding=(1, 1), bias=False)\n",
       "      (bn2): BatchNorm2d(64, eps=1e-05, momentum=0.1, affine=True, track_running_stats=True)\n",
       "      (conv3): Conv2d(64, 256, kernel_size=(1, 1), stride=(1, 1), bias=False)\n",
       "      (bn3): BatchNorm2d(256, eps=1e-05, momentum=0.1, affine=True, track_running_stats=True)\n",
       "      (shortcut): Sequential()\n",
       "    )\n",
       "  )\n",
       "  (layer2): Sequential(\n",
       "    (0): Bottleneck(\n",
       "      (conv1): Conv2d(256, 128, kernel_size=(1, 1), stride=(1, 1), bias=False)\n",
       "      (bn1): BatchNorm2d(128, eps=1e-05, momentum=0.1, affine=True, track_running_stats=True)\n",
       "      (conv2): Conv2d(128, 128, kernel_size=(3, 3), stride=(2, 2), padding=(1, 1), bias=False)\n",
       "      (bn2): BatchNorm2d(128, eps=1e-05, momentum=0.1, affine=True, track_running_stats=True)\n",
       "      (conv3): Conv2d(128, 512, kernel_size=(1, 1), stride=(1, 1), bias=False)\n",
       "      (bn3): BatchNorm2d(512, eps=1e-05, momentum=0.1, affine=True, track_running_stats=True)\n",
       "      (shortcut): Sequential(\n",
       "        (0): Conv2d(256, 512, kernel_size=(1, 1), stride=(2, 2), bias=False)\n",
       "        (1): BatchNorm2d(512, eps=1e-05, momentum=0.1, affine=True, track_running_stats=True)\n",
       "      )\n",
       "    )\n",
       "    (1): Bottleneck(\n",
       "      (conv1): Conv2d(512, 128, kernel_size=(1, 1), stride=(1, 1), bias=False)\n",
       "      (bn1): BatchNorm2d(128, eps=1e-05, momentum=0.1, affine=True, track_running_stats=True)\n",
       "      (conv2): Conv2d(128, 128, kernel_size=(3, 3), stride=(1, 1), padding=(1, 1), bias=False)\n",
       "      (bn2): BatchNorm2d(128, eps=1e-05, momentum=0.1, affine=True, track_running_stats=True)\n",
       "      (conv3): Conv2d(128, 512, kernel_size=(1, 1), stride=(1, 1), bias=False)\n",
       "      (bn3): BatchNorm2d(512, eps=1e-05, momentum=0.1, affine=True, track_running_stats=True)\n",
       "      (shortcut): Sequential()\n",
       "    )\n",
       "    (2): Bottleneck(\n",
       "      (conv1): Conv2d(512, 128, kernel_size=(1, 1), stride=(1, 1), bias=False)\n",
       "      (bn1): BatchNorm2d(128, eps=1e-05, momentum=0.1, affine=True, track_running_stats=True)\n",
       "      (conv2): Conv2d(128, 128, kernel_size=(3, 3), stride=(1, 1), padding=(1, 1), bias=False)\n",
       "      (bn2): BatchNorm2d(128, eps=1e-05, momentum=0.1, affine=True, track_running_stats=True)\n",
       "      (conv3): Conv2d(128, 512, kernel_size=(1, 1), stride=(1, 1), bias=False)\n",
       "      (bn3): BatchNorm2d(512, eps=1e-05, momentum=0.1, affine=True, track_running_stats=True)\n",
       "      (shortcut): Sequential()\n",
       "    )\n",
       "    (3): Bottleneck(\n",
       "      (conv1): Conv2d(512, 128, kernel_size=(1, 1), stride=(1, 1), bias=False)\n",
       "      (bn1): BatchNorm2d(128, eps=1e-05, momentum=0.1, affine=True, track_running_stats=True)\n",
       "      (conv2): Conv2d(128, 128, kernel_size=(3, 3), stride=(1, 1), padding=(1, 1), bias=False)\n",
       "      (bn2): BatchNorm2d(128, eps=1e-05, momentum=0.1, affine=True, track_running_stats=True)\n",
       "      (conv3): Conv2d(128, 512, kernel_size=(1, 1), stride=(1, 1), bias=False)\n",
       "      (bn3): BatchNorm2d(512, eps=1e-05, momentum=0.1, affine=True, track_running_stats=True)\n",
       "      (shortcut): Sequential()\n",
       "    )\n",
       "  )\n",
       "  (layer3): Sequential(\n",
       "    (0): Bottleneck(\n",
       "      (conv1): Conv2d(512, 256, kernel_size=(1, 1), stride=(1, 1), bias=False)\n",
       "      (bn1): BatchNorm2d(256, eps=1e-05, momentum=0.1, affine=True, track_running_stats=True)\n",
       "      (conv2): Conv2d(256, 256, kernel_size=(3, 3), stride=(2, 2), padding=(1, 1), bias=False)\n",
       "      (bn2): BatchNorm2d(256, eps=1e-05, momentum=0.1, affine=True, track_running_stats=True)\n",
       "      (conv3): Conv2d(256, 1024, kernel_size=(1, 1), stride=(1, 1), bias=False)\n",
       "      (bn3): BatchNorm2d(1024, eps=1e-05, momentum=0.1, affine=True, track_running_stats=True)\n",
       "      (shortcut): Sequential(\n",
       "        (0): Conv2d(512, 1024, kernel_size=(1, 1), stride=(2, 2), bias=False)\n",
       "        (1): BatchNorm2d(1024, eps=1e-05, momentum=0.1, affine=True, track_running_stats=True)\n",
       "      )\n",
       "    )\n",
       "    (1): Bottleneck(\n",
       "      (conv1): Conv2d(1024, 256, kernel_size=(1, 1), stride=(1, 1), bias=False)\n",
       "      (bn1): BatchNorm2d(256, eps=1e-05, momentum=0.1, affine=True, track_running_stats=True)\n",
       "      (conv2): Conv2d(256, 256, kernel_size=(3, 3), stride=(1, 1), padding=(1, 1), bias=False)\n",
       "      (bn2): BatchNorm2d(256, eps=1e-05, momentum=0.1, affine=True, track_running_stats=True)\n",
       "      (conv3): Conv2d(256, 1024, kernel_size=(1, 1), stride=(1, 1), bias=False)\n",
       "      (bn3): BatchNorm2d(1024, eps=1e-05, momentum=0.1, affine=True, track_running_stats=True)\n",
       "      (shortcut): Sequential()\n",
       "    )\n",
       "    (2): Bottleneck(\n",
       "      (conv1): Conv2d(1024, 256, kernel_size=(1, 1), stride=(1, 1), bias=False)\n",
       "      (bn1): BatchNorm2d(256, eps=1e-05, momentum=0.1, affine=True, track_running_stats=True)\n",
       "      (conv2): Conv2d(256, 256, kernel_size=(3, 3), stride=(1, 1), padding=(1, 1), bias=False)\n",
       "      (bn2): BatchNorm2d(256, eps=1e-05, momentum=0.1, affine=True, track_running_stats=True)\n",
       "      (conv3): Conv2d(256, 1024, kernel_size=(1, 1), stride=(1, 1), bias=False)\n",
       "      (bn3): BatchNorm2d(1024, eps=1e-05, momentum=0.1, affine=True, track_running_stats=True)\n",
       "      (shortcut): Sequential()\n",
       "    )\n",
       "    (3): Bottleneck(\n",
       "      (conv1): Conv2d(1024, 256, kernel_size=(1, 1), stride=(1, 1), bias=False)\n",
       "      (bn1): BatchNorm2d(256, eps=1e-05, momentum=0.1, affine=True, track_running_stats=True)\n",
       "      (conv2): Conv2d(256, 256, kernel_size=(3, 3), stride=(1, 1), padding=(1, 1), bias=False)\n",
       "      (bn2): BatchNorm2d(256, eps=1e-05, momentum=0.1, affine=True, track_running_stats=True)\n",
       "      (conv3): Conv2d(256, 1024, kernel_size=(1, 1), stride=(1, 1), bias=False)\n",
       "      (bn3): BatchNorm2d(1024, eps=1e-05, momentum=0.1, affine=True, track_running_stats=True)\n",
       "      (shortcut): Sequential()\n",
       "    )\n",
       "    (4): Bottleneck(\n",
       "      (conv1): Conv2d(1024, 256, kernel_size=(1, 1), stride=(1, 1), bias=False)\n",
       "      (bn1): BatchNorm2d(256, eps=1e-05, momentum=0.1, affine=True, track_running_stats=True)\n",
       "      (conv2): Conv2d(256, 256, kernel_size=(3, 3), stride=(1, 1), padding=(1, 1), bias=False)\n",
       "      (bn2): BatchNorm2d(256, eps=1e-05, momentum=0.1, affine=True, track_running_stats=True)\n",
       "      (conv3): Conv2d(256, 1024, kernel_size=(1, 1), stride=(1, 1), bias=False)\n",
       "      (bn3): BatchNorm2d(1024, eps=1e-05, momentum=0.1, affine=True, track_running_stats=True)\n",
       "      (shortcut): Sequential()\n",
       "    )\n",
       "    (5): Bottleneck(\n",
       "      (conv1): Conv2d(1024, 256, kernel_size=(1, 1), stride=(1, 1), bias=False)\n",
       "      (bn1): BatchNorm2d(256, eps=1e-05, momentum=0.1, affine=True, track_running_stats=True)\n",
       "      (conv2): Conv2d(256, 256, kernel_size=(3, 3), stride=(1, 1), padding=(1, 1), bias=False)\n",
       "      (bn2): BatchNorm2d(256, eps=1e-05, momentum=0.1, affine=True, track_running_stats=True)\n",
       "      (conv3): Conv2d(256, 1024, kernel_size=(1, 1), stride=(1, 1), bias=False)\n",
       "      (bn3): BatchNorm2d(1024, eps=1e-05, momentum=0.1, affine=True, track_running_stats=True)\n",
       "      (shortcut): Sequential()\n",
       "    )\n",
       "  )\n",
       "  (layer4): Sequential(\n",
       "    (0): Bottleneck(\n",
       "      (conv1): Conv2d(1024, 512, kernel_size=(1, 1), stride=(1, 1), bias=False)\n",
       "      (bn1): BatchNorm2d(512, eps=1e-05, momentum=0.1, affine=True, track_running_stats=True)\n",
       "      (conv2): Conv2d(512, 512, kernel_size=(3, 3), stride=(2, 2), padding=(1, 1), bias=False)\n",
       "      (bn2): BatchNorm2d(512, eps=1e-05, momentum=0.1, affine=True, track_running_stats=True)\n",
       "      (conv3): Conv2d(512, 2048, kernel_size=(1, 1), stride=(1, 1), bias=False)\n",
       "      (bn3): BatchNorm2d(2048, eps=1e-05, momentum=0.1, affine=True, track_running_stats=True)\n",
       "      (shortcut): Sequential(\n",
       "        (0): Conv2d(1024, 2048, kernel_size=(1, 1), stride=(2, 2), bias=False)\n",
       "        (1): BatchNorm2d(2048, eps=1e-05, momentum=0.1, affine=True, track_running_stats=True)\n",
       "      )\n",
       "    )\n",
       "    (1): Bottleneck(\n",
       "      (conv1): Conv2d(2048, 512, kernel_size=(1, 1), stride=(1, 1), bias=False)\n",
       "      (bn1): BatchNorm2d(512, eps=1e-05, momentum=0.1, affine=True, track_running_stats=True)\n",
       "      (conv2): Conv2d(512, 512, kernel_size=(3, 3), stride=(1, 1), padding=(1, 1), bias=False)\n",
       "      (bn2): BatchNorm2d(512, eps=1e-05, momentum=0.1, affine=True, track_running_stats=True)\n",
       "      (conv3): Conv2d(512, 2048, kernel_size=(1, 1), stride=(1, 1), bias=False)\n",
       "      (bn3): BatchNorm2d(2048, eps=1e-05, momentum=0.1, affine=True, track_running_stats=True)\n",
       "      (shortcut): Sequential()\n",
       "    )\n",
       "    (2): Bottleneck(\n",
       "      (conv1): Conv2d(2048, 512, kernel_size=(1, 1), stride=(1, 1), bias=False)\n",
       "      (bn1): BatchNorm2d(512, eps=1e-05, momentum=0.1, affine=True, track_running_stats=True)\n",
       "      (conv2): Conv2d(512, 512, kernel_size=(3, 3), stride=(1, 1), padding=(1, 1), bias=False)\n",
       "      (bn2): BatchNorm2d(512, eps=1e-05, momentum=0.1, affine=True, track_running_stats=True)\n",
       "      (conv3): Conv2d(512, 2048, kernel_size=(1, 1), stride=(1, 1), bias=False)\n",
       "      (bn3): BatchNorm2d(2048, eps=1e-05, momentum=0.1, affine=True, track_running_stats=True)\n",
       "      (shortcut): Sequential()\n",
       "    )\n",
       "  )\n",
       "  (linear): Linear(in_features=2048, out_features=10, bias=True)\n",
       ")"
      ]
     },
     "execution_count": 5,
     "metadata": {},
     "output_type": "execute_result"
    }
   ],
   "source": [
    "resnet"
   ]
  },
  {
   "cell_type": "code",
   "execution_count": 32,
   "metadata": {},
   "outputs": [
    {
     "data": {
      "text/plain": [
       "[Conv2d(3, 64, kernel_size=(3, 3), stride=(1, 1), padding=(1, 1), bias=False),\n",
       " Linear(in_features=2048, out_features=10, bias=True)]"
      ]
     },
     "execution_count": 32,
     "metadata": {},
     "output_type": "execute_result"
    }
   ],
   "source": [
    "prune.get_ignored_layers(resnet)"
   ]
  },
  {
   "attachments": {},
   "cell_type": "markdown",
   "metadata": {},
   "source": [
    "### Evaluation\n",
    "Evaluate the model before any compression"
   ]
  },
  {
   "cell_type": "code",
   "execution_count": 7,
   "metadata": {},
   "outputs": [
    {
     "name": "stderr",
     "output_type": "stream",
     "text": [
      "Test: 100%|██████████| 157/157 [07:18<00:00,  2.79s/it]\n"
     ]
    },
    {
     "name": "stdout",
     "output_type": "stream",
     "text": [
      "Test loss: -10.7890\n",
      "Test score: 95.2926\n",
      "==================================== RESULTS ===================================\n",
      "Loss: -10.789035\n",
      "Score: 95.292596\n",
      "Time per data point: 174.3914 ms\n",
      "Model Size: 90.02 MB\n",
      "Number of parameters: 23520842\n",
      "Number of MACs: 1304694784\n",
      "================================================================================\n"
     ]
    }
   ],
   "source": [
    "before_results = eval.get_results(resnet, dataset)\n",
    "plot.print_results(**before_results)"
   ]
  },
  {
   "cell_type": "code",
   "execution_count": 23,
   "metadata": {},
   "outputs": [
    {
     "name": "stdout",
     "output_type": "stream",
     "text": [
      "Op Sequential is not supported at now.\n",
      "Op Sequential is not supported at now.\n",
      "Op Sequential is not supported at now.\n",
      "Op Sequential is not supported at now.\n",
      "Op Sequential is not supported at now.\n",
      "Op Sequential is not supported at now.\n",
      "Op Sequential is not supported at now.\n",
      "Op Sequential is not supported at now.\n",
      "Op Sequential is not supported at now.\n",
      "Op Sequential is not supported at now.\n",
      "Op Sequential is not supported at now.\n",
      "Op Sequential is not supported at now.\n",
      "Op Sequential is not supported at now.\n",
      "Op Sequential is not supported at now.\n",
      "Op Sequential is not supported at now.\n",
      "Op Sequential is not supported at now.\n",
      "Op Sequential is not supported at now.\n",
      "Op Sequential is not supported at now.\n",
      "Op Sequential is not supported at now.\n",
      "Op Sequential is not supported at now.\n"
     ]
    },
    {
     "data": {
      "text/plain": [
       "835498188.15625"
      ]
     },
     "execution_count": 23,
     "metadata": {},
     "output_type": "execute_result"
    }
   ],
   "source": [
    "example_input = general.get_example_input(dataset.train_loader)\n",
    "eval.get_MACS(resnet, example_input)"
   ]
  },
  {
   "attachments": {},
   "cell_type": "markdown",
   "metadata": {},
   "source": [
    "# Compression"
   ]
  },
  {
   "attachments": {},
   "cell_type": "markdown",
   "metadata": {},
   "source": [
    "## Pruning"
   ]
  },
  {
   "attachments": {},
   "cell_type": "markdown",
   "metadata": {},
   "source": [
    "### Structured pruning example."
   ]
  },
  {
   "cell_type": "code",
   "execution_count": 8,
   "metadata": {},
   "outputs": [
    {
     "name": "stdout",
     "output_type": "stream",
     "text": [
      "Files already downloaded and verified\n",
      "Files already downloaded and verified\n",
      "Files already downloaded and verified\n",
      "Files already downloaded and verified\n"
     ]
    }
   ],
   "source": [
    "model = prune.magnitude_pruning_structured(resnet, dataset, sparsity=0.1, fineTune=False)\n"
   ]
  },
  {
   "cell_type": "code",
   "execution_count": 9,
   "metadata": {},
   "outputs": [
    {
     "name": "stderr",
     "output_type": "stream",
     "text": [
      "Test:  77%|███████▋  | 121/157 [04:49<01:27,  2.43s/it]"
     ]
    }
   ],
   "source": [
    "general.test(model, dataset)"
   ]
  },
  {
   "cell_type": "code",
   "execution_count": 18,
   "metadata": {},
   "outputs": [
    {
     "name": "stderr",
     "output_type": "stream",
     "text": [
      "Test:   0%|          | 0/157 [00:00<?, ?it/s]"
     ]
    },
    {
     "name": "stdout",
     "output_type": "stream",
     "text": [
      "Op Sequential is not supported at now.\n",
      "Op Sequential is not supported at now.\n",
      "Op Sequential is not supported at now.\n",
      "Op Sequential is not supported at now.\n",
      "Op Sequential is not supported at now.\n",
      "Op Sequential is not supported at now.\n",
      "Op Sequential is not supported at now.\n",
      "Op Sequential is not supported at now.\n",
      "Op Sequential is not supported at now.\n",
      "Op Sequential is not supported at now.\n",
      "Op Sequential is not supported at now.\n",
      "Op Sequential is not supported at now.\n",
      "Op Sequential is not supported at now.\n",
      "Op Sequential is not supported at now.\n",
      "Op Sequential is not supported at now.\n",
      "Op Sequential is not supported at now.\n",
      "Op Sequential is not supported at now.\n",
      "Op Sequential is not supported at now.\n"
     ]
    },
    {
     "name": "stderr",
     "output_type": "stream",
     "text": [
      "Test:   1%|          | 1/157 [00:02<05:25,  2.08s/it]"
     ]
    },
    {
     "name": "stdout",
     "output_type": "stream",
     "text": [
      "Op Sequential is not supported at now.\n",
      "Op Sequential is not supported at now.\n",
      "Op Sequential is not supported at now.\n",
      "Op Sequential is not supported at now.\n",
      "Op Sequential is not supported at now.\n",
      "Op Sequential is not supported at now.\n",
      "Op Sequential is not supported at now.\n",
      "Op Sequential is not supported at now.\n",
      "Op Sequential is not supported at now.\n",
      "Op Sequential is not supported at now.\n",
      "Op Sequential is not supported at now.\n",
      "Op Sequential is not supported at now.\n",
      "Op Sequential is not supported at now.\n",
      "Op Sequential is not supported at now.\n",
      "Op Sequential is not supported at now.\n",
      "Op Sequential is not supported at now.\n",
      "Op Sequential is not supported at now.\n",
      "Op Sequential is not supported at now.\n",
      "Op Sequential is not supported at now.\n",
      "Op Sequential is not supported at now.\n"
     ]
    },
    {
     "name": "stderr",
     "output_type": "stream",
     "text": [
      "Test:   1%|▏         | 2/157 [00:04<05:12,  2.02s/it]"
     ]
    },
    {
     "name": "stdout",
     "output_type": "stream",
     "text": [
      "Op Sequential is not supported at now.\n",
      "Op Sequential is not supported at now.\n",
      "Op Sequential is not supported at now.\n",
      "Op Sequential is not supported at now.\n",
      "Op Sequential is not supported at now.\n",
      "Op Sequential is not supported at now.\n",
      "Op Sequential is not supported at now.\n",
      "Op Sequential is not supported at now.\n",
      "Op Sequential is not supported at now.\n",
      "Op Sequential is not supported at now.\n",
      "Op Sequential is not supported at now.\n",
      "Op Sequential is not supported at now.\n",
      "Op Sequential is not supported at now.\n",
      "Op Sequential is not supported at now.\n",
      "Op Sequential is not supported at now.\n",
      "Op Sequential is not supported at now.\n",
      "Op Sequential is not supported at now.\n",
      "Op Sequential is not supported at now.\n",
      "Op Sequential is not supported at now.\n",
      "Op Sequential is not supported at now.\n"
     ]
    },
    {
     "name": "stderr",
     "output_type": "stream",
     "text": [
      "Test:   2%|▏         | 3/157 [00:06<05:14,  2.04s/it]"
     ]
    },
    {
     "name": "stdout",
     "output_type": "stream",
     "text": [
      "Op Sequential is not supported at now.\n",
      "Op Sequential is not supported at now.\n",
      "Op Sequential is not supported at now.\n",
      "Op Sequential is not supported at now.\n",
      "Op Sequential is not supported at now.\n",
      "Op Sequential is not supported at now.\n",
      "Op Sequential is not supported at now.\n",
      "Op Sequential is not supported at now.\n",
      "Op Sequential is not supported at now.\n",
      "Op Sequential is not supported at now.\n",
      "Op Sequential is not supported at now.\n",
      "Op Sequential is not supported at now.\n",
      "Op Sequential is not supported at now.\n",
      "Op Sequential is not supported at now.\n",
      "Op Sequential is not supported at now.\n",
      "Op Sequential is not supported at now.\n",
      "Op Sequential is not supported at now.\n",
      "Op Sequential is not supported at now.\n",
      "Op Sequential is not supported at now.\n",
      "Op Sequential is not supported at now.\n"
     ]
    },
    {
     "name": "stderr",
     "output_type": "stream",
     "text": [
      "Test:   3%|▎         | 4/157 [00:08<05:12,  2.04s/it]"
     ]
    },
    {
     "name": "stdout",
     "output_type": "stream",
     "text": [
      "Op Sequential is not supported at now.\n",
      "Op Sequential is not supported at now.\n",
      "Op Sequential is not supported at now.\n",
      "Op Sequential is not supported at now.\n",
      "Op Sequential is not supported at now.\n",
      "Op Sequential is not supported at now.\n",
      "Op Sequential is not supported at now.\n",
      "Op Sequential is not supported at now.\n",
      "Op Sequential is not supported at now.\n",
      "Op Sequential is not supported at now.\n",
      "Op Sequential is not supported at now.\n",
      "Op Sequential is not supported at now.\n",
      "Op Sequential is not supported at now.\n",
      "Op Sequential is not supported at now.\n",
      "Op Sequential is not supported at now.\n",
      "Op Sequential is not supported at now.\n",
      "Op Sequential is not supported at now.\n",
      "Op Sequential is not supported at now.\n",
      "Op Sequential is not supported at now.\n",
      "Op Sequential is not supported at now.\n"
     ]
    },
    {
     "name": "stderr",
     "output_type": "stream",
     "text": [
      "Test:   3%|▎         | 5/157 [00:10<05:10,  2.04s/it]"
     ]
    },
    {
     "name": "stdout",
     "output_type": "stream",
     "text": [
      "Op Sequential is not supported at now.\n",
      "Op Sequential is not supported at now.\n",
      "Op Sequential is not supported at now.\n",
      "Op Sequential is not supported at now.\n",
      "Op Sequential is not supported at now.\n",
      "Op Sequential is not supported at now.\n",
      "Op Sequential is not supported at now.\n",
      "Op Sequential is not supported at now.\n",
      "Op Sequential is not supported at now.\n",
      "Op Sequential is not supported at now.\n",
      "Op Sequential is not supported at now.\n",
      "Op Sequential is not supported at now.\n",
      "Op Sequential is not supported at now.\n",
      "Op Sequential is not supported at now.\n",
      "Op Sequential is not supported at now.\n",
      "Op Sequential is not supported at now.\n",
      "Op Sequential is not supported at now.\n",
      "Op Sequential is not supported at now.\n",
      "Op Sequential is not supported at now.\n",
      "Op Sequential is not supported at now.\n"
     ]
    },
    {
     "name": "stderr",
     "output_type": "stream",
     "text": [
      "Test:   4%|▍         | 6/157 [00:12<05:06,  2.03s/it]"
     ]
    },
    {
     "name": "stdout",
     "output_type": "stream",
     "text": [
      "Op Sequential is not supported at now.\n",
      "Op Sequential is not supported at now.\n",
      "Op Sequential is not supported at now.\n",
      "Op Sequential is not supported at now.\n",
      "Op Sequential is not supported at now.\n",
      "Op Sequential is not supported at now.\n",
      "Op Sequential is not supported at now.\n",
      "Op Sequential is not supported at now.\n",
      "Op Sequential is not supported at now.\n",
      "Op Sequential is not supported at now.\n",
      "Op Sequential is not supported at now.\n",
      "Op Sequential is not supported at now.\n",
      "Op Sequential is not supported at now.\n",
      "Op Sequential is not supported at now.\n",
      "Op Sequential is not supported at now.\n",
      "Op Sequential is not supported at now.\n",
      "Op Sequential is not supported at now.\n",
      "Op Sequential is not supported at now.\n",
      "Op Sequential is not supported at now.\n",
      "Op Sequential is not supported at now.\n"
     ]
    },
    {
     "name": "stderr",
     "output_type": "stream",
     "text": [
      "Test:   4%|▍         | 7/157 [00:14<05:06,  2.04s/it]"
     ]
    },
    {
     "name": "stdout",
     "output_type": "stream",
     "text": [
      "Op Sequential is not supported at now.\n",
      "Op Sequential is not supported at now.\n",
      "Op Sequential is not supported at now.\n",
      "Op Sequential is not supported at now.\n",
      "Op Sequential is not supported at now.\n",
      "Op Sequential is not supported at now.\n",
      "Op Sequential is not supported at now.\n",
      "Op Sequential is not supported at now.\n",
      "Op Sequential is not supported at now.\n",
      "Op Sequential is not supported at now.\n",
      "Op Sequential is not supported at now.\n",
      "Op Sequential is not supported at now.\n",
      "Op Sequential is not supported at now.\n",
      "Op Sequential is not supported at now.\n",
      "Op Sequential is not supported at now.\n",
      "Op Sequential is not supported at now.\n",
      "Op Sequential is not supported at now.\n",
      "Op Sequential is not supported at now.\n",
      "Op Sequential is not supported at now.\n",
      "Op Sequential is not supported at now.\n"
     ]
    },
    {
     "name": "stderr",
     "output_type": "stream",
     "text": [
      "Test:   5%|▌         | 8/157 [00:16<05:02,  2.03s/it]"
     ]
    },
    {
     "name": "stdout",
     "output_type": "stream",
     "text": [
      "Op Sequential is not supported at now.\n",
      "Op Sequential is not supported at now.\n",
      "Op Sequential is not supported at now.\n",
      "Op Sequential is not supported at now.\n",
      "Op Sequential is not supported at now.\n",
      "Op Sequential is not supported at now.\n",
      "Op Sequential is not supported at now.\n",
      "Op Sequential is not supported at now.\n",
      "Op Sequential is not supported at now.\n",
      "Op Sequential is not supported at now.\n",
      "Op Sequential is not supported at now.\n",
      "Op Sequential is not supported at now.\n",
      "Op Sequential is not supported at now.\n",
      "Op Sequential is not supported at now.\n",
      "Op Sequential is not supported at now.\n",
      "Op Sequential is not supported at now.\n",
      "Op Sequential is not supported at now.\n",
      "Op Sequential is not supported at now.\n",
      "Op Sequential is not supported at now.\n",
      "Op Sequential is not supported at now.\n"
     ]
    },
    {
     "name": "stderr",
     "output_type": "stream",
     "text": [
      "Test:   6%|▌         | 9/157 [00:18<05:00,  2.03s/it]"
     ]
    },
    {
     "name": "stdout",
     "output_type": "stream",
     "text": [
      "Op Sequential is not supported at now.\n",
      "Op Sequential is not supported at now.\n",
      "Op Sequential is not supported at now.\n",
      "Op Sequential is not supported at now.\n",
      "Op Sequential is not supported at now.\n",
      "Op Sequential is not supported at now.\n",
      "Op Sequential is not supported at now.\n",
      "Op Sequential is not supported at now.\n",
      "Op Sequential is not supported at now.\n",
      "Op Sequential is not supported at now.\n",
      "Op Sequential is not supported at now.\n",
      "Op Sequential is not supported at now.\n",
      "Op Sequential is not supported at now.\n",
      "Op Sequential is not supported at now.\n",
      "Op Sequential is not supported at now.\n",
      "Op Sequential is not supported at now.\n",
      "Op Sequential is not supported at now.\n",
      "Op Sequential is not supported at now.\n",
      "Op Sequential is not supported at now.\n",
      "Op Sequential is not supported at now.\n"
     ]
    },
    {
     "name": "stderr",
     "output_type": "stream",
     "text": [
      "Test:   6%|▋         | 10/157 [00:20<05:03,  2.06s/it]"
     ]
    },
    {
     "name": "stdout",
     "output_type": "stream",
     "text": [
      "Op Sequential is not supported at now.\n",
      "Op Sequential is not supported at now.\n",
      "Op Sequential is not supported at now.\n",
      "Op Sequential is not supported at now.\n",
      "Op Sequential is not supported at now.\n",
      "Op Sequential is not supported at now.\n",
      "Op Sequential is not supported at now.\n",
      "Op Sequential is not supported at now.\n",
      "Op Sequential is not supported at now.\n",
      "Op Sequential is not supported at now.\n",
      "Op Sequential is not supported at now.\n",
      "Op Sequential is not supported at now.\n",
      "Op Sequential is not supported at now.\n",
      "Op Sequential is not supported at now.\n",
      "Op Sequential is not supported at now.\n",
      "Op Sequential is not supported at now.\n",
      "Op Sequential is not supported at now.\n",
      "Op Sequential is not supported at now.\n",
      "Op Sequential is not supported at now.\n",
      "Op Sequential is not supported at now.\n"
     ]
    },
    {
     "name": "stderr",
     "output_type": "stream",
     "text": [
      "Test:   7%|▋         | 11/157 [00:22<04:58,  2.04s/it]"
     ]
    },
    {
     "name": "stdout",
     "output_type": "stream",
     "text": [
      "Op Sequential is not supported at now.\n",
      "Op Sequential is not supported at now.\n",
      "Op Sequential is not supported at now.\n",
      "Op Sequential is not supported at now.\n",
      "Op Sequential is not supported at now.\n",
      "Op Sequential is not supported at now.\n",
      "Op Sequential is not supported at now.\n",
      "Op Sequential is not supported at now.\n",
      "Op Sequential is not supported at now.\n",
      "Op Sequential is not supported at now.\n",
      "Op Sequential is not supported at now.\n",
      "Op Sequential is not supported at now.\n",
      "Op Sequential is not supported at now.\n",
      "Op Sequential is not supported at now.\n",
      "Op Sequential is not supported at now.\n",
      "Op Sequential is not supported at now.\n",
      "Op Sequential is not supported at now.\n",
      "Op Sequential is not supported at now.\n",
      "Op Sequential is not supported at now.\n",
      "Op Sequential is not supported at now.\n"
     ]
    },
    {
     "name": "stderr",
     "output_type": "stream",
     "text": [
      "Test:   8%|▊         | 12/157 [00:24<04:52,  2.01s/it]"
     ]
    },
    {
     "name": "stdout",
     "output_type": "stream",
     "text": [
      "Op Sequential is not supported at now.\n",
      "Op Sequential is not supported at now.\n",
      "Op Sequential is not supported at now.\n",
      "Op Sequential is not supported at now.\n",
      "Op Sequential is not supported at now.\n",
      "Op Sequential is not supported at now.\n",
      "Op Sequential is not supported at now.\n",
      "Op Sequential is not supported at now.\n",
      "Op Sequential is not supported at now.\n",
      "Op Sequential is not supported at now.\n",
      "Op Sequential is not supported at now.\n",
      "Op Sequential is not supported at now.\n",
      "Op Sequential is not supported at now.\n",
      "Op Sequential is not supported at now.\n",
      "Op Sequential is not supported at now.\n",
      "Op Sequential is not supported at now.\n",
      "Op Sequential is not supported at now.\n",
      "Op Sequential is not supported at now.\n",
      "Op Sequential is not supported at now.\n",
      "Op Sequential is not supported at now.\n"
     ]
    },
    {
     "name": "stderr",
     "output_type": "stream",
     "text": [
      "Test:   8%|▊         | 13/157 [00:26<04:46,  1.99s/it]"
     ]
    },
    {
     "name": "stdout",
     "output_type": "stream",
     "text": [
      "Op Sequential is not supported at now.\n",
      "Op Sequential is not supported at now.\n",
      "Op Sequential is not supported at now.\n",
      "Op Sequential is not supported at now.\n",
      "Op Sequential is not supported at now.\n",
      "Op Sequential is not supported at now.\n",
      "Op Sequential is not supported at now.\n",
      "Op Sequential is not supported at now.\n",
      "Op Sequential is not supported at now.\n",
      "Op Sequential is not supported at now.\n",
      "Op Sequential is not supported at now.\n",
      "Op Sequential is not supported at now.\n",
      "Op Sequential is not supported at now.\n",
      "Op Sequential is not supported at now.\n",
      "Op Sequential is not supported at now.\n",
      "Op Sequential is not supported at now.\n",
      "Op Sequential is not supported at now.\n",
      "Op Sequential is not supported at now.\n",
      "Op Sequential is not supported at now.\n",
      "Op Sequential is not supported at now.\n"
     ]
    },
    {
     "name": "stderr",
     "output_type": "stream",
     "text": [
      "Test:   9%|▉         | 14/157 [00:28<04:43,  1.98s/it]"
     ]
    },
    {
     "name": "stdout",
     "output_type": "stream",
     "text": [
      "Op Sequential is not supported at now.\n",
      "Op Sequential is not supported at now.\n",
      "Op Sequential is not supported at now.\n",
      "Op Sequential is not supported at now.\n",
      "Op Sequential is not supported at now.\n",
      "Op Sequential is not supported at now.\n",
      "Op Sequential is not supported at now.\n",
      "Op Sequential is not supported at now.\n",
      "Op Sequential is not supported at now.\n",
      "Op Sequential is not supported at now.\n",
      "Op Sequential is not supported at now.\n",
      "Op Sequential is not supported at now.\n",
      "Op Sequential is not supported at now.\n",
      "Op Sequential is not supported at now.\n",
      "Op Sequential is not supported at now.\n",
      "Op Sequential is not supported at now.\n",
      "Op Sequential is not supported at now.\n",
      "Op Sequential is not supported at now.\n",
      "Op Sequential is not supported at now.\n",
      "Op Sequential is not supported at now.\n"
     ]
    },
    {
     "name": "stderr",
     "output_type": "stream",
     "text": [
      "Test:  10%|▉         | 15/157 [00:30<04:42,  1.99s/it]"
     ]
    },
    {
     "name": "stdout",
     "output_type": "stream",
     "text": [
      "Op Sequential is not supported at now.\n",
      "Op Sequential is not supported at now.\n",
      "Op Sequential is not supported at now.\n",
      "Op Sequential is not supported at now.\n",
      "Op Sequential is not supported at now.\n",
      "Op Sequential is not supported at now.\n",
      "Op Sequential is not supported at now.\n",
      "Op Sequential is not supported at now.\n",
      "Op Sequential is not supported at now.\n",
      "Op Sequential is not supported at now.\n",
      "Op Sequential is not supported at now.\n",
      "Op Sequential is not supported at now.\n",
      "Op Sequential is not supported at now.\n",
      "Op Sequential is not supported at now.\n",
      "Op Sequential is not supported at now.\n",
      "Op Sequential is not supported at now.\n",
      "Op Sequential is not supported at now.\n",
      "Op Sequential is not supported at now.\n",
      "Op Sequential is not supported at now.\n",
      "Op Sequential is not supported at now.\n"
     ]
    },
    {
     "name": "stderr",
     "output_type": "stream",
     "text": [
      "Test:  10%|█         | 16/157 [00:32<04:39,  1.98s/it]"
     ]
    },
    {
     "name": "stdout",
     "output_type": "stream",
     "text": [
      "Op Sequential is not supported at now.\n",
      "Op Sequential is not supported at now.\n",
      "Op Sequential is not supported at now.\n",
      "Op Sequential is not supported at now.\n",
      "Op Sequential is not supported at now.\n",
      "Op Sequential is not supported at now.\n",
      "Op Sequential is not supported at now.\n",
      "Op Sequential is not supported at now.\n",
      "Op Sequential is not supported at now.\n",
      "Op Sequential is not supported at now.\n",
      "Op Sequential is not supported at now.\n",
      "Op Sequential is not supported at now.\n",
      "Op Sequential is not supported at now.\n",
      "Op Sequential is not supported at now.\n",
      "Op Sequential is not supported at now.\n",
      "Op Sequential is not supported at now.\n",
      "Op Sequential is not supported at now.\n",
      "Op Sequential is not supported at now.\n",
      "Op Sequential is not supported at now.\n",
      "Op Sequential is not supported at now.\n"
     ]
    },
    {
     "name": "stderr",
     "output_type": "stream",
     "text": [
      "Test:  11%|█         | 17/157 [00:34<04:36,  1.97s/it]"
     ]
    },
    {
     "name": "stdout",
     "output_type": "stream",
     "text": [
      "Op Sequential is not supported at now.\n",
      "Op Sequential is not supported at now.\n",
      "Op Sequential is not supported at now.\n",
      "Op Sequential is not supported at now.\n",
      "Op Sequential is not supported at now.\n",
      "Op Sequential is not supported at now.\n",
      "Op Sequential is not supported at now.\n",
      "Op Sequential is not supported at now.\n",
      "Op Sequential is not supported at now.\n",
      "Op Sequential is not supported at now.\n",
      "Op Sequential is not supported at now.\n",
      "Op Sequential is not supported at now.\n",
      "Op Sequential is not supported at now.\n",
      "Op Sequential is not supported at now.\n",
      "Op Sequential is not supported at now.\n",
      "Op Sequential is not supported at now.\n",
      "Op Sequential is not supported at now.\n",
      "Op Sequential is not supported at now.\n",
      "Op Sequential is not supported at now.\n",
      "Op Sequential is not supported at now.\n"
     ]
    },
    {
     "name": "stderr",
     "output_type": "stream",
     "text": [
      "Test:  11%|█▏        | 18/157 [00:36<04:34,  1.98s/it]"
     ]
    },
    {
     "name": "stdout",
     "output_type": "stream",
     "text": [
      "Op Sequential is not supported at now.\n",
      "Op Sequential is not supported at now.\n",
      "Op Sequential is not supported at now.\n",
      "Op Sequential is not supported at now.\n",
      "Op Sequential is not supported at now.\n",
      "Op Sequential is not supported at now.\n",
      "Op Sequential is not supported at now.\n",
      "Op Sequential is not supported at now.\n",
      "Op Sequential is not supported at now.\n",
      "Op Sequential is not supported at now.\n",
      "Op Sequential is not supported at now.\n",
      "Op Sequential is not supported at now.\n",
      "Op Sequential is not supported at now.\n",
      "Op Sequential is not supported at now.\n",
      "Op Sequential is not supported at now.\n",
      "Op Sequential is not supported at now.\n",
      "Op Sequential is not supported at now.\n",
      "Op Sequential is not supported at now.\n",
      "Op Sequential is not supported at now.\n",
      "Op Sequential is not supported at now.\n"
     ]
    },
    {
     "name": "stderr",
     "output_type": "stream",
     "text": [
      "Test:  12%|█▏        | 19/157 [00:38<04:31,  1.97s/it]"
     ]
    },
    {
     "name": "stdout",
     "output_type": "stream",
     "text": [
      "Op Sequential is not supported at now.\n",
      "Op Sequential is not supported at now.\n",
      "Op Sequential is not supported at now.\n",
      "Op Sequential is not supported at now.\n",
      "Op Sequential is not supported at now.\n",
      "Op Sequential is not supported at now.\n",
      "Op Sequential is not supported at now.\n",
      "Op Sequential is not supported at now.\n",
      "Op Sequential is not supported at now.\n",
      "Op Sequential is not supported at now.\n",
      "Op Sequential is not supported at now.\n",
      "Op Sequential is not supported at now.\n",
      "Op Sequential is not supported at now.\n",
      "Op Sequential is not supported at now.\n",
      "Op Sequential is not supported at now.\n",
      "Op Sequential is not supported at now.\n",
      "Op Sequential is not supported at now.\n",
      "Op Sequential is not supported at now.\n",
      "Op Sequential is not supported at now.\n",
      "Op Sequential is not supported at now.\n"
     ]
    },
    {
     "name": "stderr",
     "output_type": "stream",
     "text": [
      "Test:  13%|█▎        | 20/157 [00:40<04:27,  1.95s/it]"
     ]
    },
    {
     "name": "stdout",
     "output_type": "stream",
     "text": [
      "Op Sequential is not supported at now.\n",
      "Op Sequential is not supported at now.\n",
      "Op Sequential is not supported at now.\n",
      "Op Sequential is not supported at now.\n",
      "Op Sequential is not supported at now.\n",
      "Op Sequential is not supported at now.\n",
      "Op Sequential is not supported at now.\n",
      "Op Sequential is not supported at now.\n",
      "Op Sequential is not supported at now.\n",
      "Op Sequential is not supported at now.\n",
      "Op Sequential is not supported at now.\n",
      "Op Sequential is not supported at now.\n",
      "Op Sequential is not supported at now.\n",
      "Op Sequential is not supported at now.\n",
      "Op Sequential is not supported at now.\n",
      "Op Sequential is not supported at now.\n",
      "Op Sequential is not supported at now.\n",
      "Op Sequential is not supported at now.\n",
      "Op Sequential is not supported at now.\n",
      "Op Sequential is not supported at now.\n"
     ]
    },
    {
     "name": "stderr",
     "output_type": "stream",
     "text": [
      "Test:  13%|█▎        | 21/157 [00:42<04:24,  1.94s/it]"
     ]
    },
    {
     "name": "stdout",
     "output_type": "stream",
     "text": [
      "Op Sequential is not supported at now.\n",
      "Op Sequential is not supported at now.\n",
      "Op Sequential is not supported at now.\n",
      "Op Sequential is not supported at now.\n",
      "Op Sequential is not supported at now.\n",
      "Op Sequential is not supported at now.\n",
      "Op Sequential is not supported at now.\n",
      "Op Sequential is not supported at now.\n",
      "Op Sequential is not supported at now.\n",
      "Op Sequential is not supported at now.\n",
      "Op Sequential is not supported at now.\n",
      "Op Sequential is not supported at now.\n",
      "Op Sequential is not supported at now.\n",
      "Op Sequential is not supported at now.\n",
      "Op Sequential is not supported at now.\n",
      "Op Sequential is not supported at now.\n",
      "Op Sequential is not supported at now.\n",
      "Op Sequential is not supported at now.\n",
      "Op Sequential is not supported at now.\n",
      "Op Sequential is not supported at now.\n"
     ]
    },
    {
     "name": "stderr",
     "output_type": "stream",
     "text": [
      "Test:  14%|█▍        | 22/157 [00:43<04:21,  1.94s/it]"
     ]
    },
    {
     "name": "stdout",
     "output_type": "stream",
     "text": [
      "Op Sequential is not supported at now.\n",
      "Op Sequential is not supported at now.\n",
      "Op Sequential is not supported at now.\n",
      "Op Sequential is not supported at now.\n",
      "Op Sequential is not supported at now.\n",
      "Op Sequential is not supported at now.\n",
      "Op Sequential is not supported at now.\n",
      "Op Sequential is not supported at now.\n",
      "Op Sequential is not supported at now.\n",
      "Op Sequential is not supported at now.\n",
      "Op Sequential is not supported at now.\n",
      "Op Sequential is not supported at now.\n",
      "Op Sequential is not supported at now.\n",
      "Op Sequential is not supported at now.\n",
      "Op Sequential is not supported at now.\n",
      "Op Sequential is not supported at now.\n",
      "Op Sequential is not supported at now.\n",
      "Op Sequential is not supported at now.\n",
      "Op Sequential is not supported at now.\n",
      "Op Sequential is not supported at now.\n"
     ]
    },
    {
     "name": "stderr",
     "output_type": "stream",
     "text": [
      "Test:  15%|█▍        | 23/157 [00:45<04:21,  1.95s/it]"
     ]
    },
    {
     "name": "stdout",
     "output_type": "stream",
     "text": [
      "Op Sequential is not supported at now.\n",
      "Op Sequential is not supported at now.\n",
      "Op Sequential is not supported at now.\n",
      "Op Sequential is not supported at now.\n",
      "Op Sequential is not supported at now.\n",
      "Op Sequential is not supported at now.\n",
      "Op Sequential is not supported at now.\n",
      "Op Sequential is not supported at now.\n",
      "Op Sequential is not supported at now.\n",
      "Op Sequential is not supported at now.\n",
      "Op Sequential is not supported at now.\n",
      "Op Sequential is not supported at now.\n",
      "Op Sequential is not supported at now.\n",
      "Op Sequential is not supported at now.\n",
      "Op Sequential is not supported at now.\n",
      "Op Sequential is not supported at now.\n",
      "Op Sequential is not supported at now.\n",
      "Op Sequential is not supported at now.\n",
      "Op Sequential is not supported at now.\n",
      "Op Sequential is not supported at now.\n"
     ]
    },
    {
     "name": "stderr",
     "output_type": "stream",
     "text": [
      "Test:  15%|█▌        | 24/157 [00:47<04:18,  1.94s/it]"
     ]
    },
    {
     "name": "stdout",
     "output_type": "stream",
     "text": [
      "Op Sequential is not supported at now.\n",
      "Op Sequential is not supported at now.\n",
      "Op Sequential is not supported at now.\n",
      "Op Sequential is not supported at now.\n",
      "Op Sequential is not supported at now.\n",
      "Op Sequential is not supported at now.\n",
      "Op Sequential is not supported at now.\n",
      "Op Sequential is not supported at now.\n",
      "Op Sequential is not supported at now.\n",
      "Op Sequential is not supported at now.\n",
      "Op Sequential is not supported at now.\n",
      "Op Sequential is not supported at now.\n",
      "Op Sequential is not supported at now.\n",
      "Op Sequential is not supported at now.\n",
      "Op Sequential is not supported at now.\n",
      "Op Sequential is not supported at now.\n",
      "Op Sequential is not supported at now.\n",
      "Op Sequential is not supported at now.\n",
      "Op Sequential is not supported at now.\n",
      "Op Sequential is not supported at now.\n"
     ]
    },
    {
     "name": "stderr",
     "output_type": "stream",
     "text": [
      "Test:  16%|█▌        | 25/157 [00:49<04:16,  1.95s/it]"
     ]
    },
    {
     "name": "stdout",
     "output_type": "stream",
     "text": [
      "Op Sequential is not supported at now.\n",
      "Op Sequential is not supported at now.\n",
      "Op Sequential is not supported at now.\n",
      "Op Sequential is not supported at now.\n",
      "Op Sequential is not supported at now.\n",
      "Op Sequential is not supported at now.\n",
      "Op Sequential is not supported at now.\n",
      "Op Sequential is not supported at now.\n",
      "Op Sequential is not supported at now.\n",
      "Op Sequential is not supported at now.\n",
      "Op Sequential is not supported at now.\n",
      "Op Sequential is not supported at now.\n",
      "Op Sequential is not supported at now.\n",
      "Op Sequential is not supported at now.\n",
      "Op Sequential is not supported at now.\n",
      "Op Sequential is not supported at now.\n",
      "Op Sequential is not supported at now.\n",
      "Op Sequential is not supported at now.\n",
      "Op Sequential is not supported at now.\n",
      "Op Sequential is not supported at now.\n"
     ]
    },
    {
     "name": "stderr",
     "output_type": "stream",
     "text": [
      "Test:  17%|█▋        | 26/157 [00:51<04:15,  1.95s/it]"
     ]
    },
    {
     "name": "stdout",
     "output_type": "stream",
     "text": [
      "Op Sequential is not supported at now.\n",
      "Op Sequential is not supported at now.\n",
      "Op Sequential is not supported at now.\n",
      "Op Sequential is not supported at now.\n",
      "Op Sequential is not supported at now.\n",
      "Op Sequential is not supported at now.\n",
      "Op Sequential is not supported at now.\n",
      "Op Sequential is not supported at now.\n",
      "Op Sequential is not supported at now.\n",
      "Op Sequential is not supported at now.\n",
      "Op Sequential is not supported at now.\n",
      "Op Sequential is not supported at now.\n",
      "Op Sequential is not supported at now.\n",
      "Op Sequential is not supported at now.\n",
      "Op Sequential is not supported at now.\n",
      "Op Sequential is not supported at now.\n",
      "Op Sequential is not supported at now.\n",
      "Op Sequential is not supported at now.\n",
      "Op Sequential is not supported at now.\n",
      "Op Sequential is not supported at now.\n"
     ]
    },
    {
     "name": "stderr",
     "output_type": "stream",
     "text": [
      "Test:  17%|█▋        | 27/157 [00:53<04:12,  1.94s/it]"
     ]
    },
    {
     "name": "stdout",
     "output_type": "stream",
     "text": [
      "Op Sequential is not supported at now.\n",
      "Op Sequential is not supported at now.\n",
      "Op Sequential is not supported at now.\n",
      "Op Sequential is not supported at now.\n",
      "Op Sequential is not supported at now.\n",
      "Op Sequential is not supported at now.\n",
      "Op Sequential is not supported at now.\n",
      "Op Sequential is not supported at now.\n",
      "Op Sequential is not supported at now.\n",
      "Op Sequential is not supported at now.\n",
      "Op Sequential is not supported at now.\n",
      "Op Sequential is not supported at now.\n",
      "Op Sequential is not supported at now.\n",
      "Op Sequential is not supported at now.\n",
      "Op Sequential is not supported at now.\n",
      "Op Sequential is not supported at now.\n",
      "Op Sequential is not supported at now.\n",
      "Op Sequential is not supported at now.\n",
      "Op Sequential is not supported at now.\n",
      "Op Sequential is not supported at now.\n"
     ]
    },
    {
     "name": "stderr",
     "output_type": "stream",
     "text": [
      "Test:  18%|█▊        | 28/157 [00:55<04:11,  1.95s/it]"
     ]
    },
    {
     "name": "stdout",
     "output_type": "stream",
     "text": [
      "Op Sequential is not supported at now.\n",
      "Op Sequential is not supported at now.\n",
      "Op Sequential is not supported at now.\n",
      "Op Sequential is not supported at now.\n",
      "Op Sequential is not supported at now.\n",
      "Op Sequential is not supported at now.\n",
      "Op Sequential is not supported at now.\n",
      "Op Sequential is not supported at now.\n",
      "Op Sequential is not supported at now.\n",
      "Op Sequential is not supported at now.\n",
      "Op Sequential is not supported at now.\n",
      "Op Sequential is not supported at now.\n",
      "Op Sequential is not supported at now.\n",
      "Op Sequential is not supported at now.\n",
      "Op Sequential is not supported at now.\n",
      "Op Sequential is not supported at now.\n",
      "Op Sequential is not supported at now.\n",
      "Op Sequential is not supported at now.\n",
      "Op Sequential is not supported at now.\n",
      "Op Sequential is not supported at now.\n"
     ]
    },
    {
     "name": "stderr",
     "output_type": "stream",
     "text": [
      "Test:  18%|█▊        | 29/157 [00:57<04:08,  1.94s/it]"
     ]
    },
    {
     "name": "stdout",
     "output_type": "stream",
     "text": [
      "Op Sequential is not supported at now.\n",
      "Op Sequential is not supported at now.\n",
      "Op Sequential is not supported at now.\n",
      "Op Sequential is not supported at now.\n",
      "Op Sequential is not supported at now.\n",
      "Op Sequential is not supported at now.\n",
      "Op Sequential is not supported at now.\n",
      "Op Sequential is not supported at now.\n",
      "Op Sequential is not supported at now.\n",
      "Op Sequential is not supported at now.\n",
      "Op Sequential is not supported at now.\n",
      "Op Sequential is not supported at now.\n",
      "Op Sequential is not supported at now.\n",
      "Op Sequential is not supported at now.\n",
      "Op Sequential is not supported at now.\n",
      "Op Sequential is not supported at now.\n",
      "Op Sequential is not supported at now.\n",
      "Op Sequential is not supported at now.\n",
      "Op Sequential is not supported at now.\n",
      "Op Sequential is not supported at now.\n"
     ]
    },
    {
     "name": "stderr",
     "output_type": "stream",
     "text": [
      "Test:  19%|█▉        | 30/157 [00:59<04:05,  1.93s/it]"
     ]
    },
    {
     "name": "stdout",
     "output_type": "stream",
     "text": [
      "Op Sequential is not supported at now.\n",
      "Op Sequential is not supported at now.\n",
      "Op Sequential is not supported at now.\n",
      "Op Sequential is not supported at now.\n",
      "Op Sequential is not supported at now.\n",
      "Op Sequential is not supported at now.\n",
      "Op Sequential is not supported at now.\n",
      "Op Sequential is not supported at now.\n",
      "Op Sequential is not supported at now.\n",
      "Op Sequential is not supported at now.\n",
      "Op Sequential is not supported at now.\n",
      "Op Sequential is not supported at now.\n",
      "Op Sequential is not supported at now.\n",
      "Op Sequential is not supported at now.\n",
      "Op Sequential is not supported at now.\n",
      "Op Sequential is not supported at now.\n",
      "Op Sequential is not supported at now.\n",
      "Op Sequential is not supported at now.\n",
      "Op Sequential is not supported at now.\n",
      "Op Sequential is not supported at now.\n"
     ]
    },
    {
     "name": "stderr",
     "output_type": "stream",
     "text": [
      "Test:  20%|█▉        | 31/157 [01:01<04:03,  1.93s/it]"
     ]
    },
    {
     "name": "stdout",
     "output_type": "stream",
     "text": [
      "Op Sequential is not supported at now.\n",
      "Op Sequential is not supported at now.\n",
      "Op Sequential is not supported at now.\n",
      "Op Sequential is not supported at now.\n",
      "Op Sequential is not supported at now.\n",
      "Op Sequential is not supported at now.\n",
      "Op Sequential is not supported at now.\n",
      "Op Sequential is not supported at now.\n",
      "Op Sequential is not supported at now.\n",
      "Op Sequential is not supported at now.\n",
      "Op Sequential is not supported at now.\n",
      "Op Sequential is not supported at now.\n",
      "Op Sequential is not supported at now.\n",
      "Op Sequential is not supported at now.\n",
      "Op Sequential is not supported at now.\n",
      "Op Sequential is not supported at now.\n",
      "Op Sequential is not supported at now.\n",
      "Op Sequential is not supported at now.\n",
      "Op Sequential is not supported at now.\n",
      "Op Sequential is not supported at now.\n"
     ]
    },
    {
     "name": "stderr",
     "output_type": "stream",
     "text": [
      "Test:  20%|██        | 32/157 [01:03<04:02,  1.94s/it]"
     ]
    },
    {
     "name": "stdout",
     "output_type": "stream",
     "text": [
      "Op Sequential is not supported at now.\n",
      "Op Sequential is not supported at now.\n",
      "Op Sequential is not supported at now.\n",
      "Op Sequential is not supported at now.\n",
      "Op Sequential is not supported at now.\n",
      "Op Sequential is not supported at now.\n",
      "Op Sequential is not supported at now.\n",
      "Op Sequential is not supported at now.\n",
      "Op Sequential is not supported at now.\n",
      "Op Sequential is not supported at now.\n",
      "Op Sequential is not supported at now.\n",
      "Op Sequential is not supported at now.\n",
      "Op Sequential is not supported at now.\n",
      "Op Sequential is not supported at now.\n",
      "Op Sequential is not supported at now.\n",
      "Op Sequential is not supported at now.\n",
      "Op Sequential is not supported at now.\n",
      "Op Sequential is not supported at now.\n",
      "Op Sequential is not supported at now.\n",
      "Op Sequential is not supported at now.\n"
     ]
    },
    {
     "name": "stderr",
     "output_type": "stream",
     "text": [
      "Test:  21%|██        | 33/157 [01:05<04:00,  1.94s/it]"
     ]
    },
    {
     "name": "stdout",
     "output_type": "stream",
     "text": [
      "Op Sequential is not supported at now.\n",
      "Op Sequential is not supported at now.\n",
      "Op Sequential is not supported at now.\n",
      "Op Sequential is not supported at now.\n",
      "Op Sequential is not supported at now.\n",
      "Op Sequential is not supported at now.\n",
      "Op Sequential is not supported at now.\n",
      "Op Sequential is not supported at now.\n",
      "Op Sequential is not supported at now.\n",
      "Op Sequential is not supported at now.\n",
      "Op Sequential is not supported at now.\n",
      "Op Sequential is not supported at now.\n",
      "Op Sequential is not supported at now.\n",
      "Op Sequential is not supported at now.\n",
      "Op Sequential is not supported at now.\n",
      "Op Sequential is not supported at now.\n",
      "Op Sequential is not supported at now.\n",
      "Op Sequential is not supported at now.\n",
      "Op Sequential is not supported at now.\n",
      "Op Sequential is not supported at now.\n"
     ]
    },
    {
     "name": "stderr",
     "output_type": "stream",
     "text": [
      "Test:  22%|██▏       | 34/157 [01:07<03:59,  1.94s/it]"
     ]
    },
    {
     "name": "stdout",
     "output_type": "stream",
     "text": [
      "Op Sequential is not supported at now.\n",
      "Op Sequential is not supported at now.\n",
      "Op Sequential is not supported at now.\n",
      "Op Sequential is not supported at now.\n",
      "Op Sequential is not supported at now.\n",
      "Op Sequential is not supported at now.\n",
      "Op Sequential is not supported at now.\n",
      "Op Sequential is not supported at now.\n",
      "Op Sequential is not supported at now.\n",
      "Op Sequential is not supported at now.\n",
      "Op Sequential is not supported at now.\n",
      "Op Sequential is not supported at now.\n",
      "Op Sequential is not supported at now.\n",
      "Op Sequential is not supported at now.\n",
      "Op Sequential is not supported at now.\n",
      "Op Sequential is not supported at now.\n",
      "Op Sequential is not supported at now.\n",
      "Op Sequential is not supported at now.\n",
      "Op Sequential is not supported at now.\n",
      "Op Sequential is not supported at now.\n"
     ]
    },
    {
     "name": "stderr",
     "output_type": "stream",
     "text": [
      "Test:  22%|██▏       | 35/157 [01:09<03:56,  1.94s/it]"
     ]
    },
    {
     "name": "stdout",
     "output_type": "stream",
     "text": [
      "Op Sequential is not supported at now.\n",
      "Op Sequential is not supported at now.\n",
      "Op Sequential is not supported at now.\n",
      "Op Sequential is not supported at now.\n",
      "Op Sequential is not supported at now.\n",
      "Op Sequential is not supported at now.\n",
      "Op Sequential is not supported at now.\n",
      "Op Sequential is not supported at now.\n",
      "Op Sequential is not supported at now.\n",
      "Op Sequential is not supported at now.\n",
      "Op Sequential is not supported at now.\n",
      "Op Sequential is not supported at now.\n",
      "Op Sequential is not supported at now.\n",
      "Op Sequential is not supported at now.\n",
      "Op Sequential is not supported at now.\n",
      "Op Sequential is not supported at now.\n",
      "Op Sequential is not supported at now.\n",
      "Op Sequential is not supported at now.\n",
      "Op Sequential is not supported at now.\n",
      "Op Sequential is not supported at now.\n"
     ]
    },
    {
     "name": "stderr",
     "output_type": "stream",
     "text": [
      "Test:  23%|██▎       | 36/157 [01:11<03:54,  1.94s/it]"
     ]
    },
    {
     "name": "stdout",
     "output_type": "stream",
     "text": [
      "Op Sequential is not supported at now.\n",
      "Op Sequential is not supported at now.\n",
      "Op Sequential is not supported at now.\n",
      "Op Sequential is not supported at now.\n",
      "Op Sequential is not supported at now.\n",
      "Op Sequential is not supported at now.\n",
      "Op Sequential is not supported at now.\n",
      "Op Sequential is not supported at now.\n",
      "Op Sequential is not supported at now.\n",
      "Op Sequential is not supported at now.\n",
      "Op Sequential is not supported at now.\n",
      "Op Sequential is not supported at now.\n",
      "Op Sequential is not supported at now.\n",
      "Op Sequential is not supported at now.\n",
      "Op Sequential is not supported at now.\n",
      "Op Sequential is not supported at now.\n",
      "Op Sequential is not supported at now.\n",
      "Op Sequential is not supported at now.\n",
      "Op Sequential is not supported at now.\n",
      "Op Sequential is not supported at now.\n"
     ]
    },
    {
     "name": "stderr",
     "output_type": "stream",
     "text": [
      "Test:  24%|██▎       | 37/157 [01:13<03:52,  1.94s/it]"
     ]
    },
    {
     "name": "stdout",
     "output_type": "stream",
     "text": [
      "Op Sequential is not supported at now.\n",
      "Op Sequential is not supported at now.\n",
      "Op Sequential is not supported at now.\n",
      "Op Sequential is not supported at now.\n",
      "Op Sequential is not supported at now.\n",
      "Op Sequential is not supported at now.\n",
      "Op Sequential is not supported at now.\n",
      "Op Sequential is not supported at now.\n",
      "Op Sequential is not supported at now.\n",
      "Op Sequential is not supported at now.\n",
      "Op Sequential is not supported at now.\n",
      "Op Sequential is not supported at now.\n",
      "Op Sequential is not supported at now.\n",
      "Op Sequential is not supported at now.\n",
      "Op Sequential is not supported at now.\n",
      "Op Sequential is not supported at now.\n",
      "Op Sequential is not supported at now.\n",
      "Op Sequential is not supported at now.\n",
      "Op Sequential is not supported at now.\n",
      "Op Sequential is not supported at now.\n"
     ]
    },
    {
     "name": "stderr",
     "output_type": "stream",
     "text": [
      "Test:  24%|██▍       | 38/157 [01:14<03:49,  1.93s/it]"
     ]
    },
    {
     "name": "stdout",
     "output_type": "stream",
     "text": [
      "Op Sequential is not supported at now.\n",
      "Op Sequential is not supported at now.\n",
      "Op Sequential is not supported at now.\n",
      "Op Sequential is not supported at now.\n",
      "Op Sequential is not supported at now.\n",
      "Op Sequential is not supported at now.\n",
      "Op Sequential is not supported at now.\n",
      "Op Sequential is not supported at now.\n",
      "Op Sequential is not supported at now.\n",
      "Op Sequential is not supported at now.\n",
      "Op Sequential is not supported at now.\n",
      "Op Sequential is not supported at now.\n",
      "Op Sequential is not supported at now.\n",
      "Op Sequential is not supported at now.\n",
      "Op Sequential is not supported at now.\n",
      "Op Sequential is not supported at now.\n",
      "Op Sequential is not supported at now.\n",
      "Op Sequential is not supported at now.\n",
      "Op Sequential is not supported at now.\n",
      "Op Sequential is not supported at now.\n"
     ]
    },
    {
     "name": "stderr",
     "output_type": "stream",
     "text": [
      "Test:  25%|██▍       | 39/157 [01:16<03:48,  1.94s/it]"
     ]
    },
    {
     "name": "stdout",
     "output_type": "stream",
     "text": [
      "Op Sequential is not supported at now.\n",
      "Op Sequential is not supported at now.\n",
      "Op Sequential is not supported at now.\n",
      "Op Sequential is not supported at now.\n",
      "Op Sequential is not supported at now.\n",
      "Op Sequential is not supported at now.\n",
      "Op Sequential is not supported at now.\n",
      "Op Sequential is not supported at now.\n",
      "Op Sequential is not supported at now.\n",
      "Op Sequential is not supported at now.\n",
      "Op Sequential is not supported at now.\n",
      "Op Sequential is not supported at now.\n",
      "Op Sequential is not supported at now.\n",
      "Op Sequential is not supported at now.\n",
      "Op Sequential is not supported at now.\n",
      "Op Sequential is not supported at now.\n",
      "Op Sequential is not supported at now.\n",
      "Op Sequential is not supported at now.\n",
      "Op Sequential is not supported at now.\n",
      "Op Sequential is not supported at now.\n"
     ]
    },
    {
     "name": "stderr",
     "output_type": "stream",
     "text": [
      "Test:  25%|██▌       | 40/157 [01:18<03:45,  1.93s/it]"
     ]
    },
    {
     "name": "stdout",
     "output_type": "stream",
     "text": [
      "Op Sequential is not supported at now.\n",
      "Op Sequential is not supported at now.\n",
      "Op Sequential is not supported at now.\n",
      "Op Sequential is not supported at now.\n",
      "Op Sequential is not supported at now.\n",
      "Op Sequential is not supported at now.\n",
      "Op Sequential is not supported at now.\n",
      "Op Sequential is not supported at now.\n",
      "Op Sequential is not supported at now.\n",
      "Op Sequential is not supported at now.\n",
      "Op Sequential is not supported at now.\n",
      "Op Sequential is not supported at now.\n",
      "Op Sequential is not supported at now.\n",
      "Op Sequential is not supported at now.\n",
      "Op Sequential is not supported at now.\n",
      "Op Sequential is not supported at now.\n",
      "Op Sequential is not supported at now.\n",
      "Op Sequential is not supported at now.\n",
      "Op Sequential is not supported at now.\n",
      "Op Sequential is not supported at now.\n"
     ]
    },
    {
     "name": "stderr",
     "output_type": "stream",
     "text": [
      "Test:  26%|██▌       | 41/157 [01:20<03:44,  1.93s/it]"
     ]
    },
    {
     "name": "stdout",
     "output_type": "stream",
     "text": [
      "Op Sequential is not supported at now.\n",
      "Op Sequential is not supported at now.\n",
      "Op Sequential is not supported at now.\n",
      "Op Sequential is not supported at now.\n",
      "Op Sequential is not supported at now.\n",
      "Op Sequential is not supported at now.\n",
      "Op Sequential is not supported at now.\n",
      "Op Sequential is not supported at now.\n",
      "Op Sequential is not supported at now.\n",
      "Op Sequential is not supported at now.\n",
      "Op Sequential is not supported at now.\n",
      "Op Sequential is not supported at now.\n",
      "Op Sequential is not supported at now.\n",
      "Op Sequential is not supported at now.\n",
      "Op Sequential is not supported at now.\n",
      "Op Sequential is not supported at now.\n",
      "Op Sequential is not supported at now.\n",
      "Op Sequential is not supported at now.\n",
      "Op Sequential is not supported at now.\n",
      "Op Sequential is not supported at now.\n"
     ]
    },
    {
     "name": "stderr",
     "output_type": "stream",
     "text": [
      "Test:  27%|██▋       | 42/157 [01:22<03:41,  1.93s/it]"
     ]
    },
    {
     "name": "stdout",
     "output_type": "stream",
     "text": [
      "Op Sequential is not supported at now.\n",
      "Op Sequential is not supported at now.\n",
      "Op Sequential is not supported at now.\n",
      "Op Sequential is not supported at now.\n",
      "Op Sequential is not supported at now.\n",
      "Op Sequential is not supported at now.\n",
      "Op Sequential is not supported at now.\n",
      "Op Sequential is not supported at now.\n",
      "Op Sequential is not supported at now.\n",
      "Op Sequential is not supported at now.\n",
      "Op Sequential is not supported at now.\n",
      "Op Sequential is not supported at now.\n",
      "Op Sequential is not supported at now.\n",
      "Op Sequential is not supported at now.\n",
      "Op Sequential is not supported at now.\n",
      "Op Sequential is not supported at now.\n",
      "Op Sequential is not supported at now.\n",
      "Op Sequential is not supported at now.\n",
      "Op Sequential is not supported at now.\n",
      "Op Sequential is not supported at now.\n"
     ]
    },
    {
     "name": "stderr",
     "output_type": "stream",
     "text": [
      "Test:  27%|██▋       | 43/157 [01:24<03:41,  1.94s/it]"
     ]
    },
    {
     "name": "stdout",
     "output_type": "stream",
     "text": [
      "Op Sequential is not supported at now.\n",
      "Op Sequential is not supported at now.\n",
      "Op Sequential is not supported at now.\n",
      "Op Sequential is not supported at now.\n",
      "Op Sequential is not supported at now.\n",
      "Op Sequential is not supported at now.\n",
      "Op Sequential is not supported at now.\n",
      "Op Sequential is not supported at now.\n",
      "Op Sequential is not supported at now.\n",
      "Op Sequential is not supported at now.\n",
      "Op Sequential is not supported at now.\n",
      "Op Sequential is not supported at now.\n",
      "Op Sequential is not supported at now.\n",
      "Op Sequential is not supported at now.\n",
      "Op Sequential is not supported at now.\n",
      "Op Sequential is not supported at now.\n",
      "Op Sequential is not supported at now.\n",
      "Op Sequential is not supported at now.\n",
      "Op Sequential is not supported at now.\n",
      "Op Sequential is not supported at now.\n"
     ]
    },
    {
     "name": "stderr",
     "output_type": "stream",
     "text": [
      "Test:  28%|██▊       | 44/157 [01:26<03:43,  1.98s/it]"
     ]
    },
    {
     "name": "stdout",
     "output_type": "stream",
     "text": [
      "Op Sequential is not supported at now.\n",
      "Op Sequential is not supported at now.\n",
      "Op Sequential is not supported at now.\n",
      "Op Sequential is not supported at now.\n",
      "Op Sequential is not supported at now.\n",
      "Op Sequential is not supported at now.\n",
      "Op Sequential is not supported at now.\n",
      "Op Sequential is not supported at now.\n",
      "Op Sequential is not supported at now.\n",
      "Op Sequential is not supported at now.\n",
      "Op Sequential is not supported at now.\n",
      "Op Sequential is not supported at now.\n",
      "Op Sequential is not supported at now.\n",
      "Op Sequential is not supported at now.\n",
      "Op Sequential is not supported at now.\n",
      "Op Sequential is not supported at now.\n",
      "Op Sequential is not supported at now.\n",
      "Op Sequential is not supported at now.\n",
      "Op Sequential is not supported at now.\n",
      "Op Sequential is not supported at now.\n"
     ]
    },
    {
     "name": "stderr",
     "output_type": "stream",
     "text": [
      "Test:  29%|██▊       | 45/157 [01:28<03:45,  2.01s/it]"
     ]
    },
    {
     "name": "stdout",
     "output_type": "stream",
     "text": [
      "Op Sequential is not supported at now.\n",
      "Op Sequential is not supported at now.\n",
      "Op Sequential is not supported at now.\n",
      "Op Sequential is not supported at now.\n",
      "Op Sequential is not supported at now.\n",
      "Op Sequential is not supported at now.\n",
      "Op Sequential is not supported at now.\n",
      "Op Sequential is not supported at now.\n",
      "Op Sequential is not supported at now.\n",
      "Op Sequential is not supported at now.\n",
      "Op Sequential is not supported at now.\n",
      "Op Sequential is not supported at now.\n",
      "Op Sequential is not supported at now.\n",
      "Op Sequential is not supported at now.\n",
      "Op Sequential is not supported at now.\n",
      "Op Sequential is not supported at now.\n",
      "Op Sequential is not supported at now.\n",
      "Op Sequential is not supported at now.\n",
      "Op Sequential is not supported at now.\n",
      "Op Sequential is not supported at now.\n"
     ]
    },
    {
     "name": "stderr",
     "output_type": "stream",
     "text": [
      "Test:  29%|██▉       | 46/157 [01:30<03:43,  2.02s/it]"
     ]
    },
    {
     "name": "stdout",
     "output_type": "stream",
     "text": [
      "Op Sequential is not supported at now.\n",
      "Op Sequential is not supported at now.\n",
      "Op Sequential is not supported at now.\n",
      "Op Sequential is not supported at now.\n",
      "Op Sequential is not supported at now.\n",
      "Op Sequential is not supported at now.\n",
      "Op Sequential is not supported at now.\n",
      "Op Sequential is not supported at now.\n",
      "Op Sequential is not supported at now.\n",
      "Op Sequential is not supported at now.\n",
      "Op Sequential is not supported at now.\n",
      "Op Sequential is not supported at now.\n",
      "Op Sequential is not supported at now.\n",
      "Op Sequential is not supported at now.\n",
      "Op Sequential is not supported at now.\n",
      "Op Sequential is not supported at now.\n",
      "Op Sequential is not supported at now.\n",
      "Op Sequential is not supported at now.\n",
      "Op Sequential is not supported at now.\n",
      "Op Sequential is not supported at now.\n"
     ]
    },
    {
     "name": "stderr",
     "output_type": "stream",
     "text": [
      "Test:  30%|██▉       | 47/157 [01:32<03:40,  2.01s/it]"
     ]
    },
    {
     "name": "stdout",
     "output_type": "stream",
     "text": [
      "Op Sequential is not supported at now.\n",
      "Op Sequential is not supported at now.\n",
      "Op Sequential is not supported at now.\n",
      "Op Sequential is not supported at now.\n",
      "Op Sequential is not supported at now.\n",
      "Op Sequential is not supported at now.\n",
      "Op Sequential is not supported at now.\n",
      "Op Sequential is not supported at now.\n",
      "Op Sequential is not supported at now.\n",
      "Op Sequential is not supported at now.\n",
      "Op Sequential is not supported at now.\n",
      "Op Sequential is not supported at now.\n",
      "Op Sequential is not supported at now.\n",
      "Op Sequential is not supported at now.\n",
      "Op Sequential is not supported at now.\n",
      "Op Sequential is not supported at now.\n",
      "Op Sequential is not supported at now.\n",
      "Op Sequential is not supported at now.\n",
      "Op Sequential is not supported at now.\n",
      "Op Sequential is not supported at now.\n"
     ]
    },
    {
     "name": "stderr",
     "output_type": "stream",
     "text": [
      "Test:  31%|███       | 48/157 [01:34<03:36,  1.98s/it]"
     ]
    },
    {
     "name": "stdout",
     "output_type": "stream",
     "text": [
      "Op Sequential is not supported at now.\n",
      "Op Sequential is not supported at now.\n",
      "Op Sequential is not supported at now.\n",
      "Op Sequential is not supported at now.\n",
      "Op Sequential is not supported at now.\n",
      "Op Sequential is not supported at now.\n",
      "Op Sequential is not supported at now.\n",
      "Op Sequential is not supported at now.\n",
      "Op Sequential is not supported at now.\n",
      "Op Sequential is not supported at now.\n",
      "Op Sequential is not supported at now.\n",
      "Op Sequential is not supported at now.\n",
      "Op Sequential is not supported at now.\n",
      "Op Sequential is not supported at now.\n",
      "Op Sequential is not supported at now.\n",
      "Op Sequential is not supported at now.\n",
      "Op Sequential is not supported at now.\n",
      "Op Sequential is not supported at now.\n",
      "Op Sequential is not supported at now.\n",
      "Op Sequential is not supported at now.\n"
     ]
    },
    {
     "name": "stderr",
     "output_type": "stream",
     "text": [
      "Test:  31%|███       | 49/157 [01:36<03:32,  1.97s/it]"
     ]
    },
    {
     "name": "stdout",
     "output_type": "stream",
     "text": [
      "Op Sequential is not supported at now.\n",
      "Op Sequential is not supported at now.\n",
      "Op Sequential is not supported at now.\n",
      "Op Sequential is not supported at now.\n",
      "Op Sequential is not supported at now.\n",
      "Op Sequential is not supported at now.\n",
      "Op Sequential is not supported at now.\n",
      "Op Sequential is not supported at now.\n",
      "Op Sequential is not supported at now.\n",
      "Op Sequential is not supported at now.\n",
      "Op Sequential is not supported at now.\n",
      "Op Sequential is not supported at now.\n",
      "Op Sequential is not supported at now.\n",
      "Op Sequential is not supported at now.\n",
      "Op Sequential is not supported at now.\n",
      "Op Sequential is not supported at now.\n",
      "Op Sequential is not supported at now.\n",
      "Op Sequential is not supported at now.\n",
      "Op Sequential is not supported at now.\n",
      "Op Sequential is not supported at now.\n"
     ]
    },
    {
     "name": "stderr",
     "output_type": "stream",
     "text": [
      "Test:  32%|███▏      | 50/157 [01:38<03:30,  1.97s/it]"
     ]
    },
    {
     "name": "stdout",
     "output_type": "stream",
     "text": [
      "Op Sequential is not supported at now.\n",
      "Op Sequential is not supported at now.\n",
      "Op Sequential is not supported at now.\n",
      "Op Sequential is not supported at now.\n",
      "Op Sequential is not supported at now.\n",
      "Op Sequential is not supported at now.\n",
      "Op Sequential is not supported at now.\n",
      "Op Sequential is not supported at now.\n",
      "Op Sequential is not supported at now.\n",
      "Op Sequential is not supported at now.\n",
      "Op Sequential is not supported at now.\n",
      "Op Sequential is not supported at now.\n",
      "Op Sequential is not supported at now.\n",
      "Op Sequential is not supported at now.\n",
      "Op Sequential is not supported at now.\n",
      "Op Sequential is not supported at now.\n",
      "Op Sequential is not supported at now.\n",
      "Op Sequential is not supported at now.\n",
      "Op Sequential is not supported at now.\n",
      "Op Sequential is not supported at now.\n"
     ]
    },
    {
     "name": "stderr",
     "output_type": "stream",
     "text": [
      "Test:  32%|███▏      | 51/157 [01:40<03:27,  1.96s/it]"
     ]
    },
    {
     "name": "stdout",
     "output_type": "stream",
     "text": [
      "Op Sequential is not supported at now.\n",
      "Op Sequential is not supported at now.\n",
      "Op Sequential is not supported at now.\n",
      "Op Sequential is not supported at now.\n",
      "Op Sequential is not supported at now.\n",
      "Op Sequential is not supported at now.\n",
      "Op Sequential is not supported at now.\n",
      "Op Sequential is not supported at now.\n",
      "Op Sequential is not supported at now.\n",
      "Op Sequential is not supported at now.\n",
      "Op Sequential is not supported at now.\n",
      "Op Sequential is not supported at now.\n",
      "Op Sequential is not supported at now.\n",
      "Op Sequential is not supported at now.\n",
      "Op Sequential is not supported at now.\n",
      "Op Sequential is not supported at now.\n",
      "Op Sequential is not supported at now.\n",
      "Op Sequential is not supported at now.\n",
      "Op Sequential is not supported at now.\n",
      "Op Sequential is not supported at now.\n"
     ]
    },
    {
     "name": "stderr",
     "output_type": "stream",
     "text": [
      "Test:  33%|███▎      | 52/157 [01:42<03:25,  1.95s/it]"
     ]
    },
    {
     "name": "stdout",
     "output_type": "stream",
     "text": [
      "Op Sequential is not supported at now.\n",
      "Op Sequential is not supported at now.\n",
      "Op Sequential is not supported at now.\n",
      "Op Sequential is not supported at now.\n",
      "Op Sequential is not supported at now.\n",
      "Op Sequential is not supported at now.\n",
      "Op Sequential is not supported at now.\n",
      "Op Sequential is not supported at now.\n",
      "Op Sequential is not supported at now.\n",
      "Op Sequential is not supported at now.\n",
      "Op Sequential is not supported at now.\n",
      "Op Sequential is not supported at now.\n",
      "Op Sequential is not supported at now.\n",
      "Op Sequential is not supported at now.\n",
      "Op Sequential is not supported at now.\n",
      "Op Sequential is not supported at now.\n",
      "Op Sequential is not supported at now.\n",
      "Op Sequential is not supported at now.\n",
      "Op Sequential is not supported at now.\n",
      "Op Sequential is not supported at now.\n"
     ]
    },
    {
     "name": "stderr",
     "output_type": "stream",
     "text": [
      "Test:  34%|███▍      | 53/157 [01:44<03:22,  1.95s/it]"
     ]
    },
    {
     "name": "stdout",
     "output_type": "stream",
     "text": [
      "Op Sequential is not supported at now.\n",
      "Op Sequential is not supported at now.\n",
      "Op Sequential is not supported at now.\n",
      "Op Sequential is not supported at now.\n",
      "Op Sequential is not supported at now.\n",
      "Op Sequential is not supported at now.\n",
      "Op Sequential is not supported at now.\n",
      "Op Sequential is not supported at now.\n",
      "Op Sequential is not supported at now.\n",
      "Op Sequential is not supported at now.\n",
      "Op Sequential is not supported at now.\n",
      "Op Sequential is not supported at now.\n",
      "Op Sequential is not supported at now.\n",
      "Op Sequential is not supported at now.\n",
      "Op Sequential is not supported at now.\n",
      "Op Sequential is not supported at now.\n",
      "Op Sequential is not supported at now.\n",
      "Op Sequential is not supported at now.\n",
      "Op Sequential is not supported at now.\n",
      "Op Sequential is not supported at now.\n"
     ]
    },
    {
     "name": "stderr",
     "output_type": "stream",
     "text": [
      "Test:  34%|███▍      | 54/157 [01:46<03:20,  1.95s/it]"
     ]
    },
    {
     "name": "stdout",
     "output_type": "stream",
     "text": [
      "Op Sequential is not supported at now.\n",
      "Op Sequential is not supported at now.\n",
      "Op Sequential is not supported at now.\n",
      "Op Sequential is not supported at now.\n",
      "Op Sequential is not supported at now.\n",
      "Op Sequential is not supported at now.\n",
      "Op Sequential is not supported at now.\n",
      "Op Sequential is not supported at now.\n",
      "Op Sequential is not supported at now.\n",
      "Op Sequential is not supported at now.\n",
      "Op Sequential is not supported at now.\n",
      "Op Sequential is not supported at now.\n",
      "Op Sequential is not supported at now.\n",
      "Op Sequential is not supported at now.\n",
      "Op Sequential is not supported at now.\n",
      "Op Sequential is not supported at now.\n",
      "Op Sequential is not supported at now.\n",
      "Op Sequential is not supported at now.\n",
      "Op Sequential is not supported at now.\n",
      "Op Sequential is not supported at now.\n"
     ]
    },
    {
     "name": "stderr",
     "output_type": "stream",
     "text": [
      "Test:  35%|███▌      | 55/157 [01:48<03:21,  1.97s/it]"
     ]
    },
    {
     "name": "stdout",
     "output_type": "stream",
     "text": [
      "Op Sequential is not supported at now.\n",
      "Op Sequential is not supported at now.\n",
      "Op Sequential is not supported at now.\n",
      "Op Sequential is not supported at now.\n",
      "Op Sequential is not supported at now.\n",
      "Op Sequential is not supported at now.\n",
      "Op Sequential is not supported at now.\n",
      "Op Sequential is not supported at now.\n",
      "Op Sequential is not supported at now.\n",
      "Op Sequential is not supported at now.\n",
      "Op Sequential is not supported at now.\n",
      "Op Sequential is not supported at now.\n",
      "Op Sequential is not supported at now.\n",
      "Op Sequential is not supported at now.\n",
      "Op Sequential is not supported at now.\n",
      "Op Sequential is not supported at now.\n",
      "Op Sequential is not supported at now.\n",
      "Op Sequential is not supported at now.\n",
      "Op Sequential is not supported at now.\n",
      "Op Sequential is not supported at now.\n"
     ]
    },
    {
     "name": "stderr",
     "output_type": "stream",
     "text": [
      "Test:  36%|███▌      | 56/157 [01:50<03:19,  1.98s/it]"
     ]
    },
    {
     "name": "stdout",
     "output_type": "stream",
     "text": [
      "Op Sequential is not supported at now.\n",
      "Op Sequential is not supported at now.\n",
      "Op Sequential is not supported at now.\n",
      "Op Sequential is not supported at now.\n",
      "Op Sequential is not supported at now.\n",
      "Op Sequential is not supported at now.\n",
      "Op Sequential is not supported at now.\n",
      "Op Sequential is not supported at now.\n",
      "Op Sequential is not supported at now.\n",
      "Op Sequential is not supported at now.\n",
      "Op Sequential is not supported at now.\n",
      "Op Sequential is not supported at now.\n",
      "Op Sequential is not supported at now.\n",
      "Op Sequential is not supported at now.\n",
      "Op Sequential is not supported at now.\n",
      "Op Sequential is not supported at now.\n",
      "Op Sequential is not supported at now.\n",
      "Op Sequential is not supported at now.\n",
      "Op Sequential is not supported at now.\n",
      "Op Sequential is not supported at now.\n"
     ]
    },
    {
     "name": "stderr",
     "output_type": "stream",
     "text": [
      "Test:  36%|███▋      | 57/157 [01:52<03:21,  2.01s/it]"
     ]
    },
    {
     "name": "stdout",
     "output_type": "stream",
     "text": [
      "Op Sequential is not supported at now.\n",
      "Op Sequential is not supported at now.\n",
      "Op Sequential is not supported at now.\n",
      "Op Sequential is not supported at now.\n",
      "Op Sequential is not supported at now.\n",
      "Op Sequential is not supported at now.\n",
      "Op Sequential is not supported at now.\n",
      "Op Sequential is not supported at now.\n",
      "Op Sequential is not supported at now.\n",
      "Op Sequential is not supported at now.\n",
      "Op Sequential is not supported at now.\n",
      "Op Sequential is not supported at now.\n",
      "Op Sequential is not supported at now.\n",
      "Op Sequential is not supported at now.\n",
      "Op Sequential is not supported at now.\n",
      "Op Sequential is not supported at now.\n",
      "Op Sequential is not supported at now.\n",
      "Op Sequential is not supported at now.\n",
      "Op Sequential is not supported at now.\n",
      "Op Sequential is not supported at now.\n"
     ]
    },
    {
     "name": "stderr",
     "output_type": "stream",
     "text": [
      "Test:  37%|███▋      | 58/157 [01:54<03:22,  2.04s/it]"
     ]
    },
    {
     "name": "stdout",
     "output_type": "stream",
     "text": [
      "Op Sequential is not supported at now.\n",
      "Op Sequential is not supported at now.\n",
      "Op Sequential is not supported at now.\n",
      "Op Sequential is not supported at now.\n",
      "Op Sequential is not supported at now.\n",
      "Op Sequential is not supported at now.\n",
      "Op Sequential is not supported at now.\n",
      "Op Sequential is not supported at now.\n",
      "Op Sequential is not supported at now.\n",
      "Op Sequential is not supported at now.\n",
      "Op Sequential is not supported at now.\n",
      "Op Sequential is not supported at now.\n",
      "Op Sequential is not supported at now.\n",
      "Op Sequential is not supported at now.\n",
      "Op Sequential is not supported at now.\n",
      "Op Sequential is not supported at now.\n",
      "Op Sequential is not supported at now.\n",
      "Op Sequential is not supported at now.\n",
      "Op Sequential is not supported at now.\n",
      "Op Sequential is not supported at now.\n"
     ]
    },
    {
     "name": "stderr",
     "output_type": "stream",
     "text": [
      "Test:  38%|███▊      | 59/157 [01:56<03:21,  2.05s/it]"
     ]
    },
    {
     "name": "stdout",
     "output_type": "stream",
     "text": [
      "Op Sequential is not supported at now.\n",
      "Op Sequential is not supported at now.\n",
      "Op Sequential is not supported at now.\n",
      "Op Sequential is not supported at now.\n",
      "Op Sequential is not supported at now.\n",
      "Op Sequential is not supported at now.\n",
      "Op Sequential is not supported at now.\n",
      "Op Sequential is not supported at now.\n",
      "Op Sequential is not supported at now.\n",
      "Op Sequential is not supported at now.\n",
      "Op Sequential is not supported at now.\n",
      "Op Sequential is not supported at now.\n",
      "Op Sequential is not supported at now.\n",
      "Op Sequential is not supported at now.\n",
      "Op Sequential is not supported at now.\n",
      "Op Sequential is not supported at now.\n",
      "Op Sequential is not supported at now.\n",
      "Op Sequential is not supported at now.\n",
      "Op Sequential is not supported at now.\n",
      "Op Sequential is not supported at now.\n"
     ]
    },
    {
     "name": "stderr",
     "output_type": "stream",
     "text": [
      "Test:  38%|███▊      | 60/157 [01:58<03:19,  2.05s/it]"
     ]
    },
    {
     "name": "stdout",
     "output_type": "stream",
     "text": [
      "Op Sequential is not supported at now.\n",
      "Op Sequential is not supported at now.\n",
      "Op Sequential is not supported at now.\n",
      "Op Sequential is not supported at now.\n",
      "Op Sequential is not supported at now.\n",
      "Op Sequential is not supported at now.\n",
      "Op Sequential is not supported at now.\n",
      "Op Sequential is not supported at now.\n",
      "Op Sequential is not supported at now.\n",
      "Op Sequential is not supported at now.\n",
      "Op Sequential is not supported at now.\n",
      "Op Sequential is not supported at now.\n",
      "Op Sequential is not supported at now.\n",
      "Op Sequential is not supported at now.\n",
      "Op Sequential is not supported at now.\n",
      "Op Sequential is not supported at now.\n",
      "Op Sequential is not supported at now.\n",
      "Op Sequential is not supported at now.\n",
      "Op Sequential is not supported at now.\n",
      "Op Sequential is not supported at now.\n"
     ]
    },
    {
     "name": "stderr",
     "output_type": "stream",
     "text": [
      "Test:  39%|███▉      | 61/157 [02:00<03:15,  2.04s/it]"
     ]
    },
    {
     "name": "stdout",
     "output_type": "stream",
     "text": [
      "Op Sequential is not supported at now.\n",
      "Op Sequential is not supported at now.\n",
      "Op Sequential is not supported at now.\n",
      "Op Sequential is not supported at now.\n",
      "Op Sequential is not supported at now.\n",
      "Op Sequential is not supported at now.\n",
      "Op Sequential is not supported at now.\n",
      "Op Sequential is not supported at now.\n",
      "Op Sequential is not supported at now.\n",
      "Op Sequential is not supported at now.\n",
      "Op Sequential is not supported at now.\n",
      "Op Sequential is not supported at now.\n",
      "Op Sequential is not supported at now.\n",
      "Op Sequential is not supported at now.\n",
      "Op Sequential is not supported at now.\n",
      "Op Sequential is not supported at now.\n",
      "Op Sequential is not supported at now.\n",
      "Op Sequential is not supported at now.\n",
      "Op Sequential is not supported at now.\n",
      "Op Sequential is not supported at now.\n"
     ]
    },
    {
     "name": "stderr",
     "output_type": "stream",
     "text": [
      "Test:  39%|███▉      | 62/157 [02:02<03:12,  2.03s/it]"
     ]
    },
    {
     "name": "stdout",
     "output_type": "stream",
     "text": [
      "Op Sequential is not supported at now.\n",
      "Op Sequential is not supported at now.\n",
      "Op Sequential is not supported at now.\n",
      "Op Sequential is not supported at now.\n",
      "Op Sequential is not supported at now.\n",
      "Op Sequential is not supported at now.\n",
      "Op Sequential is not supported at now.\n",
      "Op Sequential is not supported at now.\n",
      "Op Sequential is not supported at now.\n",
      "Op Sequential is not supported at now.\n",
      "Op Sequential is not supported at now.\n",
      "Op Sequential is not supported at now.\n",
      "Op Sequential is not supported at now.\n",
      "Op Sequential is not supported at now.\n",
      "Op Sequential is not supported at now.\n",
      "Op Sequential is not supported at now.\n",
      "Op Sequential is not supported at now.\n",
      "Op Sequential is not supported at now.\n",
      "Op Sequential is not supported at now.\n",
      "Op Sequential is not supported at now.\n"
     ]
    },
    {
     "name": "stderr",
     "output_type": "stream",
     "text": [
      "Test:  40%|████      | 63/157 [02:04<03:13,  2.06s/it]"
     ]
    },
    {
     "name": "stdout",
     "output_type": "stream",
     "text": [
      "Op Sequential is not supported at now.\n",
      "Op Sequential is not supported at now.\n",
      "Op Sequential is not supported at now.\n",
      "Op Sequential is not supported at now.\n",
      "Op Sequential is not supported at now.\n",
      "Op Sequential is not supported at now.\n",
      "Op Sequential is not supported at now.\n",
      "Op Sequential is not supported at now.\n",
      "Op Sequential is not supported at now.\n",
      "Op Sequential is not supported at now.\n",
      "Op Sequential is not supported at now.\n",
      "Op Sequential is not supported at now.\n",
      "Op Sequential is not supported at now.\n",
      "Op Sequential is not supported at now.\n",
      "Op Sequential is not supported at now.\n",
      "Op Sequential is not supported at now.\n",
      "Op Sequential is not supported at now.\n",
      "Op Sequential is not supported at now.\n",
      "Op Sequential is not supported at now.\n",
      "Op Sequential is not supported at now.\n"
     ]
    },
    {
     "name": "stderr",
     "output_type": "stream",
     "text": [
      "Test:  41%|████      | 64/157 [02:07<03:13,  2.08s/it]"
     ]
    },
    {
     "name": "stdout",
     "output_type": "stream",
     "text": [
      "Op Sequential is not supported at now.\n",
      "Op Sequential is not supported at now.\n",
      "Op Sequential is not supported at now.\n",
      "Op Sequential is not supported at now.\n",
      "Op Sequential is not supported at now.\n",
      "Op Sequential is not supported at now.\n",
      "Op Sequential is not supported at now.\n",
      "Op Sequential is not supported at now.\n",
      "Op Sequential is not supported at now.\n",
      "Op Sequential is not supported at now.\n",
      "Op Sequential is not supported at now.\n",
      "Op Sequential is not supported at now.\n",
      "Op Sequential is not supported at now.\n",
      "Op Sequential is not supported at now.\n",
      "Op Sequential is not supported at now.\n",
      "Op Sequential is not supported at now.\n",
      "Op Sequential is not supported at now.\n",
      "Op Sequential is not supported at now.\n",
      "Op Sequential is not supported at now.\n",
      "Op Sequential is not supported at now.\n"
     ]
    },
    {
     "name": "stderr",
     "output_type": "stream",
     "text": [
      "Test:  41%|████▏     | 65/157 [02:09<03:10,  2.07s/it]"
     ]
    },
    {
     "name": "stdout",
     "output_type": "stream",
     "text": [
      "Op Sequential is not supported at now.\n",
      "Op Sequential is not supported at now.\n",
      "Op Sequential is not supported at now.\n",
      "Op Sequential is not supported at now.\n",
      "Op Sequential is not supported at now.\n",
      "Op Sequential is not supported at now.\n",
      "Op Sequential is not supported at now.\n",
      "Op Sequential is not supported at now.\n",
      "Op Sequential is not supported at now.\n",
      "Op Sequential is not supported at now.\n",
      "Op Sequential is not supported at now.\n",
      "Op Sequential is not supported at now.\n",
      "Op Sequential is not supported at now.\n",
      "Op Sequential is not supported at now.\n",
      "Op Sequential is not supported at now.\n",
      "Op Sequential is not supported at now.\n",
      "Op Sequential is not supported at now.\n",
      "Op Sequential is not supported at now.\n",
      "Op Sequential is not supported at now.\n",
      "Op Sequential is not supported at now.\n"
     ]
    },
    {
     "name": "stderr",
     "output_type": "stream",
     "text": [
      "Test:  42%|████▏     | 66/157 [02:11<03:07,  2.06s/it]"
     ]
    },
    {
     "name": "stdout",
     "output_type": "stream",
     "text": [
      "Op Sequential is not supported at now.\n",
      "Op Sequential is not supported at now.\n",
      "Op Sequential is not supported at now.\n",
      "Op Sequential is not supported at now.\n",
      "Op Sequential is not supported at now.\n",
      "Op Sequential is not supported at now.\n",
      "Op Sequential is not supported at now.\n",
      "Op Sequential is not supported at now.\n",
      "Op Sequential is not supported at now.\n",
      "Op Sequential is not supported at now.\n",
      "Op Sequential is not supported at now.\n",
      "Op Sequential is not supported at now.\n",
      "Op Sequential is not supported at now.\n",
      "Op Sequential is not supported at now.\n",
      "Op Sequential is not supported at now.\n",
      "Op Sequential is not supported at now.\n",
      "Op Sequential is not supported at now.\n",
      "Op Sequential is not supported at now.\n",
      "Op Sequential is not supported at now.\n",
      "Op Sequential is not supported at now.\n"
     ]
    },
    {
     "name": "stderr",
     "output_type": "stream",
     "text": [
      "Test:  43%|████▎     | 67/157 [02:13<03:02,  2.03s/it]"
     ]
    },
    {
     "name": "stdout",
     "output_type": "stream",
     "text": [
      "Op Sequential is not supported at now.\n",
      "Op Sequential is not supported at now.\n",
      "Op Sequential is not supported at now.\n",
      "Op Sequential is not supported at now.\n",
      "Op Sequential is not supported at now.\n",
      "Op Sequential is not supported at now.\n",
      "Op Sequential is not supported at now.\n",
      "Op Sequential is not supported at now.\n",
      "Op Sequential is not supported at now.\n",
      "Op Sequential is not supported at now.\n",
      "Op Sequential is not supported at now.\n",
      "Op Sequential is not supported at now.\n",
      "Op Sequential is not supported at now.\n",
      "Op Sequential is not supported at now.\n",
      "Op Sequential is not supported at now.\n",
      "Op Sequential is not supported at now.\n",
      "Op Sequential is not supported at now.\n",
      "Op Sequential is not supported at now.\n",
      "Op Sequential is not supported at now.\n",
      "Op Sequential is not supported at now.\n"
     ]
    },
    {
     "name": "stderr",
     "output_type": "stream",
     "text": [
      "Test:  43%|████▎     | 68/157 [02:15<02:58,  2.01s/it]"
     ]
    },
    {
     "name": "stdout",
     "output_type": "stream",
     "text": [
      "Op Sequential is not supported at now.\n",
      "Op Sequential is not supported at now.\n",
      "Op Sequential is not supported at now.\n",
      "Op Sequential is not supported at now.\n",
      "Op Sequential is not supported at now.\n",
      "Op Sequential is not supported at now.\n",
      "Op Sequential is not supported at now.\n",
      "Op Sequential is not supported at now.\n",
      "Op Sequential is not supported at now.\n",
      "Op Sequential is not supported at now.\n",
      "Op Sequential is not supported at now.\n",
      "Op Sequential is not supported at now.\n",
      "Op Sequential is not supported at now.\n",
      "Op Sequential is not supported at now.\n",
      "Op Sequential is not supported at now.\n",
      "Op Sequential is not supported at now.\n",
      "Op Sequential is not supported at now.\n",
      "Op Sequential is not supported at now.\n",
      "Op Sequential is not supported at now.\n",
      "Op Sequential is not supported at now.\n"
     ]
    },
    {
     "name": "stderr",
     "output_type": "stream",
     "text": [
      "Test:  44%|████▍     | 69/157 [02:16<02:54,  1.99s/it]"
     ]
    },
    {
     "name": "stdout",
     "output_type": "stream",
     "text": [
      "Op Sequential is not supported at now.\n",
      "Op Sequential is not supported at now.\n",
      "Op Sequential is not supported at now.\n",
      "Op Sequential is not supported at now.\n",
      "Op Sequential is not supported at now.\n",
      "Op Sequential is not supported at now.\n",
      "Op Sequential is not supported at now.\n",
      "Op Sequential is not supported at now.\n",
      "Op Sequential is not supported at now.\n",
      "Op Sequential is not supported at now.\n",
      "Op Sequential is not supported at now.\n",
      "Op Sequential is not supported at now.\n",
      "Op Sequential is not supported at now.\n",
      "Op Sequential is not supported at now.\n",
      "Op Sequential is not supported at now.\n",
      "Op Sequential is not supported at now.\n",
      "Op Sequential is not supported at now.\n",
      "Op Sequential is not supported at now.\n",
      "Op Sequential is not supported at now.\n",
      "Op Sequential is not supported at now.\n"
     ]
    },
    {
     "name": "stderr",
     "output_type": "stream",
     "text": [
      "Test:  45%|████▍     | 70/157 [02:18<02:51,  1.97s/it]"
     ]
    },
    {
     "name": "stdout",
     "output_type": "stream",
     "text": [
      "Op Sequential is not supported at now.\n",
      "Op Sequential is not supported at now.\n",
      "Op Sequential is not supported at now.\n",
      "Op Sequential is not supported at now.\n",
      "Op Sequential is not supported at now.\n",
      "Op Sequential is not supported at now.\n",
      "Op Sequential is not supported at now.\n",
      "Op Sequential is not supported at now.\n",
      "Op Sequential is not supported at now.\n",
      "Op Sequential is not supported at now.\n",
      "Op Sequential is not supported at now.\n",
      "Op Sequential is not supported at now.\n",
      "Op Sequential is not supported at now.\n",
      "Op Sequential is not supported at now.\n",
      "Op Sequential is not supported at now.\n",
      "Op Sequential is not supported at now.\n",
      "Op Sequential is not supported at now.\n",
      "Op Sequential is not supported at now.\n",
      "Op Sequential is not supported at now.\n",
      "Op Sequential is not supported at now.\n"
     ]
    },
    {
     "name": "stderr",
     "output_type": "stream",
     "text": [
      "Test:  45%|████▌     | 71/157 [02:20<02:51,  2.00s/it]"
     ]
    },
    {
     "name": "stdout",
     "output_type": "stream",
     "text": [
      "Op Sequential is not supported at now.\n",
      "Op Sequential is not supported at now.\n",
      "Op Sequential is not supported at now.\n",
      "Op Sequential is not supported at now.\n",
      "Op Sequential is not supported at now.\n",
      "Op Sequential is not supported at now.\n",
      "Op Sequential is not supported at now.\n",
      "Op Sequential is not supported at now.\n",
      "Op Sequential is not supported at now.\n",
      "Op Sequential is not supported at now.\n",
      "Op Sequential is not supported at now.\n",
      "Op Sequential is not supported at now.\n",
      "Op Sequential is not supported at now.\n",
      "Op Sequential is not supported at now.\n",
      "Op Sequential is not supported at now.\n",
      "Op Sequential is not supported at now.\n",
      "Op Sequential is not supported at now.\n",
      "Op Sequential is not supported at now.\n",
      "Op Sequential is not supported at now.\n",
      "Op Sequential is not supported at now.\n"
     ]
    },
    {
     "name": "stderr",
     "output_type": "stream",
     "text": [
      "Test:  46%|████▌     | 72/157 [02:23<02:51,  2.02s/it]"
     ]
    },
    {
     "name": "stdout",
     "output_type": "stream",
     "text": [
      "Op Sequential is not supported at now.\n",
      "Op Sequential is not supported at now.\n",
      "Op Sequential is not supported at now.\n",
      "Op Sequential is not supported at now.\n",
      "Op Sequential is not supported at now.\n",
      "Op Sequential is not supported at now.\n",
      "Op Sequential is not supported at now.\n",
      "Op Sequential is not supported at now.\n",
      "Op Sequential is not supported at now.\n",
      "Op Sequential is not supported at now.\n",
      "Op Sequential is not supported at now.\n",
      "Op Sequential is not supported at now.\n",
      "Op Sequential is not supported at now.\n",
      "Op Sequential is not supported at now.\n",
      "Op Sequential is not supported at now.\n",
      "Op Sequential is not supported at now.\n",
      "Op Sequential is not supported at now.\n",
      "Op Sequential is not supported at now.\n",
      "Op Sequential is not supported at now.\n",
      "Op Sequential is not supported at now.\n"
     ]
    },
    {
     "name": "stderr",
     "output_type": "stream",
     "text": [
      "Test:  46%|████▋     | 73/157 [02:25<02:53,  2.07s/it]"
     ]
    },
    {
     "name": "stdout",
     "output_type": "stream",
     "text": [
      "Op Sequential is not supported at now.\n",
      "Op Sequential is not supported at now.\n",
      "Op Sequential is not supported at now.\n",
      "Op Sequential is not supported at now.\n",
      "Op Sequential is not supported at now.\n",
      "Op Sequential is not supported at now.\n",
      "Op Sequential is not supported at now.\n",
      "Op Sequential is not supported at now.\n",
      "Op Sequential is not supported at now.\n",
      "Op Sequential is not supported at now.\n",
      "Op Sequential is not supported at now.\n",
      "Op Sequential is not supported at now.\n",
      "Op Sequential is not supported at now.\n",
      "Op Sequential is not supported at now.\n",
      "Op Sequential is not supported at now.\n",
      "Op Sequential is not supported at now.\n",
      "Op Sequential is not supported at now.\n",
      "Op Sequential is not supported at now.\n",
      "Op Sequential is not supported at now.\n",
      "Op Sequential is not supported at now.\n"
     ]
    },
    {
     "name": "stderr",
     "output_type": "stream",
     "text": [
      "Test:  47%|████▋     | 74/157 [02:27<02:51,  2.07s/it]"
     ]
    },
    {
     "name": "stdout",
     "output_type": "stream",
     "text": [
      "Op Sequential is not supported at now.\n",
      "Op Sequential is not supported at now.\n",
      "Op Sequential is not supported at now.\n",
      "Op Sequential is not supported at now.\n",
      "Op Sequential is not supported at now.\n",
      "Op Sequential is not supported at now.\n",
      "Op Sequential is not supported at now.\n",
      "Op Sequential is not supported at now.\n",
      "Op Sequential is not supported at now.\n",
      "Op Sequential is not supported at now.\n",
      "Op Sequential is not supported at now.\n",
      "Op Sequential is not supported at now.\n",
      "Op Sequential is not supported at now.\n",
      "Op Sequential is not supported at now.\n",
      "Op Sequential is not supported at now.\n",
      "Op Sequential is not supported at now.\n",
      "Op Sequential is not supported at now.\n",
      "Op Sequential is not supported at now.\n",
      "Op Sequential is not supported at now.\n",
      "Op Sequential is not supported at now.\n"
     ]
    },
    {
     "name": "stderr",
     "output_type": "stream",
     "text": [
      "Test:  48%|████▊     | 75/157 [02:29<02:46,  2.03s/it]"
     ]
    },
    {
     "name": "stdout",
     "output_type": "stream",
     "text": [
      "Op Sequential is not supported at now.\n",
      "Op Sequential is not supported at now.\n",
      "Op Sequential is not supported at now.\n",
      "Op Sequential is not supported at now.\n",
      "Op Sequential is not supported at now.\n",
      "Op Sequential is not supported at now.\n",
      "Op Sequential is not supported at now.\n",
      "Op Sequential is not supported at now.\n",
      "Op Sequential is not supported at now.\n",
      "Op Sequential is not supported at now.\n",
      "Op Sequential is not supported at now.\n",
      "Op Sequential is not supported at now.\n",
      "Op Sequential is not supported at now.\n",
      "Op Sequential is not supported at now.\n",
      "Op Sequential is not supported at now.\n",
      "Op Sequential is not supported at now.\n",
      "Op Sequential is not supported at now.\n",
      "Op Sequential is not supported at now.\n",
      "Op Sequential is not supported at now.\n",
      "Op Sequential is not supported at now.\n"
     ]
    },
    {
     "name": "stderr",
     "output_type": "stream",
     "text": [
      "Test:  48%|████▊     | 76/157 [02:31<02:42,  2.01s/it]"
     ]
    },
    {
     "name": "stdout",
     "output_type": "stream",
     "text": [
      "Op Sequential is not supported at now.\n",
      "Op Sequential is not supported at now.\n",
      "Op Sequential is not supported at now.\n",
      "Op Sequential is not supported at now.\n",
      "Op Sequential is not supported at now.\n",
      "Op Sequential is not supported at now.\n",
      "Op Sequential is not supported at now.\n",
      "Op Sequential is not supported at now.\n",
      "Op Sequential is not supported at now.\n",
      "Op Sequential is not supported at now.\n",
      "Op Sequential is not supported at now.\n",
      "Op Sequential is not supported at now.\n",
      "Op Sequential is not supported at now.\n",
      "Op Sequential is not supported at now.\n",
      "Op Sequential is not supported at now.\n",
      "Op Sequential is not supported at now.\n",
      "Op Sequential is not supported at now.\n",
      "Op Sequential is not supported at now.\n",
      "Op Sequential is not supported at now.\n",
      "Op Sequential is not supported at now.\n"
     ]
    },
    {
     "name": "stderr",
     "output_type": "stream",
     "text": [
      "Test:  49%|████▉     | 77/157 [02:33<02:38,  1.98s/it]"
     ]
    },
    {
     "name": "stdout",
     "output_type": "stream",
     "text": [
      "Op Sequential is not supported at now.\n",
      "Op Sequential is not supported at now.\n",
      "Op Sequential is not supported at now.\n",
      "Op Sequential is not supported at now.\n",
      "Op Sequential is not supported at now.\n",
      "Op Sequential is not supported at now.\n",
      "Op Sequential is not supported at now.\n",
      "Op Sequential is not supported at now.\n",
      "Op Sequential is not supported at now.\n",
      "Op Sequential is not supported at now.\n",
      "Op Sequential is not supported at now.\n",
      "Op Sequential is not supported at now.\n",
      "Op Sequential is not supported at now.\n",
      "Op Sequential is not supported at now.\n",
      "Op Sequential is not supported at now.\n",
      "Op Sequential is not supported at now.\n",
      "Op Sequential is not supported at now.\n",
      "Op Sequential is not supported at now.\n",
      "Op Sequential is not supported at now.\n",
      "Op Sequential is not supported at now.\n"
     ]
    },
    {
     "name": "stderr",
     "output_type": "stream",
     "text": [
      "Test:  50%|████▉     | 78/157 [02:35<02:37,  2.00s/it]"
     ]
    },
    {
     "name": "stdout",
     "output_type": "stream",
     "text": [
      "Op Sequential is not supported at now.\n",
      "Op Sequential is not supported at now.\n",
      "Op Sequential is not supported at now.\n",
      "Op Sequential is not supported at now.\n",
      "Op Sequential is not supported at now.\n",
      "Op Sequential is not supported at now.\n",
      "Op Sequential is not supported at now.\n",
      "Op Sequential is not supported at now.\n",
      "Op Sequential is not supported at now.\n",
      "Op Sequential is not supported at now.\n",
      "Op Sequential is not supported at now.\n",
      "Op Sequential is not supported at now.\n",
      "Op Sequential is not supported at now.\n",
      "Op Sequential is not supported at now.\n",
      "Op Sequential is not supported at now.\n",
      "Op Sequential is not supported at now.\n",
      "Op Sequential is not supported at now.\n",
      "Op Sequential is not supported at now.\n",
      "Op Sequential is not supported at now.\n",
      "Op Sequential is not supported at now.\n"
     ]
    },
    {
     "name": "stderr",
     "output_type": "stream",
     "text": [
      "Test:  50%|█████     | 79/157 [02:37<02:35,  1.99s/it]"
     ]
    },
    {
     "name": "stdout",
     "output_type": "stream",
     "text": [
      "Op Sequential is not supported at now.\n",
      "Op Sequential is not supported at now.\n",
      "Op Sequential is not supported at now.\n",
      "Op Sequential is not supported at now.\n",
      "Op Sequential is not supported at now.\n",
      "Op Sequential is not supported at now.\n",
      "Op Sequential is not supported at now.\n",
      "Op Sequential is not supported at now.\n",
      "Op Sequential is not supported at now.\n",
      "Op Sequential is not supported at now.\n",
      "Op Sequential is not supported at now.\n",
      "Op Sequential is not supported at now.\n",
      "Op Sequential is not supported at now.\n",
      "Op Sequential is not supported at now.\n",
      "Op Sequential is not supported at now.\n",
      "Op Sequential is not supported at now.\n",
      "Op Sequential is not supported at now.\n",
      "Op Sequential is not supported at now.\n",
      "Op Sequential is not supported at now.\n",
      "Op Sequential is not supported at now.\n"
     ]
    },
    {
     "name": "stderr",
     "output_type": "stream",
     "text": [
      "Test:  51%|█████     | 80/157 [02:39<02:32,  1.98s/it]"
     ]
    },
    {
     "name": "stdout",
     "output_type": "stream",
     "text": [
      "Op Sequential is not supported at now.\n",
      "Op Sequential is not supported at now.\n",
      "Op Sequential is not supported at now.\n",
      "Op Sequential is not supported at now.\n",
      "Op Sequential is not supported at now.\n",
      "Op Sequential is not supported at now.\n",
      "Op Sequential is not supported at now.\n",
      "Op Sequential is not supported at now.\n",
      "Op Sequential is not supported at now.\n",
      "Op Sequential is not supported at now.\n",
      "Op Sequential is not supported at now.\n",
      "Op Sequential is not supported at now.\n",
      "Op Sequential is not supported at now.\n",
      "Op Sequential is not supported at now.\n",
      "Op Sequential is not supported at now.\n",
      "Op Sequential is not supported at now.\n",
      "Op Sequential is not supported at now.\n",
      "Op Sequential is not supported at now.\n",
      "Op Sequential is not supported at now.\n",
      "Op Sequential is not supported at now.\n"
     ]
    },
    {
     "name": "stderr",
     "output_type": "stream",
     "text": [
      "Test:  52%|█████▏    | 81/157 [02:41<02:29,  1.97s/it]"
     ]
    },
    {
     "name": "stdout",
     "output_type": "stream",
     "text": [
      "Op Sequential is not supported at now.\n",
      "Op Sequential is not supported at now.\n",
      "Op Sequential is not supported at now.\n",
      "Op Sequential is not supported at now.\n",
      "Op Sequential is not supported at now.\n",
      "Op Sequential is not supported at now.\n",
      "Op Sequential is not supported at now.\n",
      "Op Sequential is not supported at now.\n",
      "Op Sequential is not supported at now.\n",
      "Op Sequential is not supported at now.\n",
      "Op Sequential is not supported at now.\n",
      "Op Sequential is not supported at now.\n",
      "Op Sequential is not supported at now.\n",
      "Op Sequential is not supported at now.\n",
      "Op Sequential is not supported at now.\n",
      "Op Sequential is not supported at now.\n",
      "Op Sequential is not supported at now.\n",
      "Op Sequential is not supported at now.\n",
      "Op Sequential is not supported at now.\n",
      "Op Sequential is not supported at now.\n"
     ]
    },
    {
     "name": "stderr",
     "output_type": "stream",
     "text": [
      "Test:  52%|█████▏    | 82/157 [02:42<02:26,  1.96s/it]"
     ]
    },
    {
     "name": "stdout",
     "output_type": "stream",
     "text": [
      "Op Sequential is not supported at now.\n",
      "Op Sequential is not supported at now.\n",
      "Op Sequential is not supported at now.\n",
      "Op Sequential is not supported at now.\n",
      "Op Sequential is not supported at now.\n",
      "Op Sequential is not supported at now.\n",
      "Op Sequential is not supported at now.\n",
      "Op Sequential is not supported at now.\n",
      "Op Sequential is not supported at now.\n",
      "Op Sequential is not supported at now.\n",
      "Op Sequential is not supported at now.\n",
      "Op Sequential is not supported at now.\n",
      "Op Sequential is not supported at now.\n",
      "Op Sequential is not supported at now.\n",
      "Op Sequential is not supported at now.\n",
      "Op Sequential is not supported at now.\n",
      "Op Sequential is not supported at now.\n",
      "Op Sequential is not supported at now.\n",
      "Op Sequential is not supported at now.\n",
      "Op Sequential is not supported at now.\n"
     ]
    },
    {
     "name": "stderr",
     "output_type": "stream",
     "text": [
      "Test:  53%|█████▎    | 83/157 [02:44<02:24,  1.96s/it]"
     ]
    },
    {
     "name": "stdout",
     "output_type": "stream",
     "text": [
      "Op Sequential is not supported at now.\n",
      "Op Sequential is not supported at now.\n",
      "Op Sequential is not supported at now.\n",
      "Op Sequential is not supported at now.\n",
      "Op Sequential is not supported at now.\n",
      "Op Sequential is not supported at now.\n",
      "Op Sequential is not supported at now.\n",
      "Op Sequential is not supported at now.\n",
      "Op Sequential is not supported at now.\n",
      "Op Sequential is not supported at now.\n",
      "Op Sequential is not supported at now.\n",
      "Op Sequential is not supported at now.\n",
      "Op Sequential is not supported at now.\n",
      "Op Sequential is not supported at now.\n",
      "Op Sequential is not supported at now.\n",
      "Op Sequential is not supported at now.\n",
      "Op Sequential is not supported at now.\n",
      "Op Sequential is not supported at now.\n",
      "Op Sequential is not supported at now.\n",
      "Op Sequential is not supported at now.\n"
     ]
    },
    {
     "name": "stderr",
     "output_type": "stream",
     "text": [
      "Test:  54%|█████▎    | 84/157 [02:46<02:22,  1.96s/it]"
     ]
    },
    {
     "name": "stdout",
     "output_type": "stream",
     "text": [
      "Op Sequential is not supported at now.\n",
      "Op Sequential is not supported at now.\n",
      "Op Sequential is not supported at now.\n",
      "Op Sequential is not supported at now.\n",
      "Op Sequential is not supported at now.\n",
      "Op Sequential is not supported at now.\n",
      "Op Sequential is not supported at now.\n",
      "Op Sequential is not supported at now.\n",
      "Op Sequential is not supported at now.\n",
      "Op Sequential is not supported at now.\n",
      "Op Sequential is not supported at now.\n",
      "Op Sequential is not supported at now.\n",
      "Op Sequential is not supported at now.\n",
      "Op Sequential is not supported at now.\n",
      "Op Sequential is not supported at now.\n",
      "Op Sequential is not supported at now.\n",
      "Op Sequential is not supported at now.\n",
      "Op Sequential is not supported at now.\n",
      "Op Sequential is not supported at now.\n",
      "Op Sequential is not supported at now.\n"
     ]
    },
    {
     "name": "stderr",
     "output_type": "stream",
     "text": [
      "Test:  54%|█████▍    | 85/157 [02:48<02:20,  1.95s/it]"
     ]
    },
    {
     "name": "stdout",
     "output_type": "stream",
     "text": [
      "Op Sequential is not supported at now.\n",
      "Op Sequential is not supported at now.\n",
      "Op Sequential is not supported at now.\n",
      "Op Sequential is not supported at now.\n",
      "Op Sequential is not supported at now.\n",
      "Op Sequential is not supported at now.\n",
      "Op Sequential is not supported at now.\n",
      "Op Sequential is not supported at now.\n",
      "Op Sequential is not supported at now.\n",
      "Op Sequential is not supported at now.\n",
      "Op Sequential is not supported at now.\n",
      "Op Sequential is not supported at now.\n",
      "Op Sequential is not supported at now.\n",
      "Op Sequential is not supported at now.\n",
      "Op Sequential is not supported at now.\n",
      "Op Sequential is not supported at now.\n",
      "Op Sequential is not supported at now.\n",
      "Op Sequential is not supported at now.\n",
      "Op Sequential is not supported at now.\n",
      "Op Sequential is not supported at now.\n"
     ]
    },
    {
     "name": "stderr",
     "output_type": "stream",
     "text": [
      "Test:  55%|█████▍    | 86/157 [02:50<02:19,  1.97s/it]"
     ]
    },
    {
     "name": "stdout",
     "output_type": "stream",
     "text": [
      "Op Sequential is not supported at now.\n",
      "Op Sequential is not supported at now.\n",
      "Op Sequential is not supported at now.\n",
      "Op Sequential is not supported at now.\n",
      "Op Sequential is not supported at now.\n",
      "Op Sequential is not supported at now.\n",
      "Op Sequential is not supported at now.\n",
      "Op Sequential is not supported at now.\n",
      "Op Sequential is not supported at now.\n",
      "Op Sequential is not supported at now.\n",
      "Op Sequential is not supported at now.\n",
      "Op Sequential is not supported at now.\n",
      "Op Sequential is not supported at now.\n",
      "Op Sequential is not supported at now.\n",
      "Op Sequential is not supported at now.\n",
      "Op Sequential is not supported at now.\n",
      "Op Sequential is not supported at now.\n",
      "Op Sequential is not supported at now.\n",
      "Op Sequential is not supported at now.\n",
      "Op Sequential is not supported at now.\n"
     ]
    },
    {
     "name": "stderr",
     "output_type": "stream",
     "text": [
      "Test:  55%|█████▌    | 87/157 [02:52<02:17,  1.96s/it]"
     ]
    },
    {
     "name": "stdout",
     "output_type": "stream",
     "text": [
      "Op Sequential is not supported at now.\n",
      "Op Sequential is not supported at now.\n",
      "Op Sequential is not supported at now.\n",
      "Op Sequential is not supported at now.\n",
      "Op Sequential is not supported at now.\n",
      "Op Sequential is not supported at now.\n",
      "Op Sequential is not supported at now.\n",
      "Op Sequential is not supported at now.\n",
      "Op Sequential is not supported at now.\n",
      "Op Sequential is not supported at now.\n",
      "Op Sequential is not supported at now.\n",
      "Op Sequential is not supported at now.\n",
      "Op Sequential is not supported at now.\n",
      "Op Sequential is not supported at now.\n",
      "Op Sequential is not supported at now.\n",
      "Op Sequential is not supported at now.\n",
      "Op Sequential is not supported at now.\n",
      "Op Sequential is not supported at now.\n",
      "Op Sequential is not supported at now.\n",
      "Op Sequential is not supported at now.\n"
     ]
    },
    {
     "name": "stderr",
     "output_type": "stream",
     "text": [
      "Test:  56%|█████▌    | 88/157 [02:54<02:14,  1.95s/it]"
     ]
    },
    {
     "name": "stdout",
     "output_type": "stream",
     "text": [
      "Op Sequential is not supported at now.\n",
      "Op Sequential is not supported at now.\n",
      "Op Sequential is not supported at now.\n",
      "Op Sequential is not supported at now.\n",
      "Op Sequential is not supported at now.\n",
      "Op Sequential is not supported at now.\n",
      "Op Sequential is not supported at now.\n",
      "Op Sequential is not supported at now.\n",
      "Op Sequential is not supported at now.\n",
      "Op Sequential is not supported at now.\n",
      "Op Sequential is not supported at now.\n",
      "Op Sequential is not supported at now.\n",
      "Op Sequential is not supported at now.\n",
      "Op Sequential is not supported at now.\n",
      "Op Sequential is not supported at now.\n",
      "Op Sequential is not supported at now.\n",
      "Op Sequential is not supported at now.\n",
      "Op Sequential is not supported at now.\n",
      "Op Sequential is not supported at now.\n",
      "Op Sequential is not supported at now.\n"
     ]
    },
    {
     "name": "stderr",
     "output_type": "stream",
     "text": [
      "Test:  57%|█████▋    | 89/157 [02:56<02:11,  1.94s/it]"
     ]
    },
    {
     "name": "stdout",
     "output_type": "stream",
     "text": [
      "Op Sequential is not supported at now.\n",
      "Op Sequential is not supported at now.\n",
      "Op Sequential is not supported at now.\n",
      "Op Sequential is not supported at now.\n",
      "Op Sequential is not supported at now.\n",
      "Op Sequential is not supported at now.\n",
      "Op Sequential is not supported at now.\n",
      "Op Sequential is not supported at now.\n",
      "Op Sequential is not supported at now.\n",
      "Op Sequential is not supported at now.\n",
      "Op Sequential is not supported at now.\n",
      "Op Sequential is not supported at now.\n",
      "Op Sequential is not supported at now.\n",
      "Op Sequential is not supported at now.\n",
      "Op Sequential is not supported at now.\n",
      "Op Sequential is not supported at now.\n",
      "Op Sequential is not supported at now.\n",
      "Op Sequential is not supported at now.\n",
      "Op Sequential is not supported at now.\n",
      "Op Sequential is not supported at now.\n"
     ]
    },
    {
     "name": "stderr",
     "output_type": "stream",
     "text": [
      "Test:  57%|█████▋    | 90/157 [02:58<02:09,  1.93s/it]"
     ]
    },
    {
     "name": "stdout",
     "output_type": "stream",
     "text": [
      "Op Sequential is not supported at now.\n",
      "Op Sequential is not supported at now.\n",
      "Op Sequential is not supported at now.\n",
      "Op Sequential is not supported at now.\n",
      "Op Sequential is not supported at now.\n",
      "Op Sequential is not supported at now.\n",
      "Op Sequential is not supported at now.\n",
      "Op Sequential is not supported at now.\n",
      "Op Sequential is not supported at now.\n",
      "Op Sequential is not supported at now.\n",
      "Op Sequential is not supported at now.\n",
      "Op Sequential is not supported at now.\n",
      "Op Sequential is not supported at now.\n",
      "Op Sequential is not supported at now.\n",
      "Op Sequential is not supported at now.\n",
      "Op Sequential is not supported at now.\n",
      "Op Sequential is not supported at now.\n",
      "Op Sequential is not supported at now.\n",
      "Op Sequential is not supported at now.\n",
      "Op Sequential is not supported at now.\n"
     ]
    },
    {
     "name": "stderr",
     "output_type": "stream",
     "text": [
      "Test:  58%|█████▊    | 91/157 [03:00<02:06,  1.92s/it]"
     ]
    },
    {
     "name": "stdout",
     "output_type": "stream",
     "text": [
      "Op Sequential is not supported at now.\n",
      "Op Sequential is not supported at now.\n",
      "Op Sequential is not supported at now.\n",
      "Op Sequential is not supported at now.\n",
      "Op Sequential is not supported at now.\n",
      "Op Sequential is not supported at now.\n",
      "Op Sequential is not supported at now.\n",
      "Op Sequential is not supported at now.\n",
      "Op Sequential is not supported at now.\n",
      "Op Sequential is not supported at now.\n",
      "Op Sequential is not supported at now.\n",
      "Op Sequential is not supported at now.\n",
      "Op Sequential is not supported at now.\n",
      "Op Sequential is not supported at now.\n",
      "Op Sequential is not supported at now.\n",
      "Op Sequential is not supported at now.\n",
      "Op Sequential is not supported at now.\n",
      "Op Sequential is not supported at now.\n",
      "Op Sequential is not supported at now.\n",
      "Op Sequential is not supported at now.\n"
     ]
    },
    {
     "name": "stderr",
     "output_type": "stream",
     "text": [
      "Test:  59%|█████▊    | 92/157 [03:02<02:05,  1.92s/it]"
     ]
    },
    {
     "name": "stdout",
     "output_type": "stream",
     "text": [
      "Op Sequential is not supported at now.\n",
      "Op Sequential is not supported at now.\n",
      "Op Sequential is not supported at now.\n",
      "Op Sequential is not supported at now.\n",
      "Op Sequential is not supported at now.\n",
      "Op Sequential is not supported at now.\n",
      "Op Sequential is not supported at now.\n",
      "Op Sequential is not supported at now.\n",
      "Op Sequential is not supported at now.\n",
      "Op Sequential is not supported at now.\n",
      "Op Sequential is not supported at now.\n",
      "Op Sequential is not supported at now.\n",
      "Op Sequential is not supported at now.\n",
      "Op Sequential is not supported at now.\n",
      "Op Sequential is not supported at now.\n",
      "Op Sequential is not supported at now.\n",
      "Op Sequential is not supported at now.\n",
      "Op Sequential is not supported at now.\n",
      "Op Sequential is not supported at now.\n",
      "Op Sequential is not supported at now.\n"
     ]
    },
    {
     "name": "stderr",
     "output_type": "stream",
     "text": [
      "Test:  59%|█████▉    | 93/157 [03:04<02:03,  1.93s/it]"
     ]
    },
    {
     "name": "stdout",
     "output_type": "stream",
     "text": [
      "Op Sequential is not supported at now.\n",
      "Op Sequential is not supported at now.\n",
      "Op Sequential is not supported at now.\n",
      "Op Sequential is not supported at now.\n",
      "Op Sequential is not supported at now.\n",
      "Op Sequential is not supported at now.\n",
      "Op Sequential is not supported at now.\n",
      "Op Sequential is not supported at now.\n",
      "Op Sequential is not supported at now.\n",
      "Op Sequential is not supported at now.\n",
      "Op Sequential is not supported at now.\n",
      "Op Sequential is not supported at now.\n",
      "Op Sequential is not supported at now.\n",
      "Op Sequential is not supported at now.\n",
      "Op Sequential is not supported at now.\n",
      "Op Sequential is not supported at now.\n",
      "Op Sequential is not supported at now.\n",
      "Op Sequential is not supported at now.\n",
      "Op Sequential is not supported at now.\n",
      "Op Sequential is not supported at now.\n"
     ]
    },
    {
     "name": "stderr",
     "output_type": "stream",
     "text": [
      "Test:  60%|█████▉    | 94/157 [03:06<02:01,  1.93s/it]"
     ]
    },
    {
     "name": "stdout",
     "output_type": "stream",
     "text": [
      "Op Sequential is not supported at now.\n",
      "Op Sequential is not supported at now.\n",
      "Op Sequential is not supported at now.\n",
      "Op Sequential is not supported at now.\n",
      "Op Sequential is not supported at now.\n",
      "Op Sequential is not supported at now.\n",
      "Op Sequential is not supported at now.\n",
      "Op Sequential is not supported at now.\n",
      "Op Sequential is not supported at now.\n",
      "Op Sequential is not supported at now.\n",
      "Op Sequential is not supported at now.\n",
      "Op Sequential is not supported at now.\n",
      "Op Sequential is not supported at now.\n",
      "Op Sequential is not supported at now.\n",
      "Op Sequential is not supported at now.\n",
      "Op Sequential is not supported at now.\n",
      "Op Sequential is not supported at now.\n",
      "Op Sequential is not supported at now.\n",
      "Op Sequential is not supported at now.\n",
      "Op Sequential is not supported at now.\n"
     ]
    },
    {
     "name": "stderr",
     "output_type": "stream",
     "text": [
      "Test:  61%|██████    | 95/157 [03:08<01:59,  1.93s/it]"
     ]
    },
    {
     "name": "stdout",
     "output_type": "stream",
     "text": [
      "Op Sequential is not supported at now.\n",
      "Op Sequential is not supported at now.\n",
      "Op Sequential is not supported at now.\n",
      "Op Sequential is not supported at now.\n",
      "Op Sequential is not supported at now.\n",
      "Op Sequential is not supported at now.\n",
      "Op Sequential is not supported at now.\n",
      "Op Sequential is not supported at now.\n",
      "Op Sequential is not supported at now.\n",
      "Op Sequential is not supported at now.\n",
      "Op Sequential is not supported at now.\n",
      "Op Sequential is not supported at now.\n",
      "Op Sequential is not supported at now.\n",
      "Op Sequential is not supported at now.\n",
      "Op Sequential is not supported at now.\n",
      "Op Sequential is not supported at now.\n",
      "Op Sequential is not supported at now.\n",
      "Op Sequential is not supported at now.\n",
      "Op Sequential is not supported at now.\n",
      "Op Sequential is not supported at now.\n"
     ]
    },
    {
     "name": "stderr",
     "output_type": "stream",
     "text": [
      "Test:  61%|██████    | 96/157 [03:10<01:58,  1.94s/it]"
     ]
    },
    {
     "name": "stdout",
     "output_type": "stream",
     "text": [
      "Op Sequential is not supported at now.\n",
      "Op Sequential is not supported at now.\n",
      "Op Sequential is not supported at now.\n",
      "Op Sequential is not supported at now.\n",
      "Op Sequential is not supported at now.\n",
      "Op Sequential is not supported at now.\n",
      "Op Sequential is not supported at now.\n",
      "Op Sequential is not supported at now.\n",
      "Op Sequential is not supported at now.\n",
      "Op Sequential is not supported at now.\n",
      "Op Sequential is not supported at now.\n",
      "Op Sequential is not supported at now.\n",
      "Op Sequential is not supported at now.\n",
      "Op Sequential is not supported at now.\n",
      "Op Sequential is not supported at now.\n",
      "Op Sequential is not supported at now.\n",
      "Op Sequential is not supported at now.\n",
      "Op Sequential is not supported at now.\n",
      "Op Sequential is not supported at now.\n",
      "Op Sequential is not supported at now.\n"
     ]
    },
    {
     "name": "stderr",
     "output_type": "stream",
     "text": [
      "Test:  62%|██████▏   | 97/157 [03:11<01:55,  1.93s/it]"
     ]
    },
    {
     "name": "stdout",
     "output_type": "stream",
     "text": [
      "Op Sequential is not supported at now.\n",
      "Op Sequential is not supported at now.\n",
      "Op Sequential is not supported at now.\n",
      "Op Sequential is not supported at now.\n",
      "Op Sequential is not supported at now.\n",
      "Op Sequential is not supported at now.\n",
      "Op Sequential is not supported at now.\n",
      "Op Sequential is not supported at now.\n",
      "Op Sequential is not supported at now.\n",
      "Op Sequential is not supported at now.\n",
      "Op Sequential is not supported at now.\n",
      "Op Sequential is not supported at now.\n",
      "Op Sequential is not supported at now.\n",
      "Op Sequential is not supported at now.\n",
      "Op Sequential is not supported at now.\n",
      "Op Sequential is not supported at now.\n",
      "Op Sequential is not supported at now.\n",
      "Op Sequential is not supported at now.\n",
      "Op Sequential is not supported at now.\n",
      "Op Sequential is not supported at now.\n"
     ]
    },
    {
     "name": "stderr",
     "output_type": "stream",
     "text": [
      "Test:  62%|██████▏   | 98/157 [03:13<01:54,  1.93s/it]"
     ]
    },
    {
     "name": "stdout",
     "output_type": "stream",
     "text": [
      "Op Sequential is not supported at now.\n",
      "Op Sequential is not supported at now.\n",
      "Op Sequential is not supported at now.\n",
      "Op Sequential is not supported at now.\n",
      "Op Sequential is not supported at now.\n",
      "Op Sequential is not supported at now.\n",
      "Op Sequential is not supported at now.\n",
      "Op Sequential is not supported at now.\n",
      "Op Sequential is not supported at now.\n",
      "Op Sequential is not supported at now.\n",
      "Op Sequential is not supported at now.\n",
      "Op Sequential is not supported at now.\n",
      "Op Sequential is not supported at now.\n",
      "Op Sequential is not supported at now.\n",
      "Op Sequential is not supported at now.\n",
      "Op Sequential is not supported at now.\n",
      "Op Sequential is not supported at now.\n",
      "Op Sequential is not supported at now.\n",
      "Op Sequential is not supported at now.\n",
      "Op Sequential is not supported at now.\n"
     ]
    },
    {
     "name": "stderr",
     "output_type": "stream",
     "text": [
      "Test:  63%|██████▎   | 99/157 [03:16<01:55,  1.99s/it]"
     ]
    },
    {
     "name": "stdout",
     "output_type": "stream",
     "text": [
      "Op Sequential is not supported at now.\n",
      "Op Sequential is not supported at now.\n",
      "Op Sequential is not supported at now.\n",
      "Op Sequential is not supported at now.\n",
      "Op Sequential is not supported at now.\n",
      "Op Sequential is not supported at now.\n",
      "Op Sequential is not supported at now.\n",
      "Op Sequential is not supported at now.\n",
      "Op Sequential is not supported at now.\n",
      "Op Sequential is not supported at now.\n",
      "Op Sequential is not supported at now.\n",
      "Op Sequential is not supported at now.\n",
      "Op Sequential is not supported at now.\n",
      "Op Sequential is not supported at now.\n",
      "Op Sequential is not supported at now.\n",
      "Op Sequential is not supported at now.\n",
      "Op Sequential is not supported at now.\n",
      "Op Sequential is not supported at now.\n",
      "Op Sequential is not supported at now.\n",
      "Op Sequential is not supported at now.\n"
     ]
    },
    {
     "name": "stderr",
     "output_type": "stream",
     "text": [
      "Test:  64%|██████▎   | 100/157 [03:18<01:54,  2.01s/it]"
     ]
    },
    {
     "name": "stdout",
     "output_type": "stream",
     "text": [
      "Op Sequential is not supported at now.\n",
      "Op Sequential is not supported at now.\n",
      "Op Sequential is not supported at now.\n",
      "Op Sequential is not supported at now.\n",
      "Op Sequential is not supported at now.\n",
      "Op Sequential is not supported at now.\n",
      "Op Sequential is not supported at now.\n",
      "Op Sequential is not supported at now.\n",
      "Op Sequential is not supported at now.\n",
      "Op Sequential is not supported at now.\n",
      "Op Sequential is not supported at now.\n",
      "Op Sequential is not supported at now.\n",
      "Op Sequential is not supported at now.\n",
      "Op Sequential is not supported at now.\n",
      "Op Sequential is not supported at now.\n",
      "Op Sequential is not supported at now.\n",
      "Op Sequential is not supported at now.\n",
      "Op Sequential is not supported at now.\n",
      "Op Sequential is not supported at now.\n",
      "Op Sequential is not supported at now.\n"
     ]
    },
    {
     "name": "stderr",
     "output_type": "stream",
     "text": [
      "Test:  64%|██████▍   | 101/157 [03:20<01:52,  2.00s/it]"
     ]
    },
    {
     "name": "stdout",
     "output_type": "stream",
     "text": [
      "Op Sequential is not supported at now.\n",
      "Op Sequential is not supported at now.\n",
      "Op Sequential is not supported at now.\n",
      "Op Sequential is not supported at now.\n",
      "Op Sequential is not supported at now.\n",
      "Op Sequential is not supported at now.\n",
      "Op Sequential is not supported at now.\n",
      "Op Sequential is not supported at now.\n",
      "Op Sequential is not supported at now.\n",
      "Op Sequential is not supported at now.\n",
      "Op Sequential is not supported at now.\n",
      "Op Sequential is not supported at now.\n",
      "Op Sequential is not supported at now.\n",
      "Op Sequential is not supported at now.\n",
      "Op Sequential is not supported at now.\n",
      "Op Sequential is not supported at now.\n",
      "Op Sequential is not supported at now.\n",
      "Op Sequential is not supported at now.\n",
      "Op Sequential is not supported at now.\n",
      "Op Sequential is not supported at now.\n"
     ]
    },
    {
     "name": "stderr",
     "output_type": "stream",
     "text": [
      "Test:  65%|██████▍   | 102/157 [03:22<01:49,  1.98s/it]"
     ]
    },
    {
     "name": "stdout",
     "output_type": "stream",
     "text": [
      "Op Sequential is not supported at now.\n",
      "Op Sequential is not supported at now.\n",
      "Op Sequential is not supported at now.\n",
      "Op Sequential is not supported at now.\n",
      "Op Sequential is not supported at now.\n",
      "Op Sequential is not supported at now.\n",
      "Op Sequential is not supported at now.\n",
      "Op Sequential is not supported at now.\n",
      "Op Sequential is not supported at now.\n",
      "Op Sequential is not supported at now.\n",
      "Op Sequential is not supported at now.\n",
      "Op Sequential is not supported at now.\n",
      "Op Sequential is not supported at now.\n",
      "Op Sequential is not supported at now.\n",
      "Op Sequential is not supported at now.\n",
      "Op Sequential is not supported at now.\n",
      "Op Sequential is not supported at now.\n",
      "Op Sequential is not supported at now.\n",
      "Op Sequential is not supported at now.\n",
      "Op Sequential is not supported at now.\n"
     ]
    },
    {
     "name": "stderr",
     "output_type": "stream",
     "text": [
      "Test:  66%|██████▌   | 103/157 [03:23<01:46,  1.97s/it]"
     ]
    },
    {
     "name": "stdout",
     "output_type": "stream",
     "text": [
      "Op Sequential is not supported at now.\n",
      "Op Sequential is not supported at now.\n",
      "Op Sequential is not supported at now.\n",
      "Op Sequential is not supported at now.\n",
      "Op Sequential is not supported at now.\n",
      "Op Sequential is not supported at now.\n",
      "Op Sequential is not supported at now.\n",
      "Op Sequential is not supported at now.\n",
      "Op Sequential is not supported at now.\n",
      "Op Sequential is not supported at now.\n",
      "Op Sequential is not supported at now.\n",
      "Op Sequential is not supported at now.\n",
      "Op Sequential is not supported at now.\n",
      "Op Sequential is not supported at now.\n",
      "Op Sequential is not supported at now.\n",
      "Op Sequential is not supported at now.\n",
      "Op Sequential is not supported at now.\n",
      "Op Sequential is not supported at now.\n",
      "Op Sequential is not supported at now.\n",
      "Op Sequential is not supported at now.\n"
     ]
    },
    {
     "name": "stderr",
     "output_type": "stream",
     "text": [
      "Test:  66%|██████▌   | 104/157 [03:25<01:44,  1.97s/it]"
     ]
    },
    {
     "name": "stdout",
     "output_type": "stream",
     "text": [
      "Op Sequential is not supported at now.\n",
      "Op Sequential is not supported at now.\n",
      "Op Sequential is not supported at now.\n",
      "Op Sequential is not supported at now.\n",
      "Op Sequential is not supported at now.\n",
      "Op Sequential is not supported at now.\n",
      "Op Sequential is not supported at now.\n",
      "Op Sequential is not supported at now.\n",
      "Op Sequential is not supported at now.\n",
      "Op Sequential is not supported at now.\n",
      "Op Sequential is not supported at now.\n",
      "Op Sequential is not supported at now.\n",
      "Op Sequential is not supported at now.\n",
      "Op Sequential is not supported at now.\n",
      "Op Sequential is not supported at now.\n",
      "Op Sequential is not supported at now.\n",
      "Op Sequential is not supported at now.\n",
      "Op Sequential is not supported at now.\n",
      "Op Sequential is not supported at now.\n",
      "Op Sequential is not supported at now.\n"
     ]
    },
    {
     "name": "stderr",
     "output_type": "stream",
     "text": [
      "Test:  67%|██████▋   | 105/157 [03:27<01:41,  1.96s/it]"
     ]
    },
    {
     "name": "stdout",
     "output_type": "stream",
     "text": [
      "Op Sequential is not supported at now.\n",
      "Op Sequential is not supported at now.\n",
      "Op Sequential is not supported at now.\n",
      "Op Sequential is not supported at now.\n",
      "Op Sequential is not supported at now.\n",
      "Op Sequential is not supported at now.\n",
      "Op Sequential is not supported at now.\n",
      "Op Sequential is not supported at now.\n",
      "Op Sequential is not supported at now.\n",
      "Op Sequential is not supported at now.\n",
      "Op Sequential is not supported at now.\n",
      "Op Sequential is not supported at now.\n",
      "Op Sequential is not supported at now.\n",
      "Op Sequential is not supported at now.\n",
      "Op Sequential is not supported at now.\n",
      "Op Sequential is not supported at now.\n",
      "Op Sequential is not supported at now.\n",
      "Op Sequential is not supported at now.\n",
      "Op Sequential is not supported at now.\n",
      "Op Sequential is not supported at now.\n"
     ]
    },
    {
     "name": "stderr",
     "output_type": "stream",
     "text": [
      "Test:  68%|██████▊   | 106/157 [03:29<01:39,  1.95s/it]"
     ]
    },
    {
     "name": "stdout",
     "output_type": "stream",
     "text": [
      "Op Sequential is not supported at now.\n",
      "Op Sequential is not supported at now.\n",
      "Op Sequential is not supported at now.\n",
      "Op Sequential is not supported at now.\n",
      "Op Sequential is not supported at now.\n",
      "Op Sequential is not supported at now.\n",
      "Op Sequential is not supported at now.\n",
      "Op Sequential is not supported at now.\n",
      "Op Sequential is not supported at now.\n",
      "Op Sequential is not supported at now.\n",
      "Op Sequential is not supported at now.\n",
      "Op Sequential is not supported at now.\n",
      "Op Sequential is not supported at now.\n",
      "Op Sequential is not supported at now.\n",
      "Op Sequential is not supported at now.\n",
      "Op Sequential is not supported at now.\n",
      "Op Sequential is not supported at now.\n",
      "Op Sequential is not supported at now.\n",
      "Op Sequential is not supported at now.\n",
      "Op Sequential is not supported at now.\n"
     ]
    },
    {
     "name": "stderr",
     "output_type": "stream",
     "text": [
      "Test:  68%|██████▊   | 107/157 [03:31<01:37,  1.95s/it]"
     ]
    },
    {
     "name": "stdout",
     "output_type": "stream",
     "text": [
      "Op Sequential is not supported at now.\n",
      "Op Sequential is not supported at now.\n",
      "Op Sequential is not supported at now.\n",
      "Op Sequential is not supported at now.\n",
      "Op Sequential is not supported at now.\n",
      "Op Sequential is not supported at now.\n",
      "Op Sequential is not supported at now.\n",
      "Op Sequential is not supported at now.\n",
      "Op Sequential is not supported at now.\n",
      "Op Sequential is not supported at now.\n",
      "Op Sequential is not supported at now.\n",
      "Op Sequential is not supported at now.\n",
      "Op Sequential is not supported at now.\n",
      "Op Sequential is not supported at now.\n",
      "Op Sequential is not supported at now.\n",
      "Op Sequential is not supported at now.\n",
      "Op Sequential is not supported at now.\n",
      "Op Sequential is not supported at now.\n",
      "Op Sequential is not supported at now.\n",
      "Op Sequential is not supported at now.\n"
     ]
    },
    {
     "name": "stderr",
     "output_type": "stream",
     "text": [
      "Test:  69%|██████▉   | 108/157 [03:33<01:35,  1.94s/it]"
     ]
    },
    {
     "name": "stdout",
     "output_type": "stream",
     "text": [
      "Op Sequential is not supported at now.\n",
      "Op Sequential is not supported at now.\n",
      "Op Sequential is not supported at now.\n",
      "Op Sequential is not supported at now.\n",
      "Op Sequential is not supported at now.\n",
      "Op Sequential is not supported at now.\n",
      "Op Sequential is not supported at now.\n",
      "Op Sequential is not supported at now.\n",
      "Op Sequential is not supported at now.\n",
      "Op Sequential is not supported at now.\n",
      "Op Sequential is not supported at now.\n",
      "Op Sequential is not supported at now.\n",
      "Op Sequential is not supported at now.\n",
      "Op Sequential is not supported at now.\n",
      "Op Sequential is not supported at now.\n",
      "Op Sequential is not supported at now.\n",
      "Op Sequential is not supported at now.\n",
      "Op Sequential is not supported at now.\n",
      "Op Sequential is not supported at now.\n",
      "Op Sequential is not supported at now.\n"
     ]
    },
    {
     "name": "stderr",
     "output_type": "stream",
     "text": [
      "Test:  69%|██████▉   | 109/157 [03:35<01:32,  1.94s/it]"
     ]
    },
    {
     "name": "stdout",
     "output_type": "stream",
     "text": [
      "Op Sequential is not supported at now.\n",
      "Op Sequential is not supported at now.\n",
      "Op Sequential is not supported at now.\n",
      "Op Sequential is not supported at now.\n",
      "Op Sequential is not supported at now.\n",
      "Op Sequential is not supported at now.\n",
      "Op Sequential is not supported at now.\n",
      "Op Sequential is not supported at now.\n",
      "Op Sequential is not supported at now.\n",
      "Op Sequential is not supported at now.\n",
      "Op Sequential is not supported at now.\n",
      "Op Sequential is not supported at now.\n",
      "Op Sequential is not supported at now.\n",
      "Op Sequential is not supported at now.\n",
      "Op Sequential is not supported at now.\n",
      "Op Sequential is not supported at now.\n",
      "Op Sequential is not supported at now.\n",
      "Op Sequential is not supported at now.\n",
      "Op Sequential is not supported at now.\n",
      "Op Sequential is not supported at now.\n"
     ]
    },
    {
     "name": "stderr",
     "output_type": "stream",
     "text": [
      "Test:  70%|███████   | 110/157 [03:37<01:30,  1.93s/it]"
     ]
    },
    {
     "name": "stdout",
     "output_type": "stream",
     "text": [
      "Op Sequential is not supported at now.\n",
      "Op Sequential is not supported at now.\n",
      "Op Sequential is not supported at now.\n",
      "Op Sequential is not supported at now.\n",
      "Op Sequential is not supported at now.\n",
      "Op Sequential is not supported at now.\n",
      "Op Sequential is not supported at now.\n",
      "Op Sequential is not supported at now.\n",
      "Op Sequential is not supported at now.\n",
      "Op Sequential is not supported at now.\n",
      "Op Sequential is not supported at now.\n",
      "Op Sequential is not supported at now.\n",
      "Op Sequential is not supported at now.\n",
      "Op Sequential is not supported at now.\n",
      "Op Sequential is not supported at now.\n",
      "Op Sequential is not supported at now.\n",
      "Op Sequential is not supported at now.\n",
      "Op Sequential is not supported at now.\n",
      "Op Sequential is not supported at now.\n",
      "Op Sequential is not supported at now.\n"
     ]
    },
    {
     "name": "stderr",
     "output_type": "stream",
     "text": [
      "Test:  71%|███████   | 111/157 [03:39<01:29,  1.94s/it]"
     ]
    },
    {
     "name": "stdout",
     "output_type": "stream",
     "text": [
      "Op Sequential is not supported at now.\n",
      "Op Sequential is not supported at now.\n",
      "Op Sequential is not supported at now.\n",
      "Op Sequential is not supported at now.\n",
      "Op Sequential is not supported at now.\n",
      "Op Sequential is not supported at now.\n",
      "Op Sequential is not supported at now.\n",
      "Op Sequential is not supported at now.\n",
      "Op Sequential is not supported at now.\n",
      "Op Sequential is not supported at now.\n",
      "Op Sequential is not supported at now.\n",
      "Op Sequential is not supported at now.\n",
      "Op Sequential is not supported at now.\n",
      "Op Sequential is not supported at now.\n",
      "Op Sequential is not supported at now.\n",
      "Op Sequential is not supported at now.\n",
      "Op Sequential is not supported at now.\n",
      "Op Sequential is not supported at now.\n",
      "Op Sequential is not supported at now.\n",
      "Op Sequential is not supported at now.\n"
     ]
    },
    {
     "name": "stderr",
     "output_type": "stream",
     "text": [
      "Test:  71%|███████▏  | 112/157 [03:41<01:27,  1.94s/it]"
     ]
    },
    {
     "name": "stdout",
     "output_type": "stream",
     "text": [
      "Op Sequential is not supported at now.\n",
      "Op Sequential is not supported at now.\n",
      "Op Sequential is not supported at now.\n",
      "Op Sequential is not supported at now.\n",
      "Op Sequential is not supported at now.\n",
      "Op Sequential is not supported at now.\n",
      "Op Sequential is not supported at now.\n",
      "Op Sequential is not supported at now.\n",
      "Op Sequential is not supported at now.\n",
      "Op Sequential is not supported at now.\n",
      "Op Sequential is not supported at now.\n",
      "Op Sequential is not supported at now.\n",
      "Op Sequential is not supported at now.\n",
      "Op Sequential is not supported at now.\n",
      "Op Sequential is not supported at now.\n",
      "Op Sequential is not supported at now.\n",
      "Op Sequential is not supported at now.\n",
      "Op Sequential is not supported at now.\n",
      "Op Sequential is not supported at now.\n",
      "Op Sequential is not supported at now.\n"
     ]
    },
    {
     "name": "stderr",
     "output_type": "stream",
     "text": [
      "Test:  72%|███████▏  | 113/157 [03:43<01:25,  1.94s/it]"
     ]
    },
    {
     "name": "stdout",
     "output_type": "stream",
     "text": [
      "Op Sequential is not supported at now.\n",
      "Op Sequential is not supported at now.\n",
      "Op Sequential is not supported at now.\n",
      "Op Sequential is not supported at now.\n",
      "Op Sequential is not supported at now.\n",
      "Op Sequential is not supported at now.\n",
      "Op Sequential is not supported at now.\n",
      "Op Sequential is not supported at now.\n",
      "Op Sequential is not supported at now.\n",
      "Op Sequential is not supported at now.\n",
      "Op Sequential is not supported at now.\n",
      "Op Sequential is not supported at now.\n",
      "Op Sequential is not supported at now.\n",
      "Op Sequential is not supported at now.\n",
      "Op Sequential is not supported at now.\n",
      "Op Sequential is not supported at now.\n",
      "Op Sequential is not supported at now.\n",
      "Op Sequential is not supported at now.\n",
      "Op Sequential is not supported at now.\n",
      "Op Sequential is not supported at now.\n"
     ]
    },
    {
     "name": "stderr",
     "output_type": "stream",
     "text": [
      "Test:  73%|███████▎  | 114/157 [03:45<01:23,  1.94s/it]"
     ]
    },
    {
     "name": "stdout",
     "output_type": "stream",
     "text": [
      "Op Sequential is not supported at now.\n",
      "Op Sequential is not supported at now.\n",
      "Op Sequential is not supported at now.\n",
      "Op Sequential is not supported at now.\n",
      "Op Sequential is not supported at now.\n",
      "Op Sequential is not supported at now.\n",
      "Op Sequential is not supported at now.\n",
      "Op Sequential is not supported at now.\n",
      "Op Sequential is not supported at now.\n",
      "Op Sequential is not supported at now.\n",
      "Op Sequential is not supported at now.\n",
      "Op Sequential is not supported at now.\n",
      "Op Sequential is not supported at now.\n",
      "Op Sequential is not supported at now.\n",
      "Op Sequential is not supported at now.\n",
      "Op Sequential is not supported at now.\n",
      "Op Sequential is not supported at now.\n",
      "Op Sequential is not supported at now.\n",
      "Op Sequential is not supported at now.\n",
      "Op Sequential is not supported at now.\n"
     ]
    },
    {
     "name": "stderr",
     "output_type": "stream",
     "text": [
      "Test:  73%|███████▎  | 115/157 [03:47<01:22,  1.97s/it]"
     ]
    },
    {
     "name": "stdout",
     "output_type": "stream",
     "text": [
      "Op Sequential is not supported at now.\n",
      "Op Sequential is not supported at now.\n",
      "Op Sequential is not supported at now.\n",
      "Op Sequential is not supported at now.\n",
      "Op Sequential is not supported at now.\n",
      "Op Sequential is not supported at now.\n",
      "Op Sequential is not supported at now.\n",
      "Op Sequential is not supported at now.\n",
      "Op Sequential is not supported at now.\n",
      "Op Sequential is not supported at now.\n",
      "Op Sequential is not supported at now.\n",
      "Op Sequential is not supported at now.\n",
      "Op Sequential is not supported at now.\n",
      "Op Sequential is not supported at now.\n",
      "Op Sequential is not supported at now.\n",
      "Op Sequential is not supported at now.\n",
      "Op Sequential is not supported at now.\n",
      "Op Sequential is not supported at now.\n",
      "Op Sequential is not supported at now.\n",
      "Op Sequential is not supported at now.\n"
     ]
    },
    {
     "name": "stderr",
     "output_type": "stream",
     "text": [
      "Test:  74%|███████▍  | 116/157 [03:49<01:20,  1.97s/it]"
     ]
    },
    {
     "name": "stdout",
     "output_type": "stream",
     "text": [
      "Op Sequential is not supported at now.\n",
      "Op Sequential is not supported at now.\n",
      "Op Sequential is not supported at now.\n",
      "Op Sequential is not supported at now.\n",
      "Op Sequential is not supported at now.\n",
      "Op Sequential is not supported at now.\n",
      "Op Sequential is not supported at now.\n",
      "Op Sequential is not supported at now.\n",
      "Op Sequential is not supported at now.\n",
      "Op Sequential is not supported at now.\n",
      "Op Sequential is not supported at now.\n",
      "Op Sequential is not supported at now.\n",
      "Op Sequential is not supported at now.\n",
      "Op Sequential is not supported at now.\n",
      "Op Sequential is not supported at now.\n",
      "Op Sequential is not supported at now.\n",
      "Op Sequential is not supported at now.\n",
      "Op Sequential is not supported at now.\n",
      "Op Sequential is not supported at now.\n",
      "Op Sequential is not supported at now.\n"
     ]
    },
    {
     "name": "stderr",
     "output_type": "stream",
     "text": [
      "Test:  75%|███████▍  | 117/157 [03:51<01:18,  1.96s/it]"
     ]
    },
    {
     "name": "stdout",
     "output_type": "stream",
     "text": [
      "Op Sequential is not supported at now.\n",
      "Op Sequential is not supported at now.\n",
      "Op Sequential is not supported at now.\n",
      "Op Sequential is not supported at now.\n",
      "Op Sequential is not supported at now.\n",
      "Op Sequential is not supported at now.\n",
      "Op Sequential is not supported at now.\n",
      "Op Sequential is not supported at now.\n",
      "Op Sequential is not supported at now.\n",
      "Op Sequential is not supported at now.\n",
      "Op Sequential is not supported at now.\n",
      "Op Sequential is not supported at now.\n",
      "Op Sequential is not supported at now.\n",
      "Op Sequential is not supported at now.\n",
      "Op Sequential is not supported at now.\n",
      "Op Sequential is not supported at now.\n",
      "Op Sequential is not supported at now.\n",
      "Op Sequential is not supported at now.\n",
      "Op Sequential is not supported at now.\n",
      "Op Sequential is not supported at now.\n"
     ]
    },
    {
     "name": "stderr",
     "output_type": "stream",
     "text": [
      "Test:  75%|███████▌  | 118/157 [03:53<01:16,  1.96s/it]"
     ]
    },
    {
     "name": "stdout",
     "output_type": "stream",
     "text": [
      "Op Sequential is not supported at now.\n",
      "Op Sequential is not supported at now.\n",
      "Op Sequential is not supported at now.\n",
      "Op Sequential is not supported at now.\n",
      "Op Sequential is not supported at now.\n",
      "Op Sequential is not supported at now.\n",
      "Op Sequential is not supported at now.\n",
      "Op Sequential is not supported at now.\n",
      "Op Sequential is not supported at now.\n",
      "Op Sequential is not supported at now.\n",
      "Op Sequential is not supported at now.\n",
      "Op Sequential is not supported at now.\n",
      "Op Sequential is not supported at now.\n",
      "Op Sequential is not supported at now.\n",
      "Op Sequential is not supported at now.\n",
      "Op Sequential is not supported at now.\n",
      "Op Sequential is not supported at now.\n",
      "Op Sequential is not supported at now.\n",
      "Op Sequential is not supported at now.\n",
      "Op Sequential is not supported at now.\n"
     ]
    },
    {
     "name": "stderr",
     "output_type": "stream",
     "text": [
      "Test:  76%|███████▌  | 119/157 [03:55<01:14,  1.97s/it]"
     ]
    },
    {
     "name": "stdout",
     "output_type": "stream",
     "text": [
      "Op Sequential is not supported at now.\n",
      "Op Sequential is not supported at now.\n",
      "Op Sequential is not supported at now.\n",
      "Op Sequential is not supported at now.\n",
      "Op Sequential is not supported at now.\n",
      "Op Sequential is not supported at now.\n",
      "Op Sequential is not supported at now.\n",
      "Op Sequential is not supported at now.\n",
      "Op Sequential is not supported at now.\n",
      "Op Sequential is not supported at now.\n",
      "Op Sequential is not supported at now.\n",
      "Op Sequential is not supported at now.\n",
      "Op Sequential is not supported at now.\n",
      "Op Sequential is not supported at now.\n",
      "Op Sequential is not supported at now.\n",
      "Op Sequential is not supported at now.\n",
      "Op Sequential is not supported at now.\n",
      "Op Sequential is not supported at now.\n",
      "Op Sequential is not supported at now.\n",
      "Op Sequential is not supported at now.\n"
     ]
    },
    {
     "name": "stderr",
     "output_type": "stream",
     "text": [
      "Test:  76%|███████▋  | 120/157 [03:57<01:13,  1.98s/it]"
     ]
    },
    {
     "name": "stdout",
     "output_type": "stream",
     "text": [
      "Op Sequential is not supported at now.\n",
      "Op Sequential is not supported at now.\n",
      "Op Sequential is not supported at now.\n",
      "Op Sequential is not supported at now.\n",
      "Op Sequential is not supported at now.\n",
      "Op Sequential is not supported at now.\n",
      "Op Sequential is not supported at now.\n",
      "Op Sequential is not supported at now.\n",
      "Op Sequential is not supported at now.\n",
      "Op Sequential is not supported at now.\n",
      "Op Sequential is not supported at now.\n",
      "Op Sequential is not supported at now.\n",
      "Op Sequential is not supported at now.\n",
      "Op Sequential is not supported at now.\n",
      "Op Sequential is not supported at now.\n",
      "Op Sequential is not supported at now.\n",
      "Op Sequential is not supported at now.\n",
      "Op Sequential is not supported at now.\n",
      "Op Sequential is not supported at now.\n",
      "Op Sequential is not supported at now.\n"
     ]
    },
    {
     "name": "stderr",
     "output_type": "stream",
     "text": [
      "Test:  77%|███████▋  | 121/157 [03:59<01:12,  2.00s/it]"
     ]
    },
    {
     "name": "stdout",
     "output_type": "stream",
     "text": [
      "Op Sequential is not supported at now.\n",
      "Op Sequential is not supported at now.\n",
      "Op Sequential is not supported at now.\n",
      "Op Sequential is not supported at now.\n",
      "Op Sequential is not supported at now.\n",
      "Op Sequential is not supported at now.\n",
      "Op Sequential is not supported at now.\n",
      "Op Sequential is not supported at now.\n",
      "Op Sequential is not supported at now.\n",
      "Op Sequential is not supported at now.\n",
      "Op Sequential is not supported at now.\n",
      "Op Sequential is not supported at now.\n",
      "Op Sequential is not supported at now.\n",
      "Op Sequential is not supported at now.\n",
      "Op Sequential is not supported at now.\n",
      "Op Sequential is not supported at now.\n",
      "Op Sequential is not supported at now.\n",
      "Op Sequential is not supported at now.\n",
      "Op Sequential is not supported at now.\n",
      "Op Sequential is not supported at now.\n"
     ]
    },
    {
     "name": "stderr",
     "output_type": "stream",
     "text": [
      "Test:  78%|███████▊  | 122/157 [04:01<01:09,  1.99s/it]"
     ]
    },
    {
     "name": "stdout",
     "output_type": "stream",
     "text": [
      "Op Sequential is not supported at now.\n",
      "Op Sequential is not supported at now.\n",
      "Op Sequential is not supported at now.\n",
      "Op Sequential is not supported at now.\n",
      "Op Sequential is not supported at now.\n",
      "Op Sequential is not supported at now.\n",
      "Op Sequential is not supported at now.\n",
      "Op Sequential is not supported at now.\n",
      "Op Sequential is not supported at now.\n",
      "Op Sequential is not supported at now.\n",
      "Op Sequential is not supported at now.\n",
      "Op Sequential is not supported at now.\n",
      "Op Sequential is not supported at now.\n",
      "Op Sequential is not supported at now.\n",
      "Op Sequential is not supported at now.\n",
      "Op Sequential is not supported at now.\n",
      "Op Sequential is not supported at now.\n",
      "Op Sequential is not supported at now.\n",
      "Op Sequential is not supported at now.\n",
      "Op Sequential is not supported at now.\n"
     ]
    },
    {
     "name": "stderr",
     "output_type": "stream",
     "text": [
      "Test:  78%|███████▊  | 123/157 [04:03<01:07,  1.98s/it]"
     ]
    },
    {
     "name": "stdout",
     "output_type": "stream",
     "text": [
      "Op Sequential is not supported at now.\n",
      "Op Sequential is not supported at now.\n",
      "Op Sequential is not supported at now.\n",
      "Op Sequential is not supported at now.\n",
      "Op Sequential is not supported at now.\n",
      "Op Sequential is not supported at now.\n",
      "Op Sequential is not supported at now.\n",
      "Op Sequential is not supported at now.\n",
      "Op Sequential is not supported at now.\n",
      "Op Sequential is not supported at now.\n",
      "Op Sequential is not supported at now.\n",
      "Op Sequential is not supported at now.\n",
      "Op Sequential is not supported at now.\n",
      "Op Sequential is not supported at now.\n",
      "Op Sequential is not supported at now.\n",
      "Op Sequential is not supported at now.\n",
      "Op Sequential is not supported at now.\n",
      "Op Sequential is not supported at now.\n",
      "Op Sequential is not supported at now.\n",
      "Op Sequential is not supported at now.\n"
     ]
    },
    {
     "name": "stderr",
     "output_type": "stream",
     "text": [
      "Test:  79%|███████▉  | 124/157 [04:05<01:04,  1.97s/it]"
     ]
    },
    {
     "name": "stdout",
     "output_type": "stream",
     "text": [
      "Op Sequential is not supported at now.\n",
      "Op Sequential is not supported at now.\n",
      "Op Sequential is not supported at now.\n",
      "Op Sequential is not supported at now.\n",
      "Op Sequential is not supported at now.\n",
      "Op Sequential is not supported at now.\n",
      "Op Sequential is not supported at now.\n",
      "Op Sequential is not supported at now.\n",
      "Op Sequential is not supported at now.\n",
      "Op Sequential is not supported at now.\n",
      "Op Sequential is not supported at now.\n",
      "Op Sequential is not supported at now.\n",
      "Op Sequential is not supported at now.\n",
      "Op Sequential is not supported at now.\n",
      "Op Sequential is not supported at now.\n",
      "Op Sequential is not supported at now.\n",
      "Op Sequential is not supported at now.\n",
      "Op Sequential is not supported at now.\n",
      "Op Sequential is not supported at now.\n",
      "Op Sequential is not supported at now.\n"
     ]
    },
    {
     "name": "stderr",
     "output_type": "stream",
     "text": [
      "Test:  80%|███████▉  | 125/157 [04:07<01:02,  1.97s/it]"
     ]
    },
    {
     "name": "stdout",
     "output_type": "stream",
     "text": [
      "Op Sequential is not supported at now.\n",
      "Op Sequential is not supported at now.\n",
      "Op Sequential is not supported at now.\n",
      "Op Sequential is not supported at now.\n",
      "Op Sequential is not supported at now.\n",
      "Op Sequential is not supported at now.\n",
      "Op Sequential is not supported at now.\n",
      "Op Sequential is not supported at now.\n",
      "Op Sequential is not supported at now.\n",
      "Op Sequential is not supported at now.\n",
      "Op Sequential is not supported at now.\n",
      "Op Sequential is not supported at now.\n",
      "Op Sequential is not supported at now.\n",
      "Op Sequential is not supported at now.\n",
      "Op Sequential is not supported at now.\n",
      "Op Sequential is not supported at now.\n",
      "Op Sequential is not supported at now.\n",
      "Op Sequential is not supported at now.\n",
      "Op Sequential is not supported at now.\n",
      "Op Sequential is not supported at now.\n"
     ]
    },
    {
     "name": "stderr",
     "output_type": "stream",
     "text": [
      "Test:  80%|████████  | 126/157 [04:09<01:01,  1.97s/it]"
     ]
    },
    {
     "name": "stdout",
     "output_type": "stream",
     "text": [
      "Op Sequential is not supported at now.\n",
      "Op Sequential is not supported at now.\n",
      "Op Sequential is not supported at now.\n",
      "Op Sequential is not supported at now.\n",
      "Op Sequential is not supported at now.\n",
      "Op Sequential is not supported at now.\n",
      "Op Sequential is not supported at now.\n",
      "Op Sequential is not supported at now.\n",
      "Op Sequential is not supported at now.\n",
      "Op Sequential is not supported at now.\n",
      "Op Sequential is not supported at now.\n",
      "Op Sequential is not supported at now.\n",
      "Op Sequential is not supported at now.\n",
      "Op Sequential is not supported at now.\n",
      "Op Sequential is not supported at now.\n",
      "Op Sequential is not supported at now.\n",
      "Op Sequential is not supported at now.\n",
      "Op Sequential is not supported at now.\n",
      "Op Sequential is not supported at now.\n",
      "Op Sequential is not supported at now.\n"
     ]
    },
    {
     "name": "stderr",
     "output_type": "stream",
     "text": [
      "Test:  81%|████████  | 127/157 [04:11<00:59,  1.97s/it]"
     ]
    },
    {
     "name": "stdout",
     "output_type": "stream",
     "text": [
      "Op Sequential is not supported at now.\n",
      "Op Sequential is not supported at now.\n",
      "Op Sequential is not supported at now.\n",
      "Op Sequential is not supported at now.\n",
      "Op Sequential is not supported at now.\n",
      "Op Sequential is not supported at now.\n",
      "Op Sequential is not supported at now.\n",
      "Op Sequential is not supported at now.\n",
      "Op Sequential is not supported at now.\n",
      "Op Sequential is not supported at now.\n",
      "Op Sequential is not supported at now.\n",
      "Op Sequential is not supported at now.\n",
      "Op Sequential is not supported at now.\n",
      "Op Sequential is not supported at now.\n",
      "Op Sequential is not supported at now.\n",
      "Op Sequential is not supported at now.\n",
      "Op Sequential is not supported at now.\n",
      "Op Sequential is not supported at now.\n",
      "Op Sequential is not supported at now.\n",
      "Op Sequential is not supported at now.\n"
     ]
    },
    {
     "name": "stderr",
     "output_type": "stream",
     "text": [
      "Test:  82%|████████▏ | 128/157 [04:12<00:57,  1.97s/it]"
     ]
    },
    {
     "name": "stdout",
     "output_type": "stream",
     "text": [
      "Op Sequential is not supported at now.\n",
      "Op Sequential is not supported at now.\n",
      "Op Sequential is not supported at now.\n",
      "Op Sequential is not supported at now.\n",
      "Op Sequential is not supported at now.\n",
      "Op Sequential is not supported at now.\n",
      "Op Sequential is not supported at now.\n",
      "Op Sequential is not supported at now.\n",
      "Op Sequential is not supported at now.\n",
      "Op Sequential is not supported at now.\n",
      "Op Sequential is not supported at now.\n",
      "Op Sequential is not supported at now.\n",
      "Op Sequential is not supported at now.\n",
      "Op Sequential is not supported at now.\n",
      "Op Sequential is not supported at now.\n",
      "Op Sequential is not supported at now.\n",
      "Op Sequential is not supported at now.\n",
      "Op Sequential is not supported at now.\n",
      "Op Sequential is not supported at now.\n",
      "Op Sequential is not supported at now.\n"
     ]
    },
    {
     "name": "stderr",
     "output_type": "stream",
     "text": [
      "Test:  82%|████████▏ | 129/157 [04:14<00:54,  1.96s/it]"
     ]
    },
    {
     "name": "stdout",
     "output_type": "stream",
     "text": [
      "Op Sequential is not supported at now.\n",
      "Op Sequential is not supported at now.\n",
      "Op Sequential is not supported at now.\n",
      "Op Sequential is not supported at now.\n",
      "Op Sequential is not supported at now.\n",
      "Op Sequential is not supported at now.\n",
      "Op Sequential is not supported at now.\n",
      "Op Sequential is not supported at now.\n",
      "Op Sequential is not supported at now.\n",
      "Op Sequential is not supported at now.\n",
      "Op Sequential is not supported at now.\n",
      "Op Sequential is not supported at now.\n",
      "Op Sequential is not supported at now.\n",
      "Op Sequential is not supported at now.\n",
      "Op Sequential is not supported at now.\n",
      "Op Sequential is not supported at now.\n",
      "Op Sequential is not supported at now.\n",
      "Op Sequential is not supported at now.\n",
      "Op Sequential is not supported at now.\n",
      "Op Sequential is not supported at now.\n"
     ]
    },
    {
     "name": "stderr",
     "output_type": "stream",
     "text": [
      "Test:  83%|████████▎ | 130/157 [04:16<00:52,  1.95s/it]"
     ]
    },
    {
     "name": "stdout",
     "output_type": "stream",
     "text": [
      "Op Sequential is not supported at now.\n",
      "Op Sequential is not supported at now.\n",
      "Op Sequential is not supported at now.\n",
      "Op Sequential is not supported at now.\n",
      "Op Sequential is not supported at now.\n",
      "Op Sequential is not supported at now.\n",
      "Op Sequential is not supported at now.\n",
      "Op Sequential is not supported at now.\n",
      "Op Sequential is not supported at now.\n",
      "Op Sequential is not supported at now.\n",
      "Op Sequential is not supported at now.\n",
      "Op Sequential is not supported at now.\n",
      "Op Sequential is not supported at now.\n",
      "Op Sequential is not supported at now.\n",
      "Op Sequential is not supported at now.\n",
      "Op Sequential is not supported at now.\n",
      "Op Sequential is not supported at now.\n",
      "Op Sequential is not supported at now.\n",
      "Op Sequential is not supported at now.\n",
      "Op Sequential is not supported at now.\n"
     ]
    },
    {
     "name": "stderr",
     "output_type": "stream",
     "text": [
      "Test:  83%|████████▎ | 131/157 [04:18<00:50,  1.95s/it]"
     ]
    },
    {
     "name": "stdout",
     "output_type": "stream",
     "text": [
      "Op Sequential is not supported at now.\n",
      "Op Sequential is not supported at now.\n",
      "Op Sequential is not supported at now.\n",
      "Op Sequential is not supported at now.\n",
      "Op Sequential is not supported at now.\n",
      "Op Sequential is not supported at now.\n",
      "Op Sequential is not supported at now.\n",
      "Op Sequential is not supported at now.\n",
      "Op Sequential is not supported at now.\n",
      "Op Sequential is not supported at now.\n",
      "Op Sequential is not supported at now.\n",
      "Op Sequential is not supported at now.\n",
      "Op Sequential is not supported at now.\n",
      "Op Sequential is not supported at now.\n",
      "Op Sequential is not supported at now.\n",
      "Op Sequential is not supported at now.\n",
      "Op Sequential is not supported at now.\n",
      "Op Sequential is not supported at now.\n",
      "Op Sequential is not supported at now.\n",
      "Op Sequential is not supported at now.\n"
     ]
    },
    {
     "name": "stderr",
     "output_type": "stream",
     "text": [
      "Test:  84%|████████▍ | 132/157 [04:20<00:48,  1.95s/it]"
     ]
    },
    {
     "name": "stdout",
     "output_type": "stream",
     "text": [
      "Op Sequential is not supported at now.\n",
      "Op Sequential is not supported at now.\n",
      "Op Sequential is not supported at now.\n",
      "Op Sequential is not supported at now.\n",
      "Op Sequential is not supported at now.\n",
      "Op Sequential is not supported at now.\n",
      "Op Sequential is not supported at now.\n",
      "Op Sequential is not supported at now.\n",
      "Op Sequential is not supported at now.\n",
      "Op Sequential is not supported at now.\n",
      "Op Sequential is not supported at now.\n",
      "Op Sequential is not supported at now.\n",
      "Op Sequential is not supported at now.\n",
      "Op Sequential is not supported at now.\n",
      "Op Sequential is not supported at now.\n",
      "Op Sequential is not supported at now.\n",
      "Op Sequential is not supported at now.\n",
      "Op Sequential is not supported at now.\n",
      "Op Sequential is not supported at now.\n",
      "Op Sequential is not supported at now.\n"
     ]
    },
    {
     "name": "stderr",
     "output_type": "stream",
     "text": [
      "Test:  85%|████████▍ | 133/157 [04:22<00:46,  1.95s/it]"
     ]
    },
    {
     "name": "stdout",
     "output_type": "stream",
     "text": [
      "Op Sequential is not supported at now.\n",
      "Op Sequential is not supported at now.\n",
      "Op Sequential is not supported at now.\n",
      "Op Sequential is not supported at now.\n",
      "Op Sequential is not supported at now.\n",
      "Op Sequential is not supported at now.\n",
      "Op Sequential is not supported at now.\n",
      "Op Sequential is not supported at now.\n",
      "Op Sequential is not supported at now.\n",
      "Op Sequential is not supported at now.\n",
      "Op Sequential is not supported at now.\n",
      "Op Sequential is not supported at now.\n",
      "Op Sequential is not supported at now.\n",
      "Op Sequential is not supported at now.\n",
      "Op Sequential is not supported at now.\n",
      "Op Sequential is not supported at now.\n",
      "Op Sequential is not supported at now.\n",
      "Op Sequential is not supported at now.\n",
      "Op Sequential is not supported at now.\n",
      "Op Sequential is not supported at now.\n"
     ]
    },
    {
     "name": "stderr",
     "output_type": "stream",
     "text": [
      "Test:  85%|████████▌ | 134/157 [04:24<00:45,  1.96s/it]"
     ]
    },
    {
     "name": "stdout",
     "output_type": "stream",
     "text": [
      "Op Sequential is not supported at now.\n",
      "Op Sequential is not supported at now.\n",
      "Op Sequential is not supported at now.\n",
      "Op Sequential is not supported at now.\n",
      "Op Sequential is not supported at now.\n",
      "Op Sequential is not supported at now.\n",
      "Op Sequential is not supported at now.\n",
      "Op Sequential is not supported at now.\n",
      "Op Sequential is not supported at now.\n",
      "Op Sequential is not supported at now.\n",
      "Op Sequential is not supported at now.\n",
      "Op Sequential is not supported at now.\n",
      "Op Sequential is not supported at now.\n",
      "Op Sequential is not supported at now.\n",
      "Op Sequential is not supported at now.\n",
      "Op Sequential is not supported at now.\n",
      "Op Sequential is not supported at now.\n",
      "Op Sequential is not supported at now.\n",
      "Op Sequential is not supported at now.\n",
      "Op Sequential is not supported at now.\n"
     ]
    },
    {
     "name": "stderr",
     "output_type": "stream",
     "text": [
      "Test:  86%|████████▌ | 135/157 [04:26<00:43,  1.96s/it]"
     ]
    },
    {
     "name": "stdout",
     "output_type": "stream",
     "text": [
      "Op Sequential is not supported at now.\n",
      "Op Sequential is not supported at now.\n",
      "Op Sequential is not supported at now.\n",
      "Op Sequential is not supported at now.\n",
      "Op Sequential is not supported at now.\n",
      "Op Sequential is not supported at now.\n",
      "Op Sequential is not supported at now.\n",
      "Op Sequential is not supported at now.\n",
      "Op Sequential is not supported at now.\n",
      "Op Sequential is not supported at now.\n",
      "Op Sequential is not supported at now.\n",
      "Op Sequential is not supported at now.\n",
      "Op Sequential is not supported at now.\n",
      "Op Sequential is not supported at now.\n",
      "Op Sequential is not supported at now.\n",
      "Op Sequential is not supported at now.\n",
      "Op Sequential is not supported at now.\n",
      "Op Sequential is not supported at now.\n",
      "Op Sequential is not supported at now.\n",
      "Op Sequential is not supported at now.\n"
     ]
    },
    {
     "name": "stderr",
     "output_type": "stream",
     "text": [
      "Test:  87%|████████▋ | 136/157 [04:28<00:41,  1.96s/it]"
     ]
    },
    {
     "name": "stdout",
     "output_type": "stream",
     "text": [
      "Op Sequential is not supported at now.\n",
      "Op Sequential is not supported at now.\n",
      "Op Sequential is not supported at now.\n",
      "Op Sequential is not supported at now.\n",
      "Op Sequential is not supported at now.\n",
      "Op Sequential is not supported at now.\n",
      "Op Sequential is not supported at now.\n",
      "Op Sequential is not supported at now.\n",
      "Op Sequential is not supported at now.\n",
      "Op Sequential is not supported at now.\n",
      "Op Sequential is not supported at now.\n",
      "Op Sequential is not supported at now.\n",
      "Op Sequential is not supported at now.\n",
      "Op Sequential is not supported at now.\n",
      "Op Sequential is not supported at now.\n",
      "Op Sequential is not supported at now.\n",
      "Op Sequential is not supported at now.\n",
      "Op Sequential is not supported at now.\n",
      "Op Sequential is not supported at now.\n",
      "Op Sequential is not supported at now.\n"
     ]
    },
    {
     "name": "stderr",
     "output_type": "stream",
     "text": [
      "Test:  87%|████████▋ | 137/157 [04:30<00:39,  1.97s/it]"
     ]
    },
    {
     "name": "stdout",
     "output_type": "stream",
     "text": [
      "Op Sequential is not supported at now.\n",
      "Op Sequential is not supported at now.\n",
      "Op Sequential is not supported at now.\n",
      "Op Sequential is not supported at now.\n",
      "Op Sequential is not supported at now.\n",
      "Op Sequential is not supported at now.\n",
      "Op Sequential is not supported at now.\n",
      "Op Sequential is not supported at now.\n",
      "Op Sequential is not supported at now.\n",
      "Op Sequential is not supported at now.\n",
      "Op Sequential is not supported at now.\n",
      "Op Sequential is not supported at now.\n",
      "Op Sequential is not supported at now.\n",
      "Op Sequential is not supported at now.\n",
      "Op Sequential is not supported at now.\n",
      "Op Sequential is not supported at now.\n",
      "Op Sequential is not supported at now.\n",
      "Op Sequential is not supported at now.\n",
      "Op Sequential is not supported at now.\n",
      "Op Sequential is not supported at now.\n"
     ]
    },
    {
     "name": "stderr",
     "output_type": "stream",
     "text": [
      "Test:  88%|████████▊ | 138/157 [04:32<00:37,  1.96s/it]"
     ]
    },
    {
     "name": "stdout",
     "output_type": "stream",
     "text": [
      "Op Sequential is not supported at now.\n",
      "Op Sequential is not supported at now.\n",
      "Op Sequential is not supported at now.\n",
      "Op Sequential is not supported at now.\n",
      "Op Sequential is not supported at now.\n",
      "Op Sequential is not supported at now.\n",
      "Op Sequential is not supported at now.\n",
      "Op Sequential is not supported at now.\n",
      "Op Sequential is not supported at now.\n",
      "Op Sequential is not supported at now.\n",
      "Op Sequential is not supported at now.\n",
      "Op Sequential is not supported at now.\n",
      "Op Sequential is not supported at now.\n",
      "Op Sequential is not supported at now.\n",
      "Op Sequential is not supported at now.\n",
      "Op Sequential is not supported at now.\n",
      "Op Sequential is not supported at now.\n",
      "Op Sequential is not supported at now.\n",
      "Op Sequential is not supported at now.\n",
      "Op Sequential is not supported at now.\n"
     ]
    },
    {
     "name": "stderr",
     "output_type": "stream",
     "text": [
      "Test:  89%|████████▊ | 139/157 [04:34<00:35,  1.98s/it]"
     ]
    },
    {
     "name": "stdout",
     "output_type": "stream",
     "text": [
      "Op Sequential is not supported at now.\n",
      "Op Sequential is not supported at now.\n",
      "Op Sequential is not supported at now.\n",
      "Op Sequential is not supported at now.\n",
      "Op Sequential is not supported at now.\n",
      "Op Sequential is not supported at now.\n",
      "Op Sequential is not supported at now.\n",
      "Op Sequential is not supported at now.\n",
      "Op Sequential is not supported at now.\n",
      "Op Sequential is not supported at now.\n",
      "Op Sequential is not supported at now.\n",
      "Op Sequential is not supported at now.\n",
      "Op Sequential is not supported at now.\n",
      "Op Sequential is not supported at now.\n",
      "Op Sequential is not supported at now.\n",
      "Op Sequential is not supported at now.\n",
      "Op Sequential is not supported at now.\n",
      "Op Sequential is not supported at now.\n",
      "Op Sequential is not supported at now.\n",
      "Op Sequential is not supported at now.\n"
     ]
    },
    {
     "name": "stderr",
     "output_type": "stream",
     "text": [
      "Test:  89%|████████▉ | 140/157 [04:36<00:33,  1.98s/it]"
     ]
    },
    {
     "name": "stdout",
     "output_type": "stream",
     "text": [
      "Op Sequential is not supported at now.\n",
      "Op Sequential is not supported at now.\n",
      "Op Sequential is not supported at now.\n",
      "Op Sequential is not supported at now.\n",
      "Op Sequential is not supported at now.\n",
      "Op Sequential is not supported at now.\n",
      "Op Sequential is not supported at now.\n",
      "Op Sequential is not supported at now.\n",
      "Op Sequential is not supported at now.\n",
      "Op Sequential is not supported at now.\n",
      "Op Sequential is not supported at now.\n",
      "Op Sequential is not supported at now.\n",
      "Op Sequential is not supported at now.\n",
      "Op Sequential is not supported at now.\n",
      "Op Sequential is not supported at now.\n",
      "Op Sequential is not supported at now.\n",
      "Op Sequential is not supported at now.\n",
      "Op Sequential is not supported at now.\n",
      "Op Sequential is not supported at now.\n",
      "Op Sequential is not supported at now.\n"
     ]
    },
    {
     "name": "stderr",
     "output_type": "stream",
     "text": [
      "Test:  90%|████████▉ | 141/157 [04:38<00:31,  1.97s/it]"
     ]
    },
    {
     "name": "stdout",
     "output_type": "stream",
     "text": [
      "Op Sequential is not supported at now.\n",
      "Op Sequential is not supported at now.\n",
      "Op Sequential is not supported at now.\n",
      "Op Sequential is not supported at now.\n",
      "Op Sequential is not supported at now.\n",
      "Op Sequential is not supported at now.\n",
      "Op Sequential is not supported at now.\n",
      "Op Sequential is not supported at now.\n",
      "Op Sequential is not supported at now.\n",
      "Op Sequential is not supported at now.\n",
      "Op Sequential is not supported at now.\n",
      "Op Sequential is not supported at now.\n",
      "Op Sequential is not supported at now.\n",
      "Op Sequential is not supported at now.\n",
      "Op Sequential is not supported at now.\n",
      "Op Sequential is not supported at now.\n",
      "Op Sequential is not supported at now.\n",
      "Op Sequential is not supported at now.\n",
      "Op Sequential is not supported at now.\n",
      "Op Sequential is not supported at now.\n"
     ]
    },
    {
     "name": "stderr",
     "output_type": "stream",
     "text": [
      "Test:  90%|█████████ | 142/157 [04:40<00:29,  1.99s/it]"
     ]
    },
    {
     "name": "stdout",
     "output_type": "stream",
     "text": [
      "Op Sequential is not supported at now.\n",
      "Op Sequential is not supported at now.\n",
      "Op Sequential is not supported at now.\n",
      "Op Sequential is not supported at now.\n",
      "Op Sequential is not supported at now.\n",
      "Op Sequential is not supported at now.\n",
      "Op Sequential is not supported at now.\n",
      "Op Sequential is not supported at now.\n",
      "Op Sequential is not supported at now.\n",
      "Op Sequential is not supported at now.\n",
      "Op Sequential is not supported at now.\n",
      "Op Sequential is not supported at now.\n",
      "Op Sequential is not supported at now.\n",
      "Op Sequential is not supported at now.\n",
      "Op Sequential is not supported at now.\n",
      "Op Sequential is not supported at now.\n",
      "Op Sequential is not supported at now.\n",
      "Op Sequential is not supported at now.\n",
      "Op Sequential is not supported at now.\n",
      "Op Sequential is not supported at now.\n"
     ]
    },
    {
     "name": "stderr",
     "output_type": "stream",
     "text": [
      "Test:  91%|█████████ | 143/157 [04:42<00:28,  2.01s/it]"
     ]
    },
    {
     "name": "stdout",
     "output_type": "stream",
     "text": [
      "Op Sequential is not supported at now.\n",
      "Op Sequential is not supported at now.\n",
      "Op Sequential is not supported at now.\n",
      "Op Sequential is not supported at now.\n",
      "Op Sequential is not supported at now.\n",
      "Op Sequential is not supported at now.\n",
      "Op Sequential is not supported at now.\n",
      "Op Sequential is not supported at now.\n",
      "Op Sequential is not supported at now.\n",
      "Op Sequential is not supported at now.\n",
      "Op Sequential is not supported at now.\n",
      "Op Sequential is not supported at now.\n",
      "Op Sequential is not supported at now.\n",
      "Op Sequential is not supported at now.\n",
      "Op Sequential is not supported at now.\n",
      "Op Sequential is not supported at now.\n",
      "Op Sequential is not supported at now.\n",
      "Op Sequential is not supported at now.\n",
      "Op Sequential is not supported at now.\n",
      "Op Sequential is not supported at now.\n"
     ]
    },
    {
     "name": "stderr",
     "output_type": "stream",
     "text": [
      "Test:  92%|█████████▏| 144/157 [04:44<00:25,  1.99s/it]"
     ]
    },
    {
     "name": "stdout",
     "output_type": "stream",
     "text": [
      "Op Sequential is not supported at now.\n",
      "Op Sequential is not supported at now.\n",
      "Op Sequential is not supported at now.\n",
      "Op Sequential is not supported at now.\n",
      "Op Sequential is not supported at now.\n",
      "Op Sequential is not supported at now.\n",
      "Op Sequential is not supported at now.\n",
      "Op Sequential is not supported at now.\n",
      "Op Sequential is not supported at now.\n",
      "Op Sequential is not supported at now.\n",
      "Op Sequential is not supported at now.\n",
      "Op Sequential is not supported at now.\n",
      "Op Sequential is not supported at now.\n",
      "Op Sequential is not supported at now.\n",
      "Op Sequential is not supported at now.\n",
      "Op Sequential is not supported at now.\n",
      "Op Sequential is not supported at now.\n",
      "Op Sequential is not supported at now.\n",
      "Op Sequential is not supported at now.\n",
      "Op Sequential is not supported at now.\n"
     ]
    },
    {
     "name": "stderr",
     "output_type": "stream",
     "text": [
      "Test:  92%|█████████▏| 145/157 [04:46<00:23,  2.00s/it]"
     ]
    },
    {
     "name": "stdout",
     "output_type": "stream",
     "text": [
      "Op Sequential is not supported at now.\n",
      "Op Sequential is not supported at now.\n",
      "Op Sequential is not supported at now.\n",
      "Op Sequential is not supported at now.\n",
      "Op Sequential is not supported at now.\n",
      "Op Sequential is not supported at now.\n",
      "Op Sequential is not supported at now.\n",
      "Op Sequential is not supported at now.\n",
      "Op Sequential is not supported at now.\n",
      "Op Sequential is not supported at now.\n",
      "Op Sequential is not supported at now.\n",
      "Op Sequential is not supported at now.\n",
      "Op Sequential is not supported at now.\n",
      "Op Sequential is not supported at now.\n",
      "Op Sequential is not supported at now.\n",
      "Op Sequential is not supported at now.\n",
      "Op Sequential is not supported at now.\n",
      "Op Sequential is not supported at now.\n",
      "Op Sequential is not supported at now.\n",
      "Op Sequential is not supported at now.\n"
     ]
    },
    {
     "name": "stderr",
     "output_type": "stream",
     "text": [
      "Test:  93%|█████████▎| 146/157 [04:48<00:21,  1.99s/it]"
     ]
    },
    {
     "name": "stdout",
     "output_type": "stream",
     "text": [
      "Op Sequential is not supported at now.\n",
      "Op Sequential is not supported at now.\n",
      "Op Sequential is not supported at now.\n",
      "Op Sequential is not supported at now.\n",
      "Op Sequential is not supported at now.\n",
      "Op Sequential is not supported at now.\n",
      "Op Sequential is not supported at now.\n",
      "Op Sequential is not supported at now.\n",
      "Op Sequential is not supported at now.\n",
      "Op Sequential is not supported at now.\n",
      "Op Sequential is not supported at now.\n",
      "Op Sequential is not supported at now.\n",
      "Op Sequential is not supported at now.\n",
      "Op Sequential is not supported at now.\n",
      "Op Sequential is not supported at now.\n",
      "Op Sequential is not supported at now.\n",
      "Op Sequential is not supported at now.\n",
      "Op Sequential is not supported at now.\n",
      "Op Sequential is not supported at now.\n",
      "Op Sequential is not supported at now.\n"
     ]
    },
    {
     "name": "stderr",
     "output_type": "stream",
     "text": [
      "Test:  94%|█████████▎| 147/157 [04:50<00:19,  1.99s/it]"
     ]
    },
    {
     "name": "stdout",
     "output_type": "stream",
     "text": [
      "Op Sequential is not supported at now.\n",
      "Op Sequential is not supported at now.\n",
      "Op Sequential is not supported at now.\n",
      "Op Sequential is not supported at now.\n",
      "Op Sequential is not supported at now.\n",
      "Op Sequential is not supported at now.\n",
      "Op Sequential is not supported at now.\n",
      "Op Sequential is not supported at now.\n",
      "Op Sequential is not supported at now.\n",
      "Op Sequential is not supported at now.\n",
      "Op Sequential is not supported at now.\n",
      "Op Sequential is not supported at now.\n",
      "Op Sequential is not supported at now.\n",
      "Op Sequential is not supported at now.\n",
      "Op Sequential is not supported at now.\n",
      "Op Sequential is not supported at now.\n",
      "Op Sequential is not supported at now.\n",
      "Op Sequential is not supported at now.\n",
      "Op Sequential is not supported at now.\n",
      "Op Sequential is not supported at now.\n"
     ]
    },
    {
     "name": "stderr",
     "output_type": "stream",
     "text": [
      "Test:  94%|█████████▍| 148/157 [04:52<00:18,  2.01s/it]"
     ]
    },
    {
     "name": "stdout",
     "output_type": "stream",
     "text": [
      "Op Sequential is not supported at now.\n",
      "Op Sequential is not supported at now.\n",
      "Op Sequential is not supported at now.\n",
      "Op Sequential is not supported at now.\n",
      "Op Sequential is not supported at now.\n",
      "Op Sequential is not supported at now.\n",
      "Op Sequential is not supported at now.\n",
      "Op Sequential is not supported at now.\n",
      "Op Sequential is not supported at now.\n",
      "Op Sequential is not supported at now.\n",
      "Op Sequential is not supported at now.\n",
      "Op Sequential is not supported at now.\n",
      "Op Sequential is not supported at now.\n",
      "Op Sequential is not supported at now.\n",
      "Op Sequential is not supported at now.\n",
      "Op Sequential is not supported at now.\n",
      "Op Sequential is not supported at now.\n",
      "Op Sequential is not supported at now.\n",
      "Op Sequential is not supported at now.\n",
      "Op Sequential is not supported at now.\n"
     ]
    },
    {
     "name": "stderr",
     "output_type": "stream",
     "text": [
      "Test:  95%|█████████▍| 149/157 [04:54<00:15,  2.00s/it]"
     ]
    },
    {
     "name": "stdout",
     "output_type": "stream",
     "text": [
      "Op Sequential is not supported at now.\n",
      "Op Sequential is not supported at now.\n",
      "Op Sequential is not supported at now.\n",
      "Op Sequential is not supported at now.\n",
      "Op Sequential is not supported at now.\n",
      "Op Sequential is not supported at now.\n",
      "Op Sequential is not supported at now.\n",
      "Op Sequential is not supported at now.\n",
      "Op Sequential is not supported at now.\n",
      "Op Sequential is not supported at now.\n",
      "Op Sequential is not supported at now.\n",
      "Op Sequential is not supported at now.\n",
      "Op Sequential is not supported at now.\n",
      "Op Sequential is not supported at now.\n",
      "Op Sequential is not supported at now.\n",
      "Op Sequential is not supported at now.\n",
      "Op Sequential is not supported at now.\n",
      "Op Sequential is not supported at now.\n",
      "Op Sequential is not supported at now.\n",
      "Op Sequential is not supported at now.\n"
     ]
    },
    {
     "name": "stderr",
     "output_type": "stream",
     "text": [
      "Test:  96%|█████████▌| 150/157 [04:56<00:13,  1.99s/it]"
     ]
    },
    {
     "name": "stdout",
     "output_type": "stream",
     "text": [
      "Op Sequential is not supported at now.\n",
      "Op Sequential is not supported at now.\n",
      "Op Sequential is not supported at now.\n",
      "Op Sequential is not supported at now.\n",
      "Op Sequential is not supported at now.\n",
      "Op Sequential is not supported at now.\n",
      "Op Sequential is not supported at now.\n",
      "Op Sequential is not supported at now.\n",
      "Op Sequential is not supported at now.\n",
      "Op Sequential is not supported at now.\n",
      "Op Sequential is not supported at now.\n",
      "Op Sequential is not supported at now.\n",
      "Op Sequential is not supported at now.\n",
      "Op Sequential is not supported at now.\n",
      "Op Sequential is not supported at now.\n",
      "Op Sequential is not supported at now.\n",
      "Op Sequential is not supported at now.\n",
      "Op Sequential is not supported at now.\n",
      "Op Sequential is not supported at now.\n",
      "Op Sequential is not supported at now.\n"
     ]
    },
    {
     "name": "stderr",
     "output_type": "stream",
     "text": [
      "Test:  96%|█████████▌| 151/157 [04:58<00:12,  2.05s/it]"
     ]
    },
    {
     "name": "stdout",
     "output_type": "stream",
     "text": [
      "Op Sequential is not supported at now.\n",
      "Op Sequential is not supported at now.\n",
      "Op Sequential is not supported at now.\n",
      "Op Sequential is not supported at now.\n",
      "Op Sequential is not supported at now.\n",
      "Op Sequential is not supported at now.\n",
      "Op Sequential is not supported at now.\n",
      "Op Sequential is not supported at now.\n",
      "Op Sequential is not supported at now.\n",
      "Op Sequential is not supported at now.\n",
      "Op Sequential is not supported at now.\n",
      "Op Sequential is not supported at now.\n",
      "Op Sequential is not supported at now.\n",
      "Op Sequential is not supported at now.\n",
      "Op Sequential is not supported at now.\n",
      "Op Sequential is not supported at now.\n",
      "Op Sequential is not supported at now.\n",
      "Op Sequential is not supported at now.\n",
      "Op Sequential is not supported at now.\n",
      "Op Sequential is not supported at now.\n"
     ]
    },
    {
     "name": "stderr",
     "output_type": "stream",
     "text": [
      "Test:  97%|█████████▋| 152/157 [05:00<00:10,  2.10s/it]"
     ]
    },
    {
     "name": "stdout",
     "output_type": "stream",
     "text": [
      "Op Sequential is not supported at now.\n",
      "Op Sequential is not supported at now.\n",
      "Op Sequential is not supported at now.\n",
      "Op Sequential is not supported at now.\n",
      "Op Sequential is not supported at now.\n",
      "Op Sequential is not supported at now.\n",
      "Op Sequential is not supported at now.\n",
      "Op Sequential is not supported at now.\n",
      "Op Sequential is not supported at now.\n",
      "Op Sequential is not supported at now.\n",
      "Op Sequential is not supported at now.\n",
      "Op Sequential is not supported at now.\n",
      "Op Sequential is not supported at now.\n",
      "Op Sequential is not supported at now.\n",
      "Op Sequential is not supported at now.\n",
      "Op Sequential is not supported at now.\n",
      "Op Sequential is not supported at now.\n",
      "Op Sequential is not supported at now.\n",
      "Op Sequential is not supported at now.\n",
      "Op Sequential is not supported at now.\n"
     ]
    },
    {
     "name": "stderr",
     "output_type": "stream",
     "text": [
      "Test:  97%|█████████▋| 153/157 [05:02<00:08,  2.09s/it]"
     ]
    },
    {
     "name": "stdout",
     "output_type": "stream",
     "text": [
      "Op Sequential is not supported at now.\n",
      "Op Sequential is not supported at now.\n",
      "Op Sequential is not supported at now.\n",
      "Op Sequential is not supported at now.\n",
      "Op Sequential is not supported at now.\n",
      "Op Sequential is not supported at now.\n",
      "Op Sequential is not supported at now.\n",
      "Op Sequential is not supported at now.\n",
      "Op Sequential is not supported at now.\n",
      "Op Sequential is not supported at now.\n",
      "Op Sequential is not supported at now.\n",
      "Op Sequential is not supported at now.\n",
      "Op Sequential is not supported at now.\n",
      "Op Sequential is not supported at now.\n",
      "Op Sequential is not supported at now.\n",
      "Op Sequential is not supported at now.\n",
      "Op Sequential is not supported at now.\n",
      "Op Sequential is not supported at now.\n",
      "Op Sequential is not supported at now.\n",
      "Op Sequential is not supported at now.\n"
     ]
    },
    {
     "name": "stderr",
     "output_type": "stream",
     "text": [
      "Test:  98%|█████████▊| 154/157 [05:05<00:06,  2.07s/it]"
     ]
    },
    {
     "name": "stdout",
     "output_type": "stream",
     "text": [
      "Op Sequential is not supported at now.\n",
      "Op Sequential is not supported at now.\n",
      "Op Sequential is not supported at now.\n",
      "Op Sequential is not supported at now.\n",
      "Op Sequential is not supported at now.\n",
      "Op Sequential is not supported at now.\n",
      "Op Sequential is not supported at now.\n",
      "Op Sequential is not supported at now.\n",
      "Op Sequential is not supported at now.\n",
      "Op Sequential is not supported at now.\n",
      "Op Sequential is not supported at now.\n",
      "Op Sequential is not supported at now.\n",
      "Op Sequential is not supported at now.\n",
      "Op Sequential is not supported at now.\n",
      "Op Sequential is not supported at now.\n",
      "Op Sequential is not supported at now.\n",
      "Op Sequential is not supported at now.\n",
      "Op Sequential is not supported at now.\n",
      "Op Sequential is not supported at now.\n",
      "Op Sequential is not supported at now.\n"
     ]
    },
    {
     "name": "stderr",
     "output_type": "stream",
     "text": [
      "Test:  99%|█████████▊| 155/157 [05:06<00:04,  2.04s/it]"
     ]
    },
    {
     "name": "stdout",
     "output_type": "stream",
     "text": [
      "Op Sequential is not supported at now.\n",
      "Op Sequential is not supported at now.\n",
      "Op Sequential is not supported at now.\n",
      "Op Sequential is not supported at now.\n",
      "Op Sequential is not supported at now.\n",
      "Op Sequential is not supported at now.\n",
      "Op Sequential is not supported at now.\n",
      "Op Sequential is not supported at now.\n",
      "Op Sequential is not supported at now.\n",
      "Op Sequential is not supported at now.\n",
      "Op Sequential is not supported at now.\n",
      "Op Sequential is not supported at now.\n",
      "Op Sequential is not supported at now.\n",
      "Op Sequential is not supported at now.\n",
      "Op Sequential is not supported at now.\n",
      "Op Sequential is not supported at now.\n",
      "Op Sequential is not supported at now.\n",
      "Op Sequential is not supported at now.\n",
      "Op Sequential is not supported at now.\n",
      "Op Sequential is not supported at now.\n"
     ]
    },
    {
     "name": "stderr",
     "output_type": "stream",
     "text": [
      "Test:  99%|█████████▉| 156/157 [05:08<00:02,  2.01s/it]"
     ]
    },
    {
     "name": "stdout",
     "output_type": "stream",
     "text": [
      "Op Sequential is not supported at now.\n",
      "Op Sequential is not supported at now.\n",
      "Op Sequential is not supported at now.\n",
      "Op Sequential is not supported at now.\n",
      "Op Sequential is not supported at now.\n",
      "Op Sequential is not supported at now.\n",
      "Op Sequential is not supported at now.\n",
      "Op Sequential is not supported at now.\n",
      "Op Sequential is not supported at now.\n",
      "Op Sequential is not supported at now.\n",
      "Op Sequential is not supported at now.\n",
      "Op Sequential is not supported at now.\n",
      "Op Sequential is not supported at now.\n",
      "Op Sequential is not supported at now.\n",
      "Op Sequential is not supported at now.\n",
      "Op Sequential is not supported at now.\n",
      "Op Sequential is not supported at now.\n",
      "Op Sequential is not supported at now.\n",
      "Op Sequential is not supported at now.\n"
     ]
    },
    {
     "name": "stderr",
     "output_type": "stream",
     "text": [
      "Test: 100%|██████████| 157/157 [05:09<00:00,  1.97s/it]"
     ]
    },
    {
     "name": "stdout",
     "output_type": "stream",
     "text": [
      "Op Sequential is not supported at now.\n",
      "Op Sequential is not supported at now.\n",
      "Op Sequential is not supported at now.\n",
      "Test loss: -6.2949\n",
      "Test score: 48.3877\n",
      "Could not calculate FLOPS\n"
     ]
    },
    {
     "name": "stderr",
     "output_type": "stream",
     "text": [
      "\n"
     ]
    },
    {
     "name": "stdout",
     "output_type": "stream",
     "text": [
      "Op Sequential is not supported at now.\n",
      "Op Sequential is not supported at now.\n",
      "Op Sequential is not supported at now.\n",
      "Op Sequential is not supported at now.\n",
      "Op Sequential is not supported at now.\n",
      "Op Sequential is not supported at now.\n",
      "Op Sequential is not supported at now.\n",
      "Op Sequential is not supported at now.\n",
      "Op Sequential is not supported at now.\n",
      "Op Sequential is not supported at now.\n",
      "Op Sequential is not supported at now.\n",
      "Op Sequential is not supported at now.\n",
      "Op Sequential is not supported at now.\n",
      "Op Sequential is not supported at now.\n",
      "Op Sequential is not supported at now.\n",
      "Op Sequential is not supported at now.\n",
      "Op Sequential is not supported at now.\n",
      "Op Sequential is not supported at now.\n",
      "Op Sequential is not supported at now.\n",
      "Op Sequential is not supported at now.\n",
      "==================================== RESULTS ===================================\n",
      "Loss: -10.791916\n",
      "Score: 95.322452\n",
      "Time per data point: 174.4601 ms\n",
      "Model Size: 90.02 MB\n",
      "Number of parameters: 23520842\n",
      "Number of FLOPs: 1304694784\n",
      "Number of MACs: 1304694784\n",
      "================================================================================\n"
     ]
    }
   ],
   "source": [
    "magnitude_pruned_results = eval.get_results(model, dataset)\n",
    "plot.print_results(**before_results)"
   ]
  },
  {
   "cell_type": "code",
   "execution_count": 19,
   "metadata": {},
   "outputs": [
    {
     "name": "stdout",
     "output_type": "stream",
     "text": [
      "============================= RESULTS BEFORE & AFTER ===========================\n",
      "Loss: -10.791916 -> -6.294905 (-41.67%)\n",
      "Score: 95.322452 -> 48.387739 (-49.24%)\n",
      "Time per data point: 174.4601 ms -> 123.2721 ms (-29.34%)\n",
      "Model Size: 90.02 MB -> 57.53 MB (-36.09%)\n",
      "Number of parameters: 23520842 -> 15016264 (-36.16%)\n",
      "Number of FLOPs: 1304694784 -> -1 (-100.00%)\n",
      "Number of MACs: 1304694784 -> 835498188 (-35.96%)\n",
      "================================================================================\n"
     ]
    }
   ],
   "source": [
    "plot.print_before_after_results(before_results, magnitude_pruned_results)"
   ]
  },
  {
   "cell_type": "code",
   "execution_count": 16,
   "metadata": {},
   "outputs": [
    {
     "name": "stderr",
     "output_type": "stream",
     "text": [
      "Train: 100%|██████████| 782/782 [05:24<00:00,  2.41it/s]\n"
     ]
    },
    {
     "name": "stdout",
     "output_type": "stream",
     "text": [
      "Train loss: -428658.7833\n",
      "Train score: 27.2498\n"
     ]
    },
    {
     "name": "stderr",
     "output_type": "stream",
     "text": [
      "Train: 100%|██████████| 782/782 [03:41<00:00,  3.53it/s]\n"
     ]
    },
    {
     "name": "stdout",
     "output_type": "stream",
     "text": [
      "Train loss: -6314159519977.1807\n",
      "Train score: 11.7587\n"
     ]
    },
    {
     "name": "stderr",
     "output_type": "stream",
     "text": [
      "Train: 100%|██████████| 782/782 [02:01<00:00,  6.45it/s]"
     ]
    },
    {
     "name": "stdout",
     "output_type": "stream",
     "text": [
      "Train loss: -68383201205360295936.0000\n",
      "Train score: 9.9365\n"
     ]
    },
    {
     "name": "stderr",
     "output_type": "stream",
     "text": [
      "\n"
     ]
    },
    {
     "data": {
      "text/plain": [
       "ResNet(\n",
       "  (conv1): Conv2d(3, 12, kernel_size=(3, 3), stride=(1, 1), padding=(1, 1), bias=False)\n",
       "  (bn1): BatchNorm2d(12, eps=1e-05, momentum=0.1, affine=True, track_running_stats=True)\n",
       "  (relu): ReLU(inplace=True)\n",
       "  (maxpool): MaxPool2d(kernel_size=3, stride=2, padding=1, dilation=1, ceil_mode=False)\n",
       "  (layer1): Sequential(\n",
       "    (0): BasicBlock(\n",
       "      (conv1): Conv2d(12, 12, kernel_size=(3, 3), stride=(1, 1), padding=(1, 1), bias=False)\n",
       "      (bn1): BatchNorm2d(12, eps=1e-05, momentum=0.1, affine=True, track_running_stats=True)\n",
       "      (relu): ReLU(inplace=True)\n",
       "      (conv2): Conv2d(12, 12, kernel_size=(3, 3), stride=(1, 1), padding=(1, 1), bias=False)\n",
       "      (bn2): BatchNorm2d(12, eps=1e-05, momentum=0.1, affine=True, track_running_stats=True)\n",
       "    )\n",
       "    (1): BasicBlock(\n",
       "      (conv1): Conv2d(12, 12, kernel_size=(3, 3), stride=(1, 1), padding=(1, 1), bias=False)\n",
       "      (bn1): BatchNorm2d(12, eps=1e-05, momentum=0.1, affine=True, track_running_stats=True)\n",
       "      (relu): ReLU(inplace=True)\n",
       "      (conv2): Conv2d(12, 12, kernel_size=(3, 3), stride=(1, 1), padding=(1, 1), bias=False)\n",
       "      (bn2): BatchNorm2d(12, eps=1e-05, momentum=0.1, affine=True, track_running_stats=True)\n",
       "    )\n",
       "  )\n",
       "  (layer2): Sequential(\n",
       "    (0): BasicBlock(\n",
       "      (conv1): Conv2d(12, 25, kernel_size=(3, 3), stride=(2, 2), padding=(1, 1), bias=False)\n",
       "      (bn1): BatchNorm2d(25, eps=1e-05, momentum=0.1, affine=True, track_running_stats=True)\n",
       "      (relu): ReLU(inplace=True)\n",
       "      (conv2): Conv2d(25, 25, kernel_size=(3, 3), stride=(1, 1), padding=(1, 1), bias=False)\n",
       "      (bn2): BatchNorm2d(25, eps=1e-05, momentum=0.1, affine=True, track_running_stats=True)\n",
       "      (downsample): Sequential(\n",
       "        (0): Conv2d(12, 25, kernel_size=(1, 1), stride=(2, 2), bias=False)\n",
       "        (1): BatchNorm2d(25, eps=1e-05, momentum=0.1, affine=True, track_running_stats=True)\n",
       "      )\n",
       "    )\n",
       "    (1): BasicBlock(\n",
       "      (conv1): Conv2d(25, 25, kernel_size=(3, 3), stride=(1, 1), padding=(1, 1), bias=False)\n",
       "      (bn1): BatchNorm2d(25, eps=1e-05, momentum=0.1, affine=True, track_running_stats=True)\n",
       "      (relu): ReLU(inplace=True)\n",
       "      (conv2): Conv2d(25, 25, kernel_size=(3, 3), stride=(1, 1), padding=(1, 1), bias=False)\n",
       "      (bn2): BatchNorm2d(25, eps=1e-05, momentum=0.1, affine=True, track_running_stats=True)\n",
       "    )\n",
       "  )\n",
       "  (layer3): Sequential(\n",
       "    (0): BasicBlock(\n",
       "      (conv1): Conv2d(25, 51, kernel_size=(3, 3), stride=(2, 2), padding=(1, 1), bias=False)\n",
       "      (bn1): BatchNorm2d(51, eps=1e-05, momentum=0.1, affine=True, track_running_stats=True)\n",
       "      (relu): ReLU(inplace=True)\n",
       "      (conv2): Conv2d(51, 51, kernel_size=(3, 3), stride=(1, 1), padding=(1, 1), bias=False)\n",
       "      (bn2): BatchNorm2d(51, eps=1e-05, momentum=0.1, affine=True, track_running_stats=True)\n",
       "      (downsample): Sequential(\n",
       "        (0): Conv2d(25, 51, kernel_size=(1, 1), stride=(2, 2), bias=False)\n",
       "        (1): BatchNorm2d(51, eps=1e-05, momentum=0.1, affine=True, track_running_stats=True)\n",
       "      )\n",
       "    )\n",
       "    (1): BasicBlock(\n",
       "      (conv1): Conv2d(51, 51, kernel_size=(3, 3), stride=(1, 1), padding=(1, 1), bias=False)\n",
       "      (bn1): BatchNorm2d(51, eps=1e-05, momentum=0.1, affine=True, track_running_stats=True)\n",
       "      (relu): ReLU(inplace=True)\n",
       "      (conv2): Conv2d(51, 51, kernel_size=(3, 3), stride=(1, 1), padding=(1, 1), bias=False)\n",
       "      (bn2): BatchNorm2d(51, eps=1e-05, momentum=0.1, affine=True, track_running_stats=True)\n",
       "    )\n",
       "  )\n",
       "  (layer4): Sequential(\n",
       "    (0): BasicBlock(\n",
       "      (conv1): Conv2d(51, 102, kernel_size=(3, 3), stride=(2, 2), padding=(1, 1), bias=False)\n",
       "      (bn1): BatchNorm2d(102, eps=1e-05, momentum=0.1, affine=True, track_running_stats=True)\n",
       "      (relu): ReLU(inplace=True)\n",
       "      (conv2): Conv2d(102, 102, kernel_size=(3, 3), stride=(1, 1), padding=(1, 1), bias=False)\n",
       "      (bn2): BatchNorm2d(102, eps=1e-05, momentum=0.1, affine=True, track_running_stats=True)\n",
       "      (downsample): Sequential(\n",
       "        (0): Conv2d(51, 102, kernel_size=(1, 1), stride=(2, 2), bias=False)\n",
       "        (1): BatchNorm2d(102, eps=1e-05, momentum=0.1, affine=True, track_running_stats=True)\n",
       "      )\n",
       "    )\n",
       "    (1): BasicBlock(\n",
       "      (conv1): Conv2d(102, 102, kernel_size=(3, 3), stride=(1, 1), padding=(1, 1), bias=False)\n",
       "      (bn1): BatchNorm2d(102, eps=1e-05, momentum=0.1, affine=True, track_running_stats=True)\n",
       "      (relu): ReLU(inplace=True)\n",
       "      (conv2): Conv2d(102, 102, kernel_size=(3, 3), stride=(1, 1), padding=(1, 1), bias=False)\n",
       "      (bn2): BatchNorm2d(102, eps=1e-05, momentum=0.1, affine=True, track_running_stats=True)\n",
       "    )\n",
       "  )\n",
       "  (avgpool): AdaptiveAvgPool2d(output_size=(1, 1))\n",
       "  (fc): Linear(in_features=102, out_features=10, bias=True)\n",
       ")"
      ]
     },
     "execution_count": 16,
     "metadata": {},
     "output_type": "execute_result"
    }
   ],
   "source": [
    "prune.magnitude_pruning_structured(resnet,dataset, sparsity=0.8, fineTune=True)"
   ]
  },
  {
   "attachments": {},
   "cell_type": "markdown",
   "metadata": {},
   "source": [
    "## Distillation"
   ]
  },
  {
   "cell_type": "code",
   "execution_count": 18,
   "metadata": {},
   "outputs": [
    {
     "name": "stdout",
     "output_type": "stream",
     "text": [
      "Settings: {'fineTune': False, 'epochs': 3}\n",
      "============================= CREATING STUDENT MODEL ===========================\n",
      "Fine-tuning: False\n",
      "================================================================================\n",
      "\n",
      "\n",
      "============================ PERFORMING DISTILLATION ===========================\n",
      "Epoch: 0\n"
     ]
    },
    {
     "name": "stderr",
     "output_type": "stream",
     "text": [
      "Distillation Training:   1%|          | 5/782 [00:01<04:59,  2.59it/s]\n"
     ]
    },
    {
     "ename": "KeyboardInterrupt",
     "evalue": "",
     "output_type": "error",
     "traceback": [
      "\u001b[1;31m---------------------------------------------------------------------------\u001b[0m",
      "\u001b[1;31mKeyboardInterrupt\u001b[0m                         Traceback (most recent call last)",
      "\u001b[1;32mc:\\Users\\pvanstee\\Development\\thesis\\examples\\cifar.ipynb Cell 15\u001b[0m in \u001b[0;36m<cell line: 7>\u001b[1;34m()\u001b[0m\n\u001b[0;32m      <a href='vscode-notebook-cell:/c%3A/Users/pvanstee/Development/thesis/examples/cifar.ipynb#X25sZmlsZQ%3D%3D?line=0'>1</a>\u001b[0m settings \u001b[39m=\u001b[39m {\n\u001b[0;32m      <a href='vscode-notebook-cell:/c%3A/Users/pvanstee/Development/thesis/examples/cifar.ipynb#X25sZmlsZQ%3D%3D?line=1'>2</a>\u001b[0m     \u001b[39m# \"performance_target\": 99,\u001b[39;00m\n\u001b[0;32m      <a href='vscode-notebook-cell:/c%3A/Users/pvanstee/Development/thesis/examples/cifar.ipynb#X25sZmlsZQ%3D%3D?line=2'>3</a>\u001b[0m     \u001b[39m\"\u001b[39m\u001b[39mfineTune\u001b[39m\u001b[39m\"\u001b[39m: \u001b[39mFalse\u001b[39;00m,\n\u001b[0;32m      <a href='vscode-notebook-cell:/c%3A/Users/pvanstee/Development/thesis/examples/cifar.ipynb#X25sZmlsZQ%3D%3D?line=3'>4</a>\u001b[0m     \u001b[39m\"\u001b[39m\u001b[39mepochs\u001b[39m\u001b[39m\"\u001b[39m: \u001b[39m3\u001b[39m,\n\u001b[0;32m      <a href='vscode-notebook-cell:/c%3A/Users/pvanstee/Development/thesis/examples/cifar.ipynb#X25sZmlsZQ%3D%3D?line=4'>5</a>\u001b[0m }\n\u001b[1;32m----> <a href='vscode-notebook-cell:/c%3A/Users/pvanstee/Development/thesis/examples/cifar.ipynb#X25sZmlsZQ%3D%3D?line=6'>7</a>\u001b[0m distilled_model \u001b[39m=\u001b[39m distill\u001b[39m.\u001b[39;49mperform_distillation(resnet, dataset, settings)\n",
      "File \u001b[1;32mc:\\Users\\pvanstee\\Development\\thesis\\examples\\..\\src\\compression\\distillation.py:144\u001b[0m, in \u001b[0;36mperform_distillation\u001b[1;34m(model, dataset, settings)\u001b[0m\n\u001b[0;32m    142\u001b[0m \u001b[39mprint\u001b[39m(\u001b[39m\"\u001b[39m\u001b[39m\\n\u001b[39;00m\u001b[39m\"\u001b[39m)\n\u001b[0;32m    143\u001b[0m plot\u001b[39m.\u001b[39mprint_header(\u001b[39m\"\u001b[39m\u001b[39mPerforming distillation\u001b[39m\u001b[39m\"\u001b[39m)\n\u001b[1;32m--> 144\u001b[0m compressed_model \u001b[39m=\u001b[39m distillation_train_loop(\n\u001b[0;32m    145\u001b[0m     model,\n\u001b[0;32m    146\u001b[0m     student_model,\n\u001b[0;32m    147\u001b[0m     dataset\u001b[39m.\u001b[39;49mtrain_loader,\n\u001b[0;32m    148\u001b[0m     dataset\u001b[39m.\u001b[39;49mtest_loader,\n\u001b[0;32m    149\u001b[0m     distil_criterion,\n\u001b[0;32m    150\u001b[0m     eval_criterion,\n\u001b[0;32m    151\u001b[0m     eval_metric,\n\u001b[0;32m    152\u001b[0m     optimizer,\n\u001b[0;32m    153\u001b[0m     epochs\u001b[39m=\u001b[39;49mepochs,\n\u001b[0;32m    154\u001b[0m     threshold\u001b[39m=\u001b[39;49mperformance_target,\n\u001b[0;32m    155\u001b[0m )\n\u001b[0;32m    156\u001b[0m plot\u001b[39m.\u001b[39mprint_header()\n\u001b[0;32m    158\u001b[0m \u001b[39mreturn\u001b[39;00m compressed_model\n",
      "File \u001b[1;32mc:\\Users\\pvanstee\\Development\\thesis\\examples\\..\\src\\compression\\distillation.py:98\u001b[0m, in \u001b[0;36mdistillation_train_loop\u001b[1;34m(teacher, student, train_data, test_data, distil_criterion, eval_criterion, eval_metric, optimizer, epochs, threshold)\u001b[0m\n\u001b[0;32m     95\u001b[0m \u001b[39mprint\u001b[39m(\u001b[39m\"\u001b[39m\u001b[39mEpoch: \u001b[39m\u001b[39m{}\u001b[39;00m\u001b[39m\"\u001b[39m\u001b[39m.\u001b[39mformat(epoch))\n\u001b[0;32m     97\u001b[0m \u001b[39m# Train the student model\u001b[39;00m\n\u001b[1;32m---> 98\u001b[0m distill_loss \u001b[39m=\u001b[39m train(teacher, student, train_data, distil_criterion, optimizer)\n\u001b[0;32m     99\u001b[0m \u001b[39mprint\u001b[39m(\u001b[39m\"\u001b[39m\u001b[39mDistillation loss: \u001b[39m\u001b[39m{}\u001b[39;00m\u001b[39m\"\u001b[39m\u001b[39m.\u001b[39mformat(distill_loss\u001b[39m.\u001b[39mitem()))\n\u001b[0;32m    101\u001b[0m \u001b[39m# Validate the student model\u001b[39;00m\n",
      "File \u001b[1;32mc:\\Users\\pvanstee\\Development\\thesis\\examples\\..\\src\\compression\\distillation.py:44\u001b[0m, in \u001b[0;36mtrain\u001b[1;34m(teacher, student, train_data, distil_criterion, optimizer)\u001b[0m\n\u001b[0;32m     42\u001b[0m \u001b[39m# Compute the loss and gradient\u001b[39;00m\n\u001b[0;32m     43\u001b[0m distill_loss \u001b[39m=\u001b[39m distil_criterion(output, soft_target\u001b[39m.\u001b[39mdetach())\n\u001b[1;32m---> 44\u001b[0m distill_loss\u001b[39m.\u001b[39;49mbackward()\n\u001b[0;32m     46\u001b[0m \u001b[39m# Update the student model's parameters\u001b[39;00m\n\u001b[0;32m     47\u001b[0m optimizer\u001b[39m.\u001b[39mstep()\n",
      "File \u001b[1;32m~\\AppData\\Roaming\\Python\\Python39\\site-packages\\torch\\_tensor.py:487\u001b[0m, in \u001b[0;36mTensor.backward\u001b[1;34m(self, gradient, retain_graph, create_graph, inputs)\u001b[0m\n\u001b[0;32m    477\u001b[0m \u001b[39mif\u001b[39;00m has_torch_function_unary(\u001b[39mself\u001b[39m):\n\u001b[0;32m    478\u001b[0m     \u001b[39mreturn\u001b[39;00m handle_torch_function(\n\u001b[0;32m    479\u001b[0m         Tensor\u001b[39m.\u001b[39mbackward,\n\u001b[0;32m    480\u001b[0m         (\u001b[39mself\u001b[39m,),\n\u001b[1;32m   (...)\u001b[0m\n\u001b[0;32m    485\u001b[0m         inputs\u001b[39m=\u001b[39minputs,\n\u001b[0;32m    486\u001b[0m     )\n\u001b[1;32m--> 487\u001b[0m torch\u001b[39m.\u001b[39;49mautograd\u001b[39m.\u001b[39;49mbackward(\n\u001b[0;32m    488\u001b[0m     \u001b[39mself\u001b[39;49m, gradient, retain_graph, create_graph, inputs\u001b[39m=\u001b[39;49minputs\n\u001b[0;32m    489\u001b[0m )\n",
      "File \u001b[1;32m~\\AppData\\Roaming\\Python\\Python39\\site-packages\\torch\\autograd\\__init__.py:200\u001b[0m, in \u001b[0;36mbackward\u001b[1;34m(tensors, grad_tensors, retain_graph, create_graph, grad_variables, inputs)\u001b[0m\n\u001b[0;32m    195\u001b[0m     retain_graph \u001b[39m=\u001b[39m create_graph\n\u001b[0;32m    197\u001b[0m \u001b[39m# The reason we repeat same the comment below is that\u001b[39;00m\n\u001b[0;32m    198\u001b[0m \u001b[39m# some Python versions print out the first line of a multi-line function\u001b[39;00m\n\u001b[0;32m    199\u001b[0m \u001b[39m# calls in the traceback and some print out the last line\u001b[39;00m\n\u001b[1;32m--> 200\u001b[0m Variable\u001b[39m.\u001b[39;49m_execution_engine\u001b[39m.\u001b[39;49mrun_backward(  \u001b[39m# Calls into the C++ engine to run the backward pass\u001b[39;49;00m\n\u001b[0;32m    201\u001b[0m     tensors, grad_tensors_, retain_graph, create_graph, inputs,\n\u001b[0;32m    202\u001b[0m     allow_unreachable\u001b[39m=\u001b[39;49m\u001b[39mTrue\u001b[39;49;00m, accumulate_grad\u001b[39m=\u001b[39;49m\u001b[39mTrue\u001b[39;49;00m)\n",
      "\u001b[1;31mKeyboardInterrupt\u001b[0m: "
     ]
    }
   ],
   "source": [
    "settings = {\n",
    "    # \"performance_target\": 99,\n",
    "    \"fineTune\": False,\n",
    "    \"epochs\": 3,\n",
    "}\n",
    "\n",
    "distilled_model = distill.perform_distillation(resnet, dataset, settings)"
   ]
  },
  {
   "cell_type": "code",
   "execution_count": 33,
   "metadata": {},
   "outputs": [
    {
     "data": {
      "text/plain": [
       "ResNet(\n",
       "  (conv1): Conv2d(3, 64, kernel_size=(3, 3), stride=(1, 1), padding=(1, 1), bias=False)\n",
       "  (bn1): BatchNorm2d(64, eps=1e-05, momentum=0.1, affine=True, track_running_stats=True)\n",
       "  (layer1): Sequential(\n",
       "    (0): Bottleneck(\n",
       "      (conv1): Conv2d(64, 64, kernel_size=(1, 1), stride=(1, 1), bias=False)\n",
       "      (bn1): BatchNorm2d(64, eps=1e-05, momentum=0.1, affine=True, track_running_stats=True)\n",
       "      (conv2): Conv2d(64, 64, kernel_size=(3, 3), stride=(1, 1), padding=(1, 1), bias=False)\n",
       "      (bn2): BatchNorm2d(64, eps=1e-05, momentum=0.1, affine=True, track_running_stats=True)\n",
       "      (conv3): Conv2d(64, 256, kernel_size=(1, 1), stride=(1, 1), bias=False)\n",
       "      (bn3): BatchNorm2d(256, eps=1e-05, momentum=0.1, affine=True, track_running_stats=True)\n",
       "      (shortcut): Sequential(\n",
       "        (0): Conv2d(64, 256, kernel_size=(1, 1), stride=(1, 1), bias=False)\n",
       "        (1): BatchNorm2d(256, eps=1e-05, momentum=0.1, affine=True, track_running_stats=True)\n",
       "      )\n",
       "    )\n",
       "    (1): Bottleneck(\n",
       "      (conv1): Conv2d(256, 64, kernel_size=(1, 1), stride=(1, 1), bias=False)\n",
       "      (bn1): BatchNorm2d(64, eps=1e-05, momentum=0.1, affine=True, track_running_stats=True)\n",
       "      (conv2): Conv2d(64, 64, kernel_size=(3, 3), stride=(1, 1), padding=(1, 1), bias=False)\n",
       "      (bn2): BatchNorm2d(64, eps=1e-05, momentum=0.1, affine=True, track_running_stats=True)\n",
       "      (conv3): Conv2d(64, 256, kernel_size=(1, 1), stride=(1, 1), bias=False)\n",
       "      (bn3): BatchNorm2d(256, eps=1e-05, momentum=0.1, affine=True, track_running_stats=True)\n",
       "      (shortcut): Sequential()\n",
       "    )\n",
       "    (2): Bottleneck(\n",
       "      (conv1): Conv2d(256, 64, kernel_size=(1, 1), stride=(1, 1), bias=False)\n",
       "      (bn1): BatchNorm2d(64, eps=1e-05, momentum=0.1, affine=True, track_running_stats=True)\n",
       "      (conv2): Conv2d(64, 64, kernel_size=(3, 3), stride=(1, 1), padding=(1, 1), bias=False)\n",
       "      (bn2): BatchNorm2d(64, eps=1e-05, momentum=0.1, affine=True, track_running_stats=True)\n",
       "      (conv3): Conv2d(64, 256, kernel_size=(1, 1), stride=(1, 1), bias=False)\n",
       "      (bn3): BatchNorm2d(256, eps=1e-05, momentum=0.1, affine=True, track_running_stats=True)\n",
       "      (shortcut): Sequential()\n",
       "    )\n",
       "  )\n",
       "  (layer2): Sequential(\n",
       "    (0): Bottleneck(\n",
       "      (conv1): Conv2d(256, 128, kernel_size=(1, 1), stride=(1, 1), bias=False)\n",
       "      (bn1): BatchNorm2d(128, eps=1e-05, momentum=0.1, affine=True, track_running_stats=True)\n",
       "      (conv2): Conv2d(128, 128, kernel_size=(3, 3), stride=(2, 2), padding=(1, 1), bias=False)\n",
       "      (bn2): BatchNorm2d(128, eps=1e-05, momentum=0.1, affine=True, track_running_stats=True)\n",
       "      (conv3): Conv2d(128, 512, kernel_size=(1, 1), stride=(1, 1), bias=False)\n",
       "      (bn3): BatchNorm2d(512, eps=1e-05, momentum=0.1, affine=True, track_running_stats=True)\n",
       "      (shortcut): Sequential(\n",
       "        (0): Conv2d(256, 512, kernel_size=(1, 1), stride=(2, 2), bias=False)\n",
       "        (1): BatchNorm2d(512, eps=1e-05, momentum=0.1, affine=True, track_running_stats=True)\n",
       "      )\n",
       "    )\n",
       "    (1): Bottleneck(\n",
       "      (conv1): Conv2d(512, 128, kernel_size=(1, 1), stride=(1, 1), bias=False)\n",
       "      (bn1): BatchNorm2d(128, eps=1e-05, momentum=0.1, affine=True, track_running_stats=True)\n",
       "      (conv2): Conv2d(128, 128, kernel_size=(3, 3), stride=(1, 1), padding=(1, 1), bias=False)\n",
       "      (bn2): BatchNorm2d(128, eps=1e-05, momentum=0.1, affine=True, track_running_stats=True)\n",
       "      (conv3): Conv2d(128, 512, kernel_size=(1, 1), stride=(1, 1), bias=False)\n",
       "      (bn3): BatchNorm2d(512, eps=1e-05, momentum=0.1, affine=True, track_running_stats=True)\n",
       "      (shortcut): Sequential()\n",
       "    )\n",
       "    (2): Bottleneck(\n",
       "      (conv1): Conv2d(512, 128, kernel_size=(1, 1), stride=(1, 1), bias=False)\n",
       "      (bn1): BatchNorm2d(128, eps=1e-05, momentum=0.1, affine=True, track_running_stats=True)\n",
       "      (conv2): Conv2d(128, 128, kernel_size=(3, 3), stride=(1, 1), padding=(1, 1), bias=False)\n",
       "      (bn2): BatchNorm2d(128, eps=1e-05, momentum=0.1, affine=True, track_running_stats=True)\n",
       "      (conv3): Conv2d(128, 512, kernel_size=(1, 1), stride=(1, 1), bias=False)\n",
       "      (bn3): BatchNorm2d(512, eps=1e-05, momentum=0.1, affine=True, track_running_stats=True)\n",
       "      (shortcut): Sequential()\n",
       "    )\n",
       "    (3): Bottleneck(\n",
       "      (conv1): Conv2d(512, 128, kernel_size=(1, 1), stride=(1, 1), bias=False)\n",
       "      (bn1): BatchNorm2d(128, eps=1e-05, momentum=0.1, affine=True, track_running_stats=True)\n",
       "      (conv2): Conv2d(128, 128, kernel_size=(3, 3), stride=(1, 1), padding=(1, 1), bias=False)\n",
       "      (bn2): BatchNorm2d(128, eps=1e-05, momentum=0.1, affine=True, track_running_stats=True)\n",
       "      (conv3): Conv2d(128, 512, kernel_size=(1, 1), stride=(1, 1), bias=False)\n",
       "      (bn3): BatchNorm2d(512, eps=1e-05, momentum=0.1, affine=True, track_running_stats=True)\n",
       "      (shortcut): Sequential()\n",
       "    )\n",
       "  )\n",
       "  (layer3): Sequential(\n",
       "    (0): Bottleneck(\n",
       "      (conv1): Conv2d(512, 256, kernel_size=(1, 1), stride=(1, 1), bias=False)\n",
       "      (bn1): BatchNorm2d(256, eps=1e-05, momentum=0.1, affine=True, track_running_stats=True)\n",
       "      (conv2): Conv2d(256, 256, kernel_size=(3, 3), stride=(2, 2), padding=(1, 1), bias=False)\n",
       "      (bn2): BatchNorm2d(256, eps=1e-05, momentum=0.1, affine=True, track_running_stats=True)\n",
       "      (conv3): Conv2d(256, 1024, kernel_size=(1, 1), stride=(1, 1), bias=False)\n",
       "      (bn3): BatchNorm2d(1024, eps=1e-05, momentum=0.1, affine=True, track_running_stats=True)\n",
       "      (shortcut): Sequential(\n",
       "        (0): Conv2d(512, 1024, kernel_size=(1, 1), stride=(2, 2), bias=False)\n",
       "        (1): BatchNorm2d(1024, eps=1e-05, momentum=0.1, affine=True, track_running_stats=True)\n",
       "      )\n",
       "    )\n",
       "    (1): Bottleneck(\n",
       "      (conv1): Conv2d(1024, 256, kernel_size=(1, 1), stride=(1, 1), bias=False)\n",
       "      (bn1): BatchNorm2d(256, eps=1e-05, momentum=0.1, affine=True, track_running_stats=True)\n",
       "      (conv2): Conv2d(256, 256, kernel_size=(3, 3), stride=(1, 1), padding=(1, 1), bias=False)\n",
       "      (bn2): BatchNorm2d(256, eps=1e-05, momentum=0.1, affine=True, track_running_stats=True)\n",
       "      (conv3): Conv2d(256, 1024, kernel_size=(1, 1), stride=(1, 1), bias=False)\n",
       "      (bn3): BatchNorm2d(1024, eps=1e-05, momentum=0.1, affine=True, track_running_stats=True)\n",
       "      (shortcut): Sequential()\n",
       "    )\n",
       "    (2): Bottleneck(\n",
       "      (conv1): Conv2d(1024, 256, kernel_size=(1, 1), stride=(1, 1), bias=False)\n",
       "      (bn1): BatchNorm2d(256, eps=1e-05, momentum=0.1, affine=True, track_running_stats=True)\n",
       "      (conv2): Conv2d(256, 256, kernel_size=(3, 3), stride=(1, 1), padding=(1, 1), bias=False)\n",
       "      (bn2): BatchNorm2d(256, eps=1e-05, momentum=0.1, affine=True, track_running_stats=True)\n",
       "      (conv3): Conv2d(256, 1024, kernel_size=(1, 1), stride=(1, 1), bias=False)\n",
       "      (bn3): BatchNorm2d(1024, eps=1e-05, momentum=0.1, affine=True, track_running_stats=True)\n",
       "      (shortcut): Sequential()\n",
       "    )\n",
       "    (3): Bottleneck(\n",
       "      (conv1): Conv2d(1024, 256, kernel_size=(1, 1), stride=(1, 1), bias=False)\n",
       "      (bn1): BatchNorm2d(256, eps=1e-05, momentum=0.1, affine=True, track_running_stats=True)\n",
       "      (conv2): Conv2d(256, 256, kernel_size=(3, 3), stride=(1, 1), padding=(1, 1), bias=False)\n",
       "      (bn2): BatchNorm2d(256, eps=1e-05, momentum=0.1, affine=True, track_running_stats=True)\n",
       "      (conv3): Conv2d(256, 1024, kernel_size=(1, 1), stride=(1, 1), bias=False)\n",
       "      (bn3): BatchNorm2d(1024, eps=1e-05, momentum=0.1, affine=True, track_running_stats=True)\n",
       "      (shortcut): Sequential()\n",
       "    )\n",
       "    (4): Bottleneck(\n",
       "      (conv1): Conv2d(1024, 256, kernel_size=(1, 1), stride=(1, 1), bias=False)\n",
       "      (bn1): BatchNorm2d(256, eps=1e-05, momentum=0.1, affine=True, track_running_stats=True)\n",
       "      (conv2): Conv2d(256, 256, kernel_size=(3, 3), stride=(1, 1), padding=(1, 1), bias=False)\n",
       "      (bn2): BatchNorm2d(256, eps=1e-05, momentum=0.1, affine=True, track_running_stats=True)\n",
       "      (conv3): Conv2d(256, 1024, kernel_size=(1, 1), stride=(1, 1), bias=False)\n",
       "      (bn3): BatchNorm2d(1024, eps=1e-05, momentum=0.1, affine=True, track_running_stats=True)\n",
       "      (shortcut): Sequential()\n",
       "    )\n",
       "    (5): Bottleneck(\n",
       "      (conv1): Conv2d(1024, 256, kernel_size=(1, 1), stride=(1, 1), bias=False)\n",
       "      (bn1): BatchNorm2d(256, eps=1e-05, momentum=0.1, affine=True, track_running_stats=True)\n",
       "      (conv2): Conv2d(256, 256, kernel_size=(3, 3), stride=(1, 1), padding=(1, 1), bias=False)\n",
       "      (bn2): BatchNorm2d(256, eps=1e-05, momentum=0.1, affine=True, track_running_stats=True)\n",
       "      (conv3): Conv2d(256, 1024, kernel_size=(1, 1), stride=(1, 1), bias=False)\n",
       "      (bn3): BatchNorm2d(1024, eps=1e-05, momentum=0.1, affine=True, track_running_stats=True)\n",
       "      (shortcut): Sequential()\n",
       "    )\n",
       "  )\n",
       "  (layer4): Sequential(\n",
       "    (0): Bottleneck(\n",
       "      (conv1): Conv2d(1024, 512, kernel_size=(1, 1), stride=(1, 1), bias=False)\n",
       "      (bn1): BatchNorm2d(512, eps=1e-05, momentum=0.1, affine=True, track_running_stats=True)\n",
       "      (conv2): Conv2d(512, 512, kernel_size=(3, 3), stride=(2, 2), padding=(1, 1), bias=False)\n",
       "      (bn2): BatchNorm2d(512, eps=1e-05, momentum=0.1, affine=True, track_running_stats=True)\n",
       "      (conv3): Conv2d(512, 2048, kernel_size=(1, 1), stride=(1, 1), bias=False)\n",
       "      (bn3): BatchNorm2d(2048, eps=1e-05, momentum=0.1, affine=True, track_running_stats=True)\n",
       "      (shortcut): Sequential(\n",
       "        (0): Conv2d(1024, 2048, kernel_size=(1, 1), stride=(2, 2), bias=False)\n",
       "        (1): BatchNorm2d(2048, eps=1e-05, momentum=0.1, affine=True, track_running_stats=True)\n",
       "      )\n",
       "    )\n",
       "    (1): Bottleneck(\n",
       "      (conv1): Conv2d(2048, 512, kernel_size=(1, 1), stride=(1, 1), bias=False)\n",
       "      (bn1): BatchNorm2d(512, eps=1e-05, momentum=0.1, affine=True, track_running_stats=True)\n",
       "      (conv2): Conv2d(512, 512, kernel_size=(3, 3), stride=(1, 1), padding=(1, 1), bias=False)\n",
       "      (bn2): BatchNorm2d(512, eps=1e-05, momentum=0.1, affine=True, track_running_stats=True)\n",
       "      (conv3): Conv2d(512, 2048, kernel_size=(1, 1), stride=(1, 1), bias=False)\n",
       "      (bn3): BatchNorm2d(2048, eps=1e-05, momentum=0.1, affine=True, track_running_stats=True)\n",
       "      (shortcut): Sequential()\n",
       "    )\n",
       "    (2): Bottleneck(\n",
       "      (conv1): Conv2d(2048, 512, kernel_size=(1, 1), stride=(1, 1), bias=False)\n",
       "      (bn1): BatchNorm2d(512, eps=1e-05, momentum=0.1, affine=True, track_running_stats=True)\n",
       "      (conv2): Conv2d(512, 512, kernel_size=(3, 3), stride=(1, 1), padding=(1, 1), bias=False)\n",
       "      (bn2): BatchNorm2d(512, eps=1e-05, momentum=0.1, affine=True, track_running_stats=True)\n",
       "      (conv3): Conv2d(512, 2048, kernel_size=(1, 1), stride=(1, 1), bias=False)\n",
       "      (bn3): BatchNorm2d(2048, eps=1e-05, momentum=0.1, affine=True, track_running_stats=True)\n",
       "      (shortcut): Sequential()\n",
       "    )\n",
       "  )\n",
       "  (linear): Linear(in_features=2048, out_features=10, bias=True)\n",
       ")"
      ]
     },
     "execution_count": 33,
     "metadata": {},
     "output_type": "execute_result"
    }
   ],
   "source": [
    "resnet"
   ]
  },
  {
   "cell_type": "code",
   "execution_count": null,
   "metadata": {},
   "outputs": [],
   "source": []
  }
 ],
 "metadata": {
  "kernelspec": {
   "display_name": "pytorch",
   "language": "python",
   "name": "python3"
  },
  "language_info": {
   "codemirror_mode": {
    "name": "ipython",
    "version": 3
   },
   "file_extension": ".py",
   "mimetype": "text/x-python",
   "name": "python",
   "nbconvert_exporter": "python",
   "pygments_lexer": "ipython3",
   "version": "3.8.13"
  },
  "orig_nbformat": 4
 },
 "nbformat": 4,
 "nbformat_minor": 2
}
